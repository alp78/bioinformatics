{
 "cells": [
  {
   "cell_type": "code",
   "execution_count": 1,
   "metadata": {},
   "outputs": [],
   "source": [
    "import pyensembl\n",
    "from pyensembl import Genome\n",
    "import pandas as pd\n",
    "import csv\n",
    "import pymysql"
   ]
  },
  {
   "cell_type": "code",
   "execution_count": 12,
   "metadata": {},
   "outputs": [],
   "source": [
    "# PYENSEMBL\n",
    "# https://buildmedia.readthedocs.org/media/pdf/pyensembl/latest/pyensembl.pdf"
   ]
  },
  {
   "cell_type": "markdown",
   "metadata": {},
   "source": [
    "#### Import reference GTF to retrieve genes names by coordinates"
   ]
  },
  {
   "cell_type": "code",
   "execution_count": 2,
   "metadata": {},
   "outputs": [],
   "source": [
    "# wget ftp://ftp.ensembl.org/pub/release-98/gtf/homo_sapiens/Homo_sapiens.GRCh38.98.gtf.gz\n",
    "data = Genome(reference_name='GRCh38', annotation_name='98', gtf_path_or_url='REF/Homo_sapiens.GRCh38.98.gtf')"
   ]
  },
  {
   "cell_type": "code",
   "execution_count": 3,
   "metadata": {},
   "outputs": [],
   "source": [
    "# only if index is not built already -> saved in current folder\n",
    "# data.index()"
   ]
  },
  {
   "cell_type": "code",
   "execution_count": 3,
   "metadata": {},
   "outputs": [
    {
     "data": {
      "text/plain": [
       "['MTATP6P1', 'MTATP8P1', 'MTCO1P12', 'MTCO2P12', 'MTCO3P12']"
      ]
     },
     "execution_count": 3,
     "metadata": {},
     "output_type": "execute_result"
    }
   ],
   "source": [
    "# Pysensembl function to retrieve gene name from coordinates\n",
    "data.gene_names_at_locus(contig=1, position=630755, end=634922, strand='+') "
   ]
  },
  {
   "cell_type": "code",
   "execution_count": 4,
   "metadata": {},
   "outputs": [
    {
     "data": {
      "text/plain": [
       "['ENSG00000237613']"
      ]
     },
     "execution_count": 4,
     "metadata": {},
     "output_type": "execute_result"
    }
   ],
   "source": [
    "# Pyensembl function retrieves gene ID from name\n",
    "data.gene_ids_of_gene_name('FAM138A')"
   ]
  },
  {
   "cell_type": "code",
   "execution_count": 22,
   "metadata": {},
   "outputs": [
    {
     "data": {
      "text/plain": [
       "'AC010336.2'"
      ]
     },
     "execution_count": 22,
     "metadata": {},
     "output_type": "execute_result"
    }
   ],
   "source": [
    "# Pyensembl function retrieves gene name from ID\n",
    "data.gene_name_of_gene_id('ENSG00000260500')"
   ]
  },
  {
   "cell_type": "code",
   "execution_count": 6,
   "metadata": {},
   "outputs": [
    {
     "data": {
      "text/plain": [
       "'FAM138A'"
      ]
     },
     "execution_count": 6,
     "metadata": {},
     "output_type": "execute_result"
    }
   ],
   "source": [
    "# Pyensembl function retrieves gene SYMBOL from TX_ID\n",
    "data.gene_name_of_transcript_id('ENST00000461467')"
   ]
  },
  {
   "cell_type": "code",
   "execution_count": 7,
   "metadata": {},
   "outputs": [
    {
     "data": {
      "text/plain": [
       "'FAM138A'"
      ]
     },
     "execution_count": 7,
     "metadata": {},
     "output_type": "execute_result"
    }
   ],
   "source": [
    "# Pyensembl function retrieves gene SYMBOL from TX_NAMES\n",
    "data.gene_name_of_transcript_name('FAM138A-202')"
   ]
  },
  {
   "cell_type": "code",
   "execution_count": 8,
   "metadata": {},
   "outputs": [
    {
     "data": {
      "text/plain": [
       "'FAM138A-202'"
      ]
     },
     "execution_count": 8,
     "metadata": {},
     "output_type": "execute_result"
    }
   ],
   "source": [
    "# Pyensembl function retrieves TX_NAME from TX_ID\n",
    "data.transcript_name_of_transcript_id('ENST00000461467')"
   ]
  },
  {
   "cell_type": "markdown",
   "metadata": {},
   "source": [
    "# SALMON"
   ]
  },
  {
   "cell_type": "markdown",
   "metadata": {},
   "source": [
    "### A) ddsSE (after TXIMETA): get genes symbols and transcripts names"
   ]
  },
  {
   "cell_type": "code",
   "execution_count": 4,
   "metadata": {},
   "outputs": [
    {
     "name": "stdout",
     "output_type": "stream",
     "text": [
      "Filled 67111 genes symbols, still 0 remain unknown\n"
     ]
    }
   ],
   "source": [
    "# read TX_ID/GENE_ID list, strip decimals, retrieve corresponding gene symbol and tx_name, add symbols column, export\n",
    "tx2gene_df = pd.read_csv('SALMON_TEMP/TXIMETA_salmon_txIdList_ddsSE.txt', \n",
    "                         sep='\\t', \n",
    "                         skiprows=(0), \n",
    "                         header=(0))\n",
    "ti_list = []\n",
    "tn_list = []\n",
    "gi_list = []\n",
    "gn_list = []\n",
    "i=0\n",
    "j=0\n",
    "for idx, row in tx2gene_df.iterrows():\n",
    "    gene_symbol = ''\n",
    "    new_tx = row['TX_ID'].split('.')[0]\n",
    "    ti_list.append(new_tx)\n",
    "    tx_name = data.transcript_name_of_transcript_id(new_tx)\n",
    "    tn_list.append(tx_name)\n",
    "    new_ga = row['GENE_ID'].split('.')[0]\n",
    "    gi_list.append(new_ga)\n",
    "    gene_symbol = data.gene_name_of_gene_id(new_ga)\n",
    "    if gene_symbol != '':\n",
    "        i+=1\n",
    "        gn_list.append(gene_symbol)\n",
    "    else:\n",
    "        j+=1\n",
    "        gs_list.append('.')\n",
    "tx2gene_df['TX_ID'] = ti_list\n",
    "tx2gene_df['TX_NAME'] = tn_list\n",
    "tx2gene_df['GENE_ID'] = gi_list\n",
    "tx2gene_df['GENE_NAME'] = gn_list\n",
    "tx2gene_df = tx2gene_df[['TX_ID', 'TX_NAME', 'GENE_ID', 'GENE_NAME']]\n",
    "tx2gene_df.to_csv('SALMON_TEMP/TXIMETA_salmon_txIdList_ddsSE_OK.txt', \n",
    "                  sep='\\t', \n",
    "                  index=False)\n",
    "print(f'Filled {i} genes symbols, still {j} remain unknown')"
   ]
  },
  {
   "cell_type": "markdown",
   "metadata": {},
   "source": [
    "### B) cts DTU (after TXIMPORT): get TX_NAME and GENE_ID"
   ]
  },
  {
   "cell_type": "code",
   "execution_count": 3,
   "metadata": {},
   "outputs": [
    {
     "name": "stdout",
     "output_type": "stream",
     "text": [
      "Filled 70781 genes IDs, still 0 remain unknown\n"
     ]
    }
   ],
   "source": [
    "id2genes_df = pd.read_csv(\"SALMON_TEMP/TXIMPORT_salmon_txID_dtu.txt\", \n",
    "                          sep='\\t', \n",
    "                          skiprows=(0), \n",
    "                          header=(0))\n",
    "i = 0\n",
    "j = 0\n",
    "gn_list = []\n",
    "ga_list = []\n",
    "tx_list = []\n",
    "for idx, row in id2genes_df.iterrows():\n",
    "    txname = ''\n",
    "    txname = data.transcript_name_of_transcript_id(row['TX_ID'].split('.')[0])\n",
    "    gname = '' \n",
    "    gname = data.gene_name_of_transcript_id(row['TX_ID'].split('.')[0])\n",
    "    gnid = ''\n",
    "    gnid = data.gene_ids_of_gene_name(gname)[0]\n",
    "    if gnid != '':\n",
    "        i+=1\n",
    "    else:\n",
    "        j+=1\n",
    "    tx_list.append(txname)\n",
    "    ga_list.append(gnid)\n",
    "    gn_list.append(gname)\n",
    "id2genes_df['TX_NAME'] = tx_list\n",
    "id2genes_df['GENE_NAME'] = gn_list\n",
    "id2genes_df['GENE_ID'] = ga_list\n",
    "id2genes_df.to_csv(\"SALMON_TEMP/TXIMPORT_salmon_txID_dtu_OK.txt\", \n",
    "                   sep='\\t', \n",
    "                   index=False)\n",
    "print(f'Filled {i} genes IDs, still {j} remain unknown')"
   ]
  },
  {
   "cell_type": "markdown",
   "metadata": {},
   "source": [
    "### C) dds_salmon (after TXIMPORT): get genes symbols\n"
   ]
  },
  {
   "cell_type": "code",
   "execution_count": 15,
   "metadata": {},
   "outputs": [
    {
     "name": "stdout",
     "output_type": "stream",
     "text": [
      "Filled 25134 genes symbols, still 0 remain unknown\n"
     ]
    }
   ],
   "source": [
    "id2genes_df = pd.read_csv(\"SALMON_TEMP/TXIMPORT_salmon_geneID_dds.txt\", \n",
    "                          sep='\\t', \n",
    "                          skiprows=(0), \n",
    "                          header=(0))\n",
    "i = 0\n",
    "j = 0\n",
    "gn_list = []\n",
    "ga_list = []\n",
    "for idx, row in id2genes_df.iterrows():\n",
    "    gid = row['GENE_ID'].split('.')[0]\n",
    "    gname = ''\n",
    "    gname = data.gene_name_of_gene_id(gid)\n",
    "    if gname != '':\n",
    "        i+=1\n",
    "    else:\n",
    "        j+=1\n",
    "    ga_list.append(gid)\n",
    "    gn_list.append(gname)\n",
    "id2genes_df['GENE_NAME'] = gn_list\n",
    "id2genes_df['GENE_ID'] = ga_list\n",
    "id2genes_df.to_csv(\"SALMON_TEMP/TXIMPORT_salmon_geneID_dds_OK.txt\", \n",
    "                   sep='\\t', \n",
    "                   index=False)\n",
    "print(f'Filled {i} genes symbols, still {j} remain unknown')"
   ]
  },
  {
   "cell_type": "markdown",
   "metadata": {},
   "source": [
    "### D) DGE / DTE / DGU"
   ]
  },
  {
   "cell_type": "code",
   "execution_count": 14,
   "metadata": {},
   "outputs": [
    {
     "name": "stdout",
     "output_type": "stream",
     "text": [
      "ENSG00000273000\n",
      "ENSG00000228439\n",
      "Filled 1499 genes symbols, still 0 remain unknown\n"
     ]
    }
   ],
   "source": [
    "id2genes_df = pd.read_csv(\"SALMON_TEMP/DEXSeq_geneID_DTU.txt\", \n",
    "                          sep='\\t', \n",
    "                          skiprows=(0), \n",
    "                          header=(0))\n",
    "i = 0\n",
    "j = 0\n",
    "gn_list = []\n",
    "ga_list = []\n",
    "for idx, row in id2genes_df.iterrows():\n",
    "    gid = row['GENE_ID'].split('.')[0]\n",
    "    gname = ''\n",
    "    try:\n",
    "        data.gene_name_of_gene_id(gid)\n",
    "    except:\n",
    "        print(gid)\n",
    "        ga_list.append(gid)\n",
    "        gn_list.append(gid)\n",
    "        #id2genes_df.drop(idx, inplace=True)\n",
    "    else:\n",
    "        gname = data.gene_name_of_gene_id(gid)\n",
    "        if gname != '':\n",
    "            i+=1\n",
    "        else:\n",
    "            j+=1\n",
    "        ga_list.append(gid)\n",
    "        gn_list.append(gname)\n",
    "id2genes_df['GENE_NAME'] = gn_list\n",
    "id2genes_df['GENE_ID'] = ga_list\n",
    "id2genes_df.to_csv(\"SALMON_TEMP/DEXSeq_geneID_DTU_OK.txt\", \n",
    "                   sep='\\t', \n",
    "                   index=False)\n",
    "print(f'Filled {i} genes symbols, still {j} remain unknown')"
   ]
  },
  {
   "cell_type": "markdown",
   "metadata": {},
   "source": [
    "### E) Karyotype plot"
   ]
  },
  {
   "cell_type": "code",
   "execution_count": 4,
   "metadata": {},
   "outputs": [
    {
     "name": "stdout",
     "output_type": "stream",
     "text": [
      "Filled 45 genes symbols, still 0 remain unknown\n"
     ]
    }
   ],
   "source": [
    "id2genes_df = pd.read_csv(\"SALMON_TEMP/Karyo_geneIDs.txt\", \n",
    "                          sep='\\t', \n",
    "                          skiprows=(0), \n",
    "                          header=(0))\n",
    "i = 0\n",
    "j = 0\n",
    "gn_list = []\n",
    "ga_list = []\n",
    "for idx, row in id2genes_df.iterrows():\n",
    "    gid = row['GENE_ID'].split('.')[0]\n",
    "    gname = ''\n",
    "    try:\n",
    "        data.gene_name_of_gene_id(gid)\n",
    "    except:\n",
    "        print(gid)\n",
    "        ga_list.append(gid)\n",
    "        gn_list.append(gid)\n",
    "        #id2genes_df.drop(idx, inplace=True)\n",
    "    else:\n",
    "        gname = data.gene_name_of_gene_id(gid)\n",
    "        if gname != '':\n",
    "            i+=1\n",
    "        else:\n",
    "            j+=1\n",
    "        ga_list.append(gid)\n",
    "        gn_list.append(gname)\n",
    "id2genes_df['GENE_NAME'] = gn_list\n",
    "id2genes_df['GENE_ID'] = ga_list\n",
    "id2genes_df.to_csv(\"SALMON_TEMP/Karyo_geneIDs_OK.txt\", \n",
    "                   sep='\\t', \n",
    "                   index=False)\n",
    "print(f'Filled {i} genes symbols, still {j} remain unknown')"
   ]
  },
  {
   "cell_type": "markdown",
   "metadata": {},
   "source": [
    "### F) dge LIMMA "
   ]
  },
  {
   "cell_type": "code",
   "execution_count": 16,
   "metadata": {},
   "outputs": [
    {
     "name": "stdout",
     "output_type": "stream",
     "text": [
      "Filled 14239 genes symbols, still 0 remain unknown\n"
     ]
    }
   ],
   "source": [
    "id2genes_df = pd.read_csv(\"SALMON_TEMP/LIMMA_salmon_id2genes.txt\", sep='\\t', skiprows=(0), header=(0))\n",
    "i = 0\n",
    "j = 0\n",
    "gn_list = []\n",
    "for idx, row in id2genes_df.iterrows():\n",
    "    gname = ''\n",
    "    gname = data.gene_name_of_gene_id(row['GENE_ID'])\n",
    "    if gname != '':\n",
    "        i+=1\n",
    "    else:\n",
    "        j+=1\n",
    "    gn_list.append(gname)\n",
    "id2genes_df['GENE_NAME'] = gn_list\n",
    "id2genes_df.to_csv(\"SALMON_TEMP/LIMMA_salmon_id2genes_OK.txt\", sep='\\t', index=False)\n",
    "print(f'Filled {i} genes symbols, still {j} remain unknown')"
   ]
  },
  {
   "cell_type": "code",
   "execution_count": null,
   "metadata": {},
   "outputs": [],
   "source": []
  }
 ],
 "metadata": {
  "kernelspec": {
   "display_name": "Python 3",
   "language": "python",
   "name": "python3"
  },
  "language_info": {
   "codemirror_mode": {
    "name": "ipython",
    "version": 3
   },
   "file_extension": ".py",
   "mimetype": "text/x-python",
   "name": "python",
   "nbconvert_exporter": "python",
   "pygments_lexer": "ipython3",
   "version": "3.6.7"
  }
 },
 "nbformat": 4,
 "nbformat_minor": 2
}
