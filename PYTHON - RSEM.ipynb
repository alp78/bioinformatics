{
 "cells": [
  {
   "cell_type": "code",
   "execution_count": 1,
   "metadata": {},
   "outputs": [],
   "source": [
    "import pyensembl\n",
    "from pyensembl import Genome\n",
    "import pandas as pd\n",
    "import csv\n",
    "import pymysql\n",
    "import operator\n",
    "import time\n",
    "import datetime\n",
    "from termcolor import colored\n",
    "import math"
   ]
  },
  {
   "cell_type": "markdown",
   "metadata": {},
   "source": [
    "#### Import reference GTF to retrieve genes names by coordinates"
   ]
  },
  {
   "cell_type": "code",
   "execution_count": 2,
   "metadata": {},
   "outputs": [],
   "source": [
    "# wget ftp://ftp.ensembl.org/pub/release-98/gtf/homo_sapiens/Homo_sapiens.GRCh38.98.gtf.gz\n",
    "data = Genome(reference_name='GRCh38', annotation_name='98', gtf_path_or_url='REF/Homo_sapiens.GRCh38.98.gtf')"
   ]
  },
  {
   "cell_type": "code",
   "execution_count": 3,
   "metadata": {},
   "outputs": [],
   "source": [
    "# only if index is not built already -> saved in current folder\n",
    "# data.index()"
   ]
  },
  {
   "cell_type": "code",
   "execution_count": 3,
   "metadata": {},
   "outputs": [
    {
     "data": {
      "text/plain": [
       "['MTATP6P1', 'MTATP8P1', 'MTCO1P12', 'MTCO2P12', 'MTCO3P12']"
      ]
     },
     "execution_count": 3,
     "metadata": {},
     "output_type": "execute_result"
    }
   ],
   "source": [
    "# Pysensembl function to retrieve gene name from coordinates\n",
    "data.gene_names_at_locus(contig=1, position=630755, end=634922, strand='+') "
   ]
  },
  {
   "cell_type": "code",
   "execution_count": null,
   "metadata": {},
   "outputs": [],
   "source": [
    "# Pyensembl function retrieves gene name from ID\n",
    "data.gene_name_of_gene_id('ENSG00000260500')"
   ]
  },
  {
   "cell_type": "markdown",
   "metadata": {},
   "source": [
    "## RSEM TXIMPORT - get genes symbols"
   ]
  },
  {
   "cell_type": "markdown",
   "metadata": {},
   "source": [
    "### DESeq2"
   ]
  },
  {
   "cell_type": "code",
   "execution_count": 7,
   "metadata": {},
   "outputs": [
    {
     "name": "stdout",
     "output_type": "stream",
     "text": [
      "Filled 26279 genes symbols, still 0 remain unknown\n"
     ]
    }
   ],
   "source": [
    "id2genes_df = pd.read_csv(\"RSEM_TEMP/rsem_geneID_dds.txt\", sep='\\t', skiprows=(0), header=(0))\n",
    "i = 0\n",
    "j = 0\n",
    "gn_list = []\n",
    "for idx, row in id2genes_df.iterrows():\n",
    "    gname = ''\n",
    "    gname = data.gene_name_of_gene_id(row['GENE_ID'].split('.')[0])\n",
    "    if gname != '':\n",
    "        i+=1\n",
    "    else:\n",
    "        j+=1\n",
    "    gn_list.append(gname)\n",
    "id2genes_df['GENE_NAME'] = gn_list\n",
    "id2genes_df.to_csv(\"RSEM_TEMP/rsem_geneID_dds_OK.txt\", sep='\\t', index=False)\n",
    "print(f'Filled {i} genes symbols, still {j} remain unknown')"
   ]
  },
  {
   "cell_type": "markdown",
   "metadata": {},
   "source": [
    "### LIMMA"
   ]
  },
  {
   "cell_type": "code",
   "execution_count": 9,
   "metadata": {},
   "outputs": [
    {
     "name": "stdout",
     "output_type": "stream",
     "text": [
      "Filled 22875 genes symbols, still 0 remain unknown\n"
     ]
    }
   ],
   "source": [
    "id2genes_df = pd.read_csv(\"RSEM_TEMP/LIMMA_rsem_id2genes.txt\", sep='\\t', skiprows=(0), header=(0))\n",
    "i = 0\n",
    "j = 0\n",
    "gn_list = []\n",
    "for idx, row in id2genes_df.iterrows():\n",
    "    gname = ''\n",
    "    gname = data.gene_name_of_gene_id(row['GENE_ID'])\n",
    "    if gname != '':\n",
    "        i+=1\n",
    "    else:\n",
    "        j+=1\n",
    "    gn_list.append(gname)\n",
    "id2genes_df['GENE_NAME'] = gn_list\n",
    "id2genes_df.to_csv(\"RSEM_TEMP/LIMMA_rsem_id2genes_OK.txt\", sep='\\t', index=False)\n",
    "print(f'Filled {i} genes symbols, still {j} remain unknown')"
   ]
  },
  {
   "cell_type": "code",
   "execution_count": null,
   "metadata": {},
   "outputs": [],
   "source": []
  },
  {
   "cell_type": "markdown",
   "metadata": {},
   "source": [
    "# RSEM matrices preprocessing"
   ]
  },
  {
   "cell_type": "code",
   "execution_count": 36,
   "metadata": {},
   "outputs": [],
   "source": [
    "df_rsem_mat = pd.read_csv('RSEM_RES/GeneMat.de.txt', sep='\\t', skiprows=(0), header=(0))"
   ]
  },
  {
   "cell_type": "code",
   "execution_count": 37,
   "metadata": {},
   "outputs": [
    {
     "data": {
      "text/html": [
       "<div>\n",
       "<style scoped>\n",
       "    .dataframe tbody tr th:only-of-type {\n",
       "        vertical-align: middle;\n",
       "    }\n",
       "\n",
       "    .dataframe tbody tr th {\n",
       "        vertical-align: top;\n",
       "    }\n",
       "\n",
       "    .dataframe thead th {\n",
       "        text-align: right;\n",
       "    }\n",
       "</style>\n",
       "<table border=\"1\" class=\"dataframe\">\n",
       "  <thead>\n",
       "    <tr style=\"text-align: right;\">\n",
       "      <th></th>\n",
       "      <th>PPEE</th>\n",
       "      <th>PPDE</th>\n",
       "      <th>PostFC</th>\n",
       "      <th>RealFC</th>\n",
       "      <th>C1Mean</th>\n",
       "      <th>C2Mean</th>\n",
       "    </tr>\n",
       "  </thead>\n",
       "  <tbody>\n",
       "    <tr>\n",
       "      <th>ENSG00000087494</th>\n",
       "      <td>0.0</td>\n",
       "      <td>1.0</td>\n",
       "      <td>0.006978</td>\n",
       "      <td>0.000453</td>\n",
       "      <td>0.00000</td>\n",
       "      <td>22.071668</td>\n",
       "    </tr>\n",
       "    <tr>\n",
       "      <th>ENSG00000106536</th>\n",
       "      <td>0.0</td>\n",
       "      <td>1.0</td>\n",
       "      <td>133.230978</td>\n",
       "      <td>2051.903969</td>\n",
       "      <td>20.50904</td>\n",
       "      <td>0.000000</td>\n",
       "    </tr>\n",
       "    <tr>\n",
       "      <th>ENSG00000109956</th>\n",
       "      <td>0.0</td>\n",
       "      <td>1.0</td>\n",
       "      <td>0.009233</td>\n",
       "      <td>0.000600</td>\n",
       "      <td>0.00000</td>\n",
       "      <td>16.643234</td>\n",
       "    </tr>\n",
       "    <tr>\n",
       "      <th>ENSG00000115590</th>\n",
       "      <td>0.0</td>\n",
       "      <td>1.0</td>\n",
       "      <td>0.005795</td>\n",
       "      <td>0.000376</td>\n",
       "      <td>0.00000</td>\n",
       "      <td>26.609493</td>\n",
       "    </tr>\n",
       "    <tr>\n",
       "      <th>ENSG00000124092</th>\n",
       "      <td>0.0</td>\n",
       "      <td>1.0</td>\n",
       "      <td>0.005281</td>\n",
       "      <td>0.000342</td>\n",
       "      <td>0.00000</td>\n",
       "      <td>29.214707</td>\n",
       "    </tr>\n",
       "  </tbody>\n",
       "</table>\n",
       "</div>"
      ],
      "text/plain": [
       "                 PPEE  PPDE      PostFC       RealFC    C1Mean     C2Mean\n",
       "ENSG00000087494   0.0   1.0    0.006978     0.000453   0.00000  22.071668\n",
       "ENSG00000106536   0.0   1.0  133.230978  2051.903969  20.50904   0.000000\n",
       "ENSG00000109956   0.0   1.0    0.009233     0.000600   0.00000  16.643234\n",
       "ENSG00000115590   0.0   1.0    0.005795     0.000376   0.00000  26.609493\n",
       "ENSG00000124092   0.0   1.0    0.005281     0.000342   0.00000  29.214707"
      ]
     },
     "execution_count": 37,
     "metadata": {},
     "output_type": "execute_result"
    }
   ],
   "source": [
    "df_rsem_mat.head()"
   ]
  },
  {
   "cell_type": "code",
   "execution_count": 38,
   "metadata": {},
   "outputs": [],
   "source": [
    "ensembl_rsem = list(df_rsem_mat.index)"
   ]
  },
  {
   "cell_type": "code",
   "execution_count": 39,
   "metadata": {},
   "outputs": [],
   "source": [
    "# Query pyensembl to get gene symbols (if exists and unique)\n",
    "genes_list = []\n",
    "for accession in ensembl_rsem:\n",
    "    name = data.gene_name_of_gene_id(accession)\n",
    "    genes_list.append(name)"
   ]
  },
  {
   "cell_type": "code",
   "execution_count": 40,
   "metadata": {},
   "outputs": [
    {
     "data": {
      "text/plain": [
       "(602, 602)"
      ]
     },
     "execution_count": 40,
     "metadata": {},
     "output_type": "execute_result"
    }
   ],
   "source": [
    "len(ensembl_rsem), len(genes_list)"
   ]
  },
  {
   "cell_type": "code",
   "execution_count": 41,
   "metadata": {},
   "outputs": [],
   "source": [
    "df_rsem_mat.index = genes_list"
   ]
  },
  {
   "cell_type": "code",
   "execution_count": 44,
   "metadata": {},
   "outputs": [],
   "source": [
    "df_rsem_mat.to_csv('RSEM_RES/GeneMat.de.txt', sep='\\t', index=True)"
   ]
  },
  {
   "cell_type": "code",
   "execution_count": 45,
   "metadata": {},
   "outputs": [],
   "source": [
    "## second matrix from Jupyter"
   ]
  },
  {
   "cell_type": "code",
   "execution_count": 46,
   "metadata": {},
   "outputs": [],
   "source": [
    "df_rsem_mat = pd.read_csv('RSEM_RES/EBSeq_PPMat.txt', sep='\\t', skiprows=(0), header=(0))\n",
    "ensembl_rsem = list(df_rsem_mat.index)\n",
    "genes_list = []\n",
    "for accession in ensembl_rsem:\n",
    "    name = data.gene_name_of_gene_id(accession)\n",
    "    genes_list.append(name)\n",
    "df_rsem_mat.index = genes_list\n",
    "df_rsem_mat.to_csv('RSEM_RES/EBSeq_PPMat.txt', sep='\\t', index=True)"
   ]
  },
  {
   "cell_type": "markdown",
   "metadata": {},
   "source": [
    "#### operation to map genes names to each isoform for EBSeq"
   ]
  },
  {
   "cell_type": "code",
   "execution_count": 51,
   "metadata": {},
   "outputs": [],
   "source": [
    "# load any genes.results file\n",
    "df_rsem_genes_res = pd.read_csv('CTH/RSEM/RNA2498/RS_RNA2498.genes.results', sep='\\t', skiprows=(0), header=(0))"
   ]
  },
  {
   "cell_type": "code",
   "execution_count": 52,
   "metadata": {},
   "outputs": [
    {
     "data": {
      "text/plain": [
       "60623"
      ]
     },
     "execution_count": 52,
     "metadata": {},
     "output_type": "execute_result"
    }
   ],
   "source": [
    "# extract genes names list\n",
    "genes_list = list(df_rsem_genes_res['gene_id'])\n",
    "len(genes_list)"
   ]
  },
  {
   "cell_type": "code",
   "execution_count": 53,
   "metadata": {},
   "outputs": [
    {
     "data": {
      "text/plain": [
       "['ENSG00000000003', 'ENSG00000000005', 'ENSG00000000419']"
      ]
     },
     "execution_count": 53,
     "metadata": {},
     "output_type": "execute_result"
    }
   ],
   "source": [
    "genes_list[:3]"
   ]
  },
  {
   "cell_type": "code",
   "execution_count": 54,
   "metadata": {},
   "outputs": [
    {
     "data": {
      "text/plain": [
       "60623"
      ]
     },
     "execution_count": 54,
     "metadata": {},
     "output_type": "execute_result"
    }
   ],
   "source": [
    "# extract transcripts names list\n",
    "transcripts_list = list(df_rsem_genes_res['transcript_id(s)'])\n",
    "len(transcripts_list)"
   ]
  },
  {
   "cell_type": "code",
   "execution_count": 55,
   "metadata": {},
   "outputs": [
    {
     "data": {
      "text/plain": [
       "60623"
      ]
     },
     "execution_count": 55,
     "metadata": {},
     "output_type": "execute_result"
    }
   ],
   "source": [
    "# create a list of lists of isoforms names, each mapping to a gene name\n",
    "trans_list = []\n",
    "for row in transcripts_list:\n",
    "    sub_list = row.split(',')\n",
    "    trans_list.append(sub_list)\n",
    "len(trans_list)"
   ]
  },
  {
   "cell_type": "code",
   "execution_count": 56,
   "metadata": {},
   "outputs": [
    {
     "data": {
      "text/plain": [
       "[['ENST00000373020',\n",
       "  'ENST00000494424',\n",
       "  'ENST00000496771',\n",
       "  'ENST00000612152',\n",
       "  'ENST00000614008'],\n",
       " ['ENST00000373031', 'ENST00000485971'],\n",
       " ['ENST00000371582',\n",
       "  'ENST00000371584',\n",
       "  'ENST00000371588',\n",
       "  'ENST00000413082',\n",
       "  'ENST00000466152',\n",
       "  'ENST00000494752']]"
      ]
     },
     "execution_count": 56,
     "metadata": {},
     "output_type": "execute_result"
    }
   ],
   "source": [
    "trans_list[:3]"
   ]
  },
  {
   "cell_type": "code",
   "execution_count": 59,
   "metadata": {},
   "outputs": [],
   "source": [
    "# dictionary of gene names (key) each containing a list of isoform names (value)\n",
    "names_dic = {}\n",
    "for i in range(len(trans_list)):\n",
    "    names_dic[genes_list[i]] = trans_list[i]"
   ]
  },
  {
   "cell_type": "code",
   "execution_count": 69,
   "metadata": {},
   "outputs": [
    {
     "data": {
      "text/plain": [
       "60623"
      ]
     },
     "execution_count": 69,
     "metadata": {},
     "output_type": "execute_result"
    }
   ],
   "source": [
    "len(names_dic)"
   ]
  },
  {
   "cell_type": "code",
   "execution_count": 63,
   "metadata": {},
   "outputs": [],
   "source": [
    "# load the isoform names exported from R\n",
    "df_iso_names = pd.read_csv('RSEM_RES/isoforms_names.csv', sep=',', skiprows=(0), header=(0))"
   ]
  },
  {
   "cell_type": "code",
   "execution_count": 65,
   "metadata": {},
   "outputs": [],
   "source": [
    "iso_names_list = list(df_iso_names['x'])"
   ]
  },
  {
   "cell_type": "code",
   "execution_count": 66,
   "metadata": {},
   "outputs": [
    {
     "data": {
      "text/plain": [
       "['ENST00000371582', 'ENST00000371584', 'ENST00000371588']"
      ]
     },
     "execution_count": 66,
     "metadata": {},
     "output_type": "execute_result"
    }
   ],
   "source": [
    "iso_names_list[:3]"
   ]
  },
  {
   "cell_type": "code",
   "execution_count": 80,
   "metadata": {},
   "outputs": [
    {
     "data": {
      "text/plain": [
       "110310"
      ]
     },
     "execution_count": 80,
     "metadata": {},
     "output_type": "execute_result"
    }
   ],
   "source": [
    "len(iso_names_list)"
   ]
  },
  {
   "cell_type": "code",
   "execution_count": 78,
   "metadata": {},
   "outputs": [],
   "source": [
    "# create a list of genes names that correspond to their isoforms names\n",
    "# by looking into the reference dictionary\n",
    "map_genes_list = []\n",
    "for trans in iso_names_list:\n",
    "    for key, value in names_dic.items():\n",
    "        if trans in value:\n",
    "            map_genes_list.append(key)\n",
    "            break"
   ]
  },
  {
   "cell_type": "code",
   "execution_count": 79,
   "metadata": {},
   "outputs": [
    {
     "data": {
      "text/plain": [
       "110310"
      ]
     },
     "execution_count": 79,
     "metadata": {},
     "output_type": "execute_result"
    }
   ],
   "source": [
    "len(map_genes_list)"
   ]
  },
  {
   "cell_type": "code",
   "execution_count": 86,
   "metadata": {},
   "outputs": [],
   "source": [
    "# exporting the list for further processing in R\n",
    "with open('RSEM_RES/genes_names_map.txt', 'w') as outfile:\n",
    "    for line in map_genes_list:\n",
    "        outfile.write(line + '\\n')"
   ]
  },
  {
   "cell_type": "markdown",
   "metadata": {},
   "source": [
    "# LIMMA Post-processing"
   ]
  },
  {
   "cell_type": "code",
   "execution_count": 20,
   "metadata": {},
   "outputs": [],
   "source": [
    "limma_df = pd.read_csv('RSEM_RES/Limma_results_2.txt', sep='\\t', skiprows=(0), header=(0))"
   ]
  },
  {
   "cell_type": "code",
   "execution_count": 21,
   "metadata": {},
   "outputs": [
    {
     "data": {
      "text/html": [
       "<div>\n",
       "<style scoped>\n",
       "    .dataframe tbody tr th:only-of-type {\n",
       "        vertical-align: middle;\n",
       "    }\n",
       "\n",
       "    .dataframe tbody tr th {\n",
       "        vertical-align: top;\n",
       "    }\n",
       "\n",
       "    .dataframe thead th {\n",
       "        text-align: right;\n",
       "    }\n",
       "</style>\n",
       "<table border=\"1\" class=\"dataframe\">\n",
       "  <thead>\n",
       "    <tr style=\"text-align: right;\">\n",
       "      <th></th>\n",
       "      <th>A</th>\n",
       "      <th>Coef.C</th>\n",
       "      <th>Coef.T</th>\n",
       "      <th>t.C</th>\n",
       "      <th>t.T</th>\n",
       "      <th>p.value.C</th>\n",
       "      <th>p.value.T</th>\n",
       "      <th>Res.C</th>\n",
       "      <th>Res.T</th>\n",
       "    </tr>\n",
       "  </thead>\n",
       "  <tbody>\n",
       "    <tr>\n",
       "      <th>ENSG00000000419</th>\n",
       "      <td>3.513789</td>\n",
       "      <td>3.395900</td>\n",
       "      <td>3.620530</td>\n",
       "      <td>21.349769</td>\n",
       "      <td>23.493761</td>\n",
       "      <td>2.050865e-14</td>\n",
       "      <td>3.959232e-15</td>\n",
       "      <td>1</td>\n",
       "      <td>1</td>\n",
       "    </tr>\n",
       "    <tr>\n",
       "      <th>ENSG00000000457</th>\n",
       "      <td>3.820349</td>\n",
       "      <td>3.779152</td>\n",
       "      <td>3.878203</td>\n",
       "      <td>23.238564</td>\n",
       "      <td>23.547194</td>\n",
       "      <td>4.779373e-15</td>\n",
       "      <td>3.807343e-15</td>\n",
       "      <td>1</td>\n",
       "      <td>1</td>\n",
       "    </tr>\n",
       "    <tr>\n",
       "      <th>ENSG00000000460</th>\n",
       "      <td>3.175358</td>\n",
       "      <td>3.023527</td>\n",
       "      <td>3.338193</td>\n",
       "      <td>12.608922</td>\n",
       "      <td>14.843542</td>\n",
       "      <td>1.340610e-10</td>\n",
       "      <td>9.384541e-12</td>\n",
       "      <td>1</td>\n",
       "      <td>1</td>\n",
       "    </tr>\n",
       "    <tr>\n",
       "      <th>ENSG00000000938</th>\n",
       "      <td>7.038729</td>\n",
       "      <td>7.208707</td>\n",
       "      <td>6.865186</td>\n",
       "      <td>31.911077</td>\n",
       "      <td>30.737864</td>\n",
       "      <td>1.953403e-17</td>\n",
       "      <td>3.751706e-17</td>\n",
       "      <td>1</td>\n",
       "      <td>1</td>\n",
       "    </tr>\n",
       "    <tr>\n",
       "      <th>ENSG00000001036</th>\n",
       "      <td>3.013023</td>\n",
       "      <td>2.919475</td>\n",
       "      <td>3.083917</td>\n",
       "      <td>10.530285</td>\n",
       "      <td>11.307944</td>\n",
       "      <td>2.295564e-09</td>\n",
       "      <td>7.568115e-10</td>\n",
       "      <td>1</td>\n",
       "      <td>1</td>\n",
       "    </tr>\n",
       "    <tr>\n",
       "      <th>...</th>\n",
       "      <td>...</td>\n",
       "      <td>...</td>\n",
       "      <td>...</td>\n",
       "      <td>...</td>\n",
       "      <td>...</td>\n",
       "      <td>...</td>\n",
       "      <td>...</td>\n",
       "      <td>...</td>\n",
       "      <td>...</td>\n",
       "    </tr>\n",
       "    <tr>\n",
       "      <th>ENSG00000287978</th>\n",
       "      <td>1.631122</td>\n",
       "      <td>1.799707</td>\n",
       "      <td>1.476898</td>\n",
       "      <td>2.491650</td>\n",
       "      <td>1.397367</td>\n",
       "      <td>1.142110e-02</td>\n",
       "      <td>8.975628e-02</td>\n",
       "      <td>1</td>\n",
       "      <td>0</td>\n",
       "    </tr>\n",
       "    <tr>\n",
       "      <th>ENSG00000287979</th>\n",
       "      <td>3.887545</td>\n",
       "      <td>4.438174</td>\n",
       "      <td>3.410290</td>\n",
       "      <td>6.680318</td>\n",
       "      <td>3.779288</td>\n",
       "      <td>1.544929e-06</td>\n",
       "      <td>7.011668e-04</td>\n",
       "      <td>1</td>\n",
       "      <td>1</td>\n",
       "    </tr>\n",
       "    <tr>\n",
       "      <th>ENSG00000288156</th>\n",
       "      <td>3.682152</td>\n",
       "      <td>3.661180</td>\n",
       "      <td>3.758929</td>\n",
       "      <td>11.411621</td>\n",
       "      <td>11.488687</td>\n",
       "      <td>6.556915e-10</td>\n",
       "      <td>5.897489e-10</td>\n",
       "      <td>1</td>\n",
       "      <td>1</td>\n",
       "    </tr>\n",
       "    <tr>\n",
       "      <th>ENSG00000288380</th>\n",
       "      <td>2.632428</td>\n",
       "      <td>2.735178</td>\n",
       "      <td>2.506864</td>\n",
       "      <td>8.831436</td>\n",
       "      <td>7.073516</td>\n",
       "      <td>3.242462e-08</td>\n",
       "      <td>7.272774e-07</td>\n",
       "      <td>1</td>\n",
       "      <td>1</td>\n",
       "    </tr>\n",
       "    <tr>\n",
       "      <th>ENSG00000288398</th>\n",
       "      <td>1.715585</td>\n",
       "      <td>1.562550</td>\n",
       "      <td>1.864252</td>\n",
       "      <td>3.840035</td>\n",
       "      <td>5.953936</td>\n",
       "      <td>6.120224e-04</td>\n",
       "      <td>6.538360e-06</td>\n",
       "      <td>1</td>\n",
       "      <td>1</td>\n",
       "    </tr>\n",
       "  </tbody>\n",
       "</table>\n",
       "<p>11783 rows × 9 columns</p>\n",
       "</div>"
      ],
      "text/plain": [
       "                        A    Coef.C    Coef.T        t.C        t.T  \\\n",
       "ENSG00000000419  3.513789  3.395900  3.620530  21.349769  23.493761   \n",
       "ENSG00000000457  3.820349  3.779152  3.878203  23.238564  23.547194   \n",
       "ENSG00000000460  3.175358  3.023527  3.338193  12.608922  14.843542   \n",
       "ENSG00000000938  7.038729  7.208707  6.865186  31.911077  30.737864   \n",
       "ENSG00000001036  3.013023  2.919475  3.083917  10.530285  11.307944   \n",
       "...                   ...       ...       ...        ...        ...   \n",
       "ENSG00000287978  1.631122  1.799707  1.476898   2.491650   1.397367   \n",
       "ENSG00000287979  3.887545  4.438174  3.410290   6.680318   3.779288   \n",
       "ENSG00000288156  3.682152  3.661180  3.758929  11.411621  11.488687   \n",
       "ENSG00000288380  2.632428  2.735178  2.506864   8.831436   7.073516   \n",
       "ENSG00000288398  1.715585  1.562550  1.864252   3.840035   5.953936   \n",
       "\n",
       "                    p.value.C     p.value.T  Res.C  Res.T  \n",
       "ENSG00000000419  2.050865e-14  3.959232e-15      1      1  \n",
       "ENSG00000000457  4.779373e-15  3.807343e-15      1      1  \n",
       "ENSG00000000460  1.340610e-10  9.384541e-12      1      1  \n",
       "ENSG00000000938  1.953403e-17  3.751706e-17      1      1  \n",
       "ENSG00000001036  2.295564e-09  7.568115e-10      1      1  \n",
       "...                       ...           ...    ...    ...  \n",
       "ENSG00000287978  1.142110e-02  8.975628e-02      1      0  \n",
       "ENSG00000287979  1.544929e-06  7.011668e-04      1      1  \n",
       "ENSG00000288156  6.556915e-10  5.897489e-10      1      1  \n",
       "ENSG00000288380  3.242462e-08  7.272774e-07      1      1  \n",
       "ENSG00000288398  6.120224e-04  6.538360e-06      1      1  \n",
       "\n",
       "[11783 rows x 9 columns]"
      ]
     },
     "execution_count": 21,
     "metadata": {},
     "output_type": "execute_result"
    }
   ],
   "source": [
    "limma_df"
   ]
  },
  {
   "cell_type": "code",
   "execution_count": 22,
   "metadata": {},
   "outputs": [],
   "source": [
    "ensembl_list = list(limma_df.index)"
   ]
  },
  {
   "cell_type": "code",
   "execution_count": 24,
   "metadata": {},
   "outputs": [],
   "source": [
    "# Query pyensembl to get gene symbols (if exists and unique)\n",
    "genes_list = []\n",
    "for accession in ensembl_list:\n",
    "    name = data.gene_name_of_gene_id(accession)\n",
    "    genes_list.append(name)"
   ]
  },
  {
   "cell_type": "code",
   "execution_count": 25,
   "metadata": {},
   "outputs": [
    {
     "data": {
      "text/plain": [
       "(11783, 11783)"
      ]
     },
     "execution_count": 25,
     "metadata": {},
     "output_type": "execute_result"
    }
   ],
   "source": [
    "len(ensembl_list), len(genes_list)"
   ]
  },
  {
   "cell_type": "code",
   "execution_count": 26,
   "metadata": {},
   "outputs": [],
   "source": [
    "limma_df.index = genes_list"
   ]
  },
  {
   "cell_type": "code",
   "execution_count": null,
   "metadata": {},
   "outputs": [],
   "source": [
    "limma_df"
   ]
  },
  {
   "cell_type": "code",
   "execution_count": 29,
   "metadata": {},
   "outputs": [],
   "source": [
    "limma_df.to_csv('RSEM_RES/Limma_results_2.txt', sep='\\t', index=True)"
   ]
  },
  {
   "cell_type": "markdown",
   "metadata": {},
   "source": [
    "# EBSeq processing"
   ]
  },
  {
   "cell_type": "code",
   "execution_count": 60,
   "metadata": {},
   "outputs": [],
   "source": [
    "ebseq_df = pd.read_csv('EBSeq_PPMat.txt', sep='\\t', skiprows=(0), header=(0))"
   ]
  },
  {
   "cell_type": "code",
   "execution_count": 61,
   "metadata": {},
   "outputs": [
    {
     "data": {
      "text/html": [
       "<div>\n",
       "<style scoped>\n",
       "    .dataframe tbody tr th:only-of-type {\n",
       "        vertical-align: middle;\n",
       "    }\n",
       "\n",
       "    .dataframe tbody tr th {\n",
       "        vertical-align: top;\n",
       "    }\n",
       "\n",
       "    .dataframe thead th {\n",
       "        text-align: right;\n",
       "    }\n",
       "</style>\n",
       "<table border=\"1\" class=\"dataframe\">\n",
       "  <thead>\n",
       "    <tr style=\"text-align: right;\">\n",
       "      <th></th>\n",
       "      <th>PPEE</th>\n",
       "      <th>PPDE</th>\n",
       "    </tr>\n",
       "  </thead>\n",
       "  <tbody>\n",
       "    <tr>\n",
       "      <th>ENSG00000000419</th>\n",
       "      <td>0.989269</td>\n",
       "      <td>0.010731</td>\n",
       "    </tr>\n",
       "    <tr>\n",
       "      <th>ENSG00000000457</th>\n",
       "      <td>0.995765</td>\n",
       "      <td>0.004235</td>\n",
       "    </tr>\n",
       "    <tr>\n",
       "      <th>ENSG00000000460</th>\n",
       "      <td>0.986121</td>\n",
       "      <td>0.013879</td>\n",
       "    </tr>\n",
       "    <tr>\n",
       "      <th>ENSG00000000938</th>\n",
       "      <td>0.998493</td>\n",
       "      <td>0.001507</td>\n",
       "    </tr>\n",
       "    <tr>\n",
       "      <th>ENSG00000000971</th>\n",
       "      <td>0.842363</td>\n",
       "      <td>0.157637</td>\n",
       "    </tr>\n",
       "    <tr>\n",
       "      <th>...</th>\n",
       "      <td>...</td>\n",
       "      <td>...</td>\n",
       "    </tr>\n",
       "    <tr>\n",
       "      <th>ENSG00000288349</th>\n",
       "      <td>0.828411</td>\n",
       "      <td>0.171589</td>\n",
       "    </tr>\n",
       "    <tr>\n",
       "      <th>ENSG00000288380</th>\n",
       "      <td>0.994968</td>\n",
       "      <td>0.005032</td>\n",
       "    </tr>\n",
       "    <tr>\n",
       "      <th>ENSG00000288398</th>\n",
       "      <td>0.975284</td>\n",
       "      <td>0.024716</td>\n",
       "    </tr>\n",
       "    <tr>\n",
       "      <th>ENSG00000288473</th>\n",
       "      <td>0.983714</td>\n",
       "      <td>0.016286</td>\n",
       "    </tr>\n",
       "    <tr>\n",
       "      <th>ENSG00000288520</th>\n",
       "      <td>0.984956</td>\n",
       "      <td>0.015044</td>\n",
       "    </tr>\n",
       "  </tbody>\n",
       "</table>\n",
       "<p>22902 rows × 2 columns</p>\n",
       "</div>"
      ],
      "text/plain": [
       "                     PPEE      PPDE\n",
       "ENSG00000000419  0.989269  0.010731\n",
       "ENSG00000000457  0.995765  0.004235\n",
       "ENSG00000000460  0.986121  0.013879\n",
       "ENSG00000000938  0.998493  0.001507\n",
       "ENSG00000000971  0.842363  0.157637\n",
       "...                   ...       ...\n",
       "ENSG00000288349  0.828411  0.171589\n",
       "ENSG00000288380  0.994968  0.005032\n",
       "ENSG00000288398  0.975284  0.024716\n",
       "ENSG00000288473  0.983714  0.016286\n",
       "ENSG00000288520  0.984956  0.015044\n",
       "\n",
       "[22902 rows x 2 columns]"
      ]
     },
     "execution_count": 61,
     "metadata": {},
     "output_type": "execute_result"
    }
   ],
   "source": [
    "ebseq_df"
   ]
  },
  {
   "cell_type": "code",
   "execution_count": 62,
   "metadata": {},
   "outputs": [],
   "source": [
    "ensembl_ebseq = list(ebseq_df.index)"
   ]
  },
  {
   "cell_type": "code",
   "execution_count": 63,
   "metadata": {},
   "outputs": [],
   "source": [
    "# Query pyensembl to get gene symbols (if exists and unique)\n",
    "genes_list = []\n",
    "for accession in ensembl_ebseq:\n",
    "    name = data.gene_name_of_gene_id(accession)\n",
    "    genes_list.append(name)"
   ]
  },
  {
   "cell_type": "code",
   "execution_count": 64,
   "metadata": {},
   "outputs": [
    {
     "data": {
      "text/plain": [
       "(22902, 22902)"
      ]
     },
     "execution_count": 64,
     "metadata": {},
     "output_type": "execute_result"
    }
   ],
   "source": [
    "len(ensembl_ebseq), len(genes_list)"
   ]
  },
  {
   "cell_type": "code",
   "execution_count": 65,
   "metadata": {},
   "outputs": [],
   "source": [
    "ebseq_df.index = genes_list"
   ]
  },
  {
   "cell_type": "code",
   "execution_count": 66,
   "metadata": {},
   "outputs": [],
   "source": [
    "ebseq_df.to_csv('EBSeq_PPMat.txt', sep='\\t', index=True)"
   ]
  },
  {
   "cell_type": "code",
   "execution_count": null,
   "metadata": {},
   "outputs": [],
   "source": []
  }
 ],
 "metadata": {
  "kernelspec": {
   "display_name": "Python 3",
   "language": "python",
   "name": "python3"
  },
  "language_info": {
   "codemirror_mode": {
    "name": "ipython",
    "version": 3
   },
   "file_extension": ".py",
   "mimetype": "text/x-python",
   "name": "python",
   "nbconvert_exporter": "python",
   "pygments_lexer": "ipython3",
   "version": "3.6.7"
  }
 },
 "nbformat": 4,
 "nbformat_minor": 2
}
