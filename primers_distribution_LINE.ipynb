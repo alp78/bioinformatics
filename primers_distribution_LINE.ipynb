{
 "cells": [
  {
   "cell_type": "code",
   "execution_count": 2,
   "metadata": {
    "scrolled": true
   },
   "outputs": [],
   "source": [
    "import pymysql\n",
    "import time\n",
    "import datetime\n",
    "import random\n",
    "import pandas as pd\n",
    "import psutil\n",
    "import chart_studio.plotly as py\n",
    "import plotly.figure_factory as ff\n",
    "import plotly.offline\n",
    "import plotly.io as pio\n",
    "import plotly\n",
    "import plotly.graph_objects as go\n",
    "from Bio import SeqIO\n",
    "from Bio.Seq import Seq\n",
    "from Bio.SeqRecord import SeqRecord\n",
    "from Bio.Alphabet import generic_dna\n",
    "from Bio import pairwise2\n",
    "from Bio.pairwise2 import format_alignment\n",
    "import matplotlib.patches as mpatches\n",
    "import matplotlib.pyplot as plt\n",
    "from matplotlib_venn import venn3\n",
    "import seaborn as sns\n",
    "from math import pi\n",
    "from multiprocessing import cpu_count, Manager\n",
    "from concurrent.futures import ProcessPoolExecutor\n",
    "import itertools\n",
    "import pysam\n",
    "import bioblend\n",
    "from bioblend import galaxy\n",
    "from bioblend.galaxy import objects\n",
    "from bioblend.galaxy.tools.inputs import inputs\n",
    "import json\n",
    "import csv\n",
    "import imp\n",
    "import logging\n",
    "from sys import argv, exit, stderr, path\n",
    "from os import remove, rename, path\n",
    "from termcolor import colored\n",
    "from scripts.gfetchseq import gfetchseq"
   ]
  },
  {
   "cell_type": "markdown",
   "metadata": {},
   "source": [
    "## 1. Preprocessing"
   ]
  },
  {
   "cell_type": "markdown",
   "metadata": {},
   "source": [
    "### 1a. Interval file from UCSC"
   ]
  },
  {
   "cell_type": "code",
   "execution_count": null,
   "metadata": {},
   "outputs": [],
   "source": [
    "conn = pymysql.connect(host='genome-mysql.cse.ucsc.edu',\n",
    "                       db='hg38',\n",
    "                       user='genome')"
   ]
  },
  {
   "cell_type": "code",
   "execution_count": null,
   "metadata": {},
   "outputs": [],
   "source": [
    "cur = conn.cursor()"
   ]
  },
  {
   "cell_type": "code",
   "execution_count": null,
   "metadata": {},
   "outputs": [],
   "source": [
    "cur.execute(\"SELECT rm.genoName, rm.genoStart, rm.genoEnd, rm.repName, rm.strand FROM rmsk rm WHERE rm.repFamily = 'L1' AND (genoEnd - genoStart > 5500)\")"
   ]
  },
  {
   "cell_type": "code",
   "execution_count": null,
   "metadata": {},
   "outputs": [],
   "source": [
    "with open('source/L1_5500_gh38.bed', 'w') as file:\n",
    "    for row in cur:\n",
    "        file.write(f'{row[0]}\\t{row[1]}\\t{row[2]}\\t{row[3]}\\t0\\t{row[4]}\\n')"
   ]
  },
  {
   "cell_type": "code",
   "execution_count": 2,
   "metadata": {},
   "outputs": [],
   "source": [
    "interval_df = pd.read_csv('L1_5500_gh38.bed', sep='\\t', skiprows=(0), header=(0))"
   ]
  },
  {
   "cell_type": "code",
   "execution_count": 3,
   "metadata": {},
   "outputs": [
    {
     "data": {
      "text/html": [
       "<div>\n",
       "<style scoped>\n",
       "    .dataframe tbody tr th:only-of-type {\n",
       "        vertical-align: middle;\n",
       "    }\n",
       "\n",
       "    .dataframe tbody tr th {\n",
       "        vertical-align: top;\n",
       "    }\n",
       "\n",
       "    .dataframe thead th {\n",
       "        text-align: right;\n",
       "    }\n",
       "</style>\n",
       "<table border=\"1\" class=\"dataframe\">\n",
       "  <thead>\n",
       "    <tr style=\"text-align: right;\">\n",
       "      <th></th>\n",
       "      <th>genoName</th>\n",
       "      <th>genoStart</th>\n",
       "      <th>genoEnd</th>\n",
       "      <th>strand</th>\n",
       "      <th>repName</th>\n",
       "    </tr>\n",
       "  </thead>\n",
       "  <tbody>\n",
       "    <tr>\n",
       "      <td>0</td>\n",
       "      <td>chr1</td>\n",
       "      <td>100662981</td>\n",
       "      <td>100669120</td>\n",
       "      <td>-</td>\n",
       "      <td>L1PA4</td>\n",
       "    </tr>\n",
       "    <tr>\n",
       "      <td>1</td>\n",
       "      <td>chr1</td>\n",
       "      <td>49282507</td>\n",
       "      <td>49288376</td>\n",
       "      <td>+</td>\n",
       "      <td>L1PA2</td>\n",
       "    </tr>\n",
       "    <tr>\n",
       "      <td>2</td>\n",
       "      <td>chr1</td>\n",
       "      <td>146798613</td>\n",
       "      <td>146805199</td>\n",
       "      <td>+</td>\n",
       "      <td>L1PB1</td>\n",
       "    </tr>\n",
       "    <tr>\n",
       "      <td>3</td>\n",
       "      <td>chr1</td>\n",
       "      <td>239071918</td>\n",
       "      <td>239078057</td>\n",
       "      <td>+</td>\n",
       "      <td>L1MA2</td>\n",
       "    </tr>\n",
       "    <tr>\n",
       "      <td>4</td>\n",
       "      <td>chr1</td>\n",
       "      <td>38402815</td>\n",
       "      <td>38409352</td>\n",
       "      <td>+</td>\n",
       "      <td>L1PB1</td>\n",
       "    </tr>\n",
       "  </tbody>\n",
       "</table>\n",
       "</div>"
      ],
      "text/plain": [
       "  genoName  genoStart    genoEnd strand repName\n",
       "0     chr1  100662981  100669120      -   L1PA4\n",
       "1     chr1   49282507   49288376      +   L1PA2\n",
       "2     chr1  146798613  146805199      +   L1PB1\n",
       "3     chr1  239071918  239078057      +   L1MA2\n",
       "4     chr1   38402815   38409352      +   L1PB1"
      ]
     },
     "execution_count": 3,
     "metadata": {},
     "output_type": "execute_result"
    }
   ],
   "source": [
    "interval_df.head(5)"
   ]
  },
  {
   "cell_type": "code",
   "execution_count": 4,
   "metadata": {},
   "outputs": [
    {
     "data": {
      "text/plain": [
       "genoName     object\n",
       "genoStart     int64\n",
       "genoEnd       int64\n",
       "strand       object\n",
       "repName      object\n",
       "dtype: object"
      ]
     },
     "execution_count": 4,
     "metadata": {},
     "output_type": "execute_result"
    }
   ],
   "source": [
    "interval_df.dtypes"
   ]
  },
  {
   "cell_type": "code",
   "execution_count": 5,
   "metadata": {},
   "outputs": [
    {
     "data": {
      "text/html": [
       "<div>\n",
       "<style scoped>\n",
       "    .dataframe tbody tr th:only-of-type {\n",
       "        vertical-align: middle;\n",
       "    }\n",
       "\n",
       "    .dataframe tbody tr th {\n",
       "        vertical-align: top;\n",
       "    }\n",
       "\n",
       "    .dataframe thead th {\n",
       "        text-align: right;\n",
       "    }\n",
       "</style>\n",
       "<table border=\"1\" class=\"dataframe\">\n",
       "  <thead>\n",
       "    <tr style=\"text-align: right;\">\n",
       "      <th></th>\n",
       "      <th>genoName</th>\n",
       "      <th>genoStart</th>\n",
       "      <th>genoEnd</th>\n",
       "      <th>strand</th>\n",
       "      <th>repName</th>\n",
       "    </tr>\n",
       "  </thead>\n",
       "  <tbody>\n",
       "    <tr>\n",
       "      <td>0</td>\n",
       "      <td>chr1</td>\n",
       "      <td>100662981</td>\n",
       "      <td>100669120</td>\n",
       "      <td>-</td>\n",
       "      <td>L1PA4</td>\n",
       "    </tr>\n",
       "    <tr>\n",
       "      <td>1</td>\n",
       "      <td>chr1</td>\n",
       "      <td>49282507</td>\n",
       "      <td>49288376</td>\n",
       "      <td>+</td>\n",
       "      <td>L1PA2</td>\n",
       "    </tr>\n",
       "    <tr>\n",
       "      <td>2</td>\n",
       "      <td>chr1</td>\n",
       "      <td>48363803</td>\n",
       "      <td>48369929</td>\n",
       "      <td>-</td>\n",
       "      <td>L1PA3</td>\n",
       "    </tr>\n",
       "    <tr>\n",
       "      <td>3</td>\n",
       "      <td>chr1</td>\n",
       "      <td>49934841</td>\n",
       "      <td>49940864</td>\n",
       "      <td>+</td>\n",
       "      <td>L1PA3</td>\n",
       "    </tr>\n",
       "    <tr>\n",
       "      <td>4</td>\n",
       "      <td>chr1</td>\n",
       "      <td>68681498</td>\n",
       "      <td>68687636</td>\n",
       "      <td>-</td>\n",
       "      <td>L1PA4</td>\n",
       "    </tr>\n",
       "  </tbody>\n",
       "</table>\n",
       "</div>"
      ],
      "text/plain": [
       "  genoName  genoStart    genoEnd strand repName\n",
       "0     chr1  100662981  100669120      -   L1PA4\n",
       "1     chr1   49282507   49288376      +   L1PA2\n",
       "2     chr1   48363803   48369929      -   L1PA3\n",
       "3     chr1   49934841   49940864      +   L1PA3\n",
       "4     chr1   68681498   68687636      -   L1PA4"
      ]
     },
     "execution_count": 5,
     "metadata": {},
     "output_type": "execute_result"
    }
   ],
   "source": [
    "# remove unwanted\n",
    "keep_list = ['L1HS', 'L1PA2', 'L1PA3', 'L1PA4', 'L1PA5']\n",
    "drop_list = []\n",
    "for index, row in interval_df.iterrows():\n",
    "    if row[4] not in keep_list:\n",
    "        drop_list.append(index)\n",
    "df_clean = interval_df.drop(drop_list)\n",
    "df_interval = df_clean.reset_index(drop=True)\n",
    "df_interval[:5]"
   ]
  },
  {
   "cell_type": "code",
   "execution_count": 6,
   "metadata": {},
   "outputs": [],
   "source": [
    "# add upstream flank to strands\n",
    "# (+) start-300 / (-) end+300\n",
    "for index, row in df_interval.iterrows():\n",
    "    if row[3] == '-':\n",
    "        df_interval.at[index,'genoEnd'] += 300\n",
    "    if row[3] == '+':\n",
    "        df_interval.at[index,'genoStart'] -= 300"
   ]
  },
  {
   "cell_type": "code",
   "execution_count": 7,
   "metadata": {},
   "outputs": [],
   "source": [
    "# create new .interval file for processing in Galaxy\n",
    "df_interval.to_csv(\"work/Flank_L1.interval\", sep=\"\\t\", index=False)"
   ]
  },
  {
   "cell_type": "markdown",
   "metadata": {},
   "source": [
    "### 1b. Fasta from Galaxy"
   ]
  },
  {
   "cell_type": "code",
   "execution_count": 8,
   "metadata": {},
   "outputs": [
    {
     "name": "stderr",
     "output_type": "stream",
     "text": [
      "\u001b[34mConnecting to Galaxy server...\u001b[0m\n",
      "Connected to user account \u001b[34mlexxxa\u001b[0m\n",
      "Converted \u001b[34mwork/Flank_L1.interval\u001b[0m to \u001b[34mwork/Flank_L1.bed\u001b[0m\n",
      "Uploading \u001b[34mwork/Flank_L1.bed\u001b[0m to Galaxy...\n",
      "File uploaded in \u001b[34m0:03:08\u001b[0m\n",
      "\u001b[34mRetrieving Dataset...\u001b[0m\n",
      "Fetching DNA sequences from \u001b[34mhg38\u001b[0m in \u001b[34mfasta\u001b[0m format...\n",
      "Extraction completed in \u001b[34m0:03:37\u001b[0m\n",
      "Downloading \u001b[34mwork/Flank_L1.fasta\u001b[0m to current folder...\n",
      "Downloading completed in \u001b[34m0:00:04\u001b[0m\n",
      "\u001b[34mFormatting fasta file...\u001b[0m\n",
      "Converted \u001b[34m5439\u001b[0m records to upper case\n",
      "Formatted fasta records IDs\n",
      "\u001b[34mRemoving files from Galaxy...\u001b[0m\n",
      "Purge completed in \u001b[34m0:00:01\u001b[0m\n",
      "Full process completed in \u001b[34m0:08:23\u001b[0m\n"
     ]
    }
   ],
   "source": [
    "# gfetchseq [interval_file] [genome] [api_key] [upper? yes/no] [clean Galaxy history? yes/no]\n",
    "# extract sequences, converts to upper and format IDs\n",
    "interval = 'work/Flank_L1.interval'\n",
    "genome = 'hg38'\n",
    "apik = 'ec09849dc5c8d075f18ff9cb7e9e98f8'\n",
    "gfetchseq(interval, genome, apik, 'yes', 'yes')"
   ]
  },
  {
   "cell_type": "code",
   "execution_count": 10,
   "metadata": {},
   "outputs": [
    {
     "name": "stdout",
     "output_type": "stream",
     "text": [
      "chr1_100662981-100669420_L1PA4-\n",
      "TGTAATTTTCTTTTTGTTTTAATTTGCACTTCTTTGAGTCCTAGTGAGATCATTTACATTTACTGGATTGTTATATTTTTATTATGTGAATGGAAGATTC\n"
     ]
    }
   ],
   "source": [
    "# check ID and sequence of first record\n",
    "print(next(SeqIO.parse('work/Flank_L1.fasta', 'fasta')).id)\n",
    "print(next(SeqIO.parse('work/Flank_L1.fasta', 'fasta')).seq._data[:100])"
   ]
  },
  {
   "cell_type": "markdown",
   "metadata": {},
   "source": [
    "## 2. Pairwise alignment"
   ]
  },
  {
   "cell_type": "markdown",
   "metadata": {},
   "source": [
    "### 2a. Alignment process for a single primer"
   ]
  },
  {
   "cell_type": "code",
   "execution_count": 11,
   "metadata": {},
   "outputs": [
    {
     "name": "stdout",
     "output_type": "stream",
     "text": [
      "/mnt/nfs/home/244205/000000-My_Documents/VM-home/l1_parse/work\n"
     ]
    }
   ],
   "source": [
    "%cd work"
   ]
  },
  {
   "cell_type": "code",
   "execution_count": 21,
   "metadata": {},
   "outputs": [
    {
     "data": {
      "text/plain": [
       "Seq('TCCGTCACCCCTTTCTTTGACTC', DNAAlphabet())"
      ]
     },
     "execution_count": 21,
     "metadata": {},
     "output_type": "execute_result"
    }
   ],
   "source": [
    "# setup 255 primer\n",
    "primerC = 'TCCGTCACCCCTTTCTTTGACTC'\n",
    "primer_seq = Seq(primerC, generic_dna)\n",
    "primer_seq"
   ]
  },
  {
   "cell_type": "code",
   "execution_count": 28,
   "metadata": {},
   "outputs": [
    {
     "data": {
      "text/plain": [
       "Seq('GAGTCAAAGAAAGGGGTGACGGA', DNAAlphabet())"
      ]
     },
     "execution_count": 28,
     "metadata": {},
     "output_type": "execute_result"
    }
   ],
   "source": [
    "# reverse complement\n",
    "primer_rc_seq = primer_seq.reverse_complement()\n",
    "primer_rc_seq"
   ]
  },
  {
   "cell_type": "code",
   "execution_count": 36,
   "metadata": {},
   "outputs": [],
   "source": [
    "# pairwise2 alignment against l1 full-length sequences \n",
    "# function cuts the sequence after primer 3'end: ]primer - L1]\n",
    "# max score = full match = primer length, max gaps allowed = 3 / min allowed score = primer length - 3\n",
    "def align_primer_and_strip(recs_q, primer_rc_seq, recs_list, align_q, new_recs_list, errors):\n",
    "    record = recs_q.get()\n",
    "    alignment = pairwise2.align.localms(record.seq, primer_rc_seq, 1, 0, -1, -1, penalize_end_gaps = (True, False))\n",
    "    if int(alignment[0][2]) >= len(primer_rc_seq._data) - errors:\n",
    "        align_q.put(f\"{record.id}\\n{format_alignment(*alignment[0])}\")\n",
    "        new_seq = record.seq[alignment[0][4]:]\n",
    "        new_rec = SeqRecord(Seq(new_seq, generic_dna))\n",
    "        new_rec.id = record.id\n",
    "        new_rec.description = ''\n",
    "        new_rec.name = record.id\n",
    "        new_recs_list.append(new_rec)\n",
    "        recs_list.append(record)"
   ]
  },
  {
   "cell_type": "code",
   "execution_count": 30,
   "metadata": {},
   "outputs": [],
   "source": [
    "# write alignment file with alignement result strings stored in queue\n",
    "def write_align_file(text_file, align_q):\n",
    "    file = open(text_file,\"w\")\n",
    "    for i in range(align_q.qsize()):\n",
    "        align_rec = align_q.get(True, 0.05)\n",
    "        file.write(align_rec)\n",
    "    file.close()"
   ]
  },
  {
   "cell_type": "code",
   "execution_count": 31,
   "metadata": {},
   "outputs": [],
   "source": [
    "# write fasta file with L1 cut from primer's end\n",
    "def write_fasta_with_l1(fasta_file, new_recs_list):\n",
    "    rec_gen = (rec for rec in new_recs_list)\n",
    "    count = SeqIO.write(rec_gen, fasta_file, \"fasta\")\n",
    "    print(f\"Wrote {count} records with primer\")"
   ]
  },
  {
   "cell_type": "code",
   "execution_count": 32,
   "metadata": {},
   "outputs": [],
   "source": [
    "# write fasta file with processed fasta records appended to list\n",
    "def write_fasta_with_primer(fasta_file, recs_list):\n",
    "    rec_gen = (rec for rec in recs_list)\n",
    "    count = SeqIO.write(rec_gen, fasta_file, \"fasta\")\n",
    "    print(f\"Wrote {count} records with primer\")"
   ]
  },
  {
   "cell_type": "code",
   "execution_count": 37,
   "metadata": {},
   "outputs": [
    {
     "data": {
      "text/plain": [
       "8"
      ]
     },
     "execution_count": 37,
     "metadata": {},
     "output_type": "execute_result"
    }
   ],
   "source": [
    "# initialize multiprocessing client, queues and variables\n",
    "manager = Manager()\n",
    "fasta_recs_q = manager.Queue()\n",
    "align_recs_q = manager.Queue()\n",
    "new_recs_list = manager.list()\n",
    "primer_recs_list = manager.list()\n",
    "number_of_cpus = cpu_count()\n",
    "number_of_cpus"
   ]
  },
  {
   "cell_type": "code",
   "execution_count": 38,
   "metadata": {},
   "outputs": [
    {
     "data": {
      "text/plain": [
       "5439"
      ]
     },
     "execution_count": 38,
     "metadata": {},
     "output_type": "execute_result"
    }
   ],
   "source": [
    "# add full-length L1s to ref seq queue\n",
    "for record in SeqIO.parse('Flank_L1.fasta', 'fasta'):\n",
    "    fasta_recs_q.put(record)\n",
    "fasta_recs_q.qsize()"
   ]
  },
  {
   "cell_type": "code",
   "execution_count": null,
   "metadata": {},
   "outputs": [],
   "source": [
    "# parallel processing of ref seq queue in align_primer_and_strip()\n",
    "max_gaps = 3\n",
    "start = time.time()\n",
    "with ProcessPoolExecutor(max_workers=number_of_cpus) as extract_and_align:\n",
    "    for i in range(fasta_recs_q.qsize()):\n",
    "        extract_and_align.submit(align_primer_and_strip, \n",
    "                                 fasta_recs_q, \n",
    "                                 primer_rc_seq, \n",
    "                                 primer_recs_list, \n",
    "                                 align_recs_q,\n",
    "                                 new_recs_list,\n",
    "                                 max_gaps)\n",
    "end = time.time()\n",
    "print(f'{str(datetime.timedelta(seconds=int(end - start)))}')"
   ]
  },
  {
   "cell_type": "code",
   "execution_count": 30,
   "metadata": {},
   "outputs": [
    {
     "name": "stdout",
     "output_type": "stream",
     "text": [
      "3617 3617\n"
     ]
    }
   ],
   "source": [
    "# check = both sizes of align queue and result list must match\n",
    "print(align_recs_q.qsize(), len(primer_recs_list))"
   ]
  },
  {
   "cell_type": "code",
   "execution_count": 27,
   "metadata": {},
   "outputs": [
    {
     "name": "stdout",
     "output_type": "stream",
     "text": [
      "Wrote 0 records with primer\n"
     ]
    }
   ],
   "source": [
    "# dump result list in fasta file\n",
    "fasta_file = \"5']c255-L1]3'.fasta\"\n",
    "write_fasta_with_l1(fasta_file, new_recs_list)"
   ]
  },
  {
   "cell_type": "code",
   "execution_count": 31,
   "metadata": {},
   "outputs": [],
   "source": [
    "# dump align queue in text file\n",
    "align_file = \"../result/pairwise2_255.txt\"\n",
    "write_align_file(align_file, align_recs_q)"
   ]
  },
  {
   "cell_type": "code",
   "execution_count": 32,
   "metadata": {},
   "outputs": [
    {
     "name": "stdout",
     "output_type": "stream",
     "text": [
      "Wrote 3617 records with primer\n"
     ]
    }
   ],
   "source": [
    "# dump result list in fasta file\n",
    "fasta_file = \"Flank_5UTR_255_L1.fasta\"\n",
    "write_fasta_with_primer(fasta_file, primer_recs_list)"
   ]
  },
  {
   "cell_type": "markdown",
   "metadata": {},
   "source": [
    "### 2b. Alignment process for a list of primer variants"
   ]
  },
  {
   "cell_type": "markdown",
   "metadata": {},
   "source": [
    "###### List of p489"
   ]
  },
  {
   "cell_type": "code",
   "execution_count": 9,
   "metadata": {},
   "outputs": [
    {
     "data": {
      "text/plain": [
       "[Seq('CTTCCCAACTACTTTATTTACCTA', DNAAlphabet()),\n",
       " Seq('CTTCCCAACTACTTTGTTTACCTA', DNAAlphabet()),\n",
       " Seq('CTTCCCAACTGCTTTATTTACCTA', DNAAlphabet()),\n",
       " Seq('CTTCCCAACTGCTTTGTTTACCTA', DNAAlphabet()),\n",
       " Seq('CTTCCCAGCTACTTTATTTACCTA', DNAAlphabet()),\n",
       " Seq('CTTCCCAGCTACTTTGTTTACCTA', DNAAlphabet()),\n",
       " Seq('CTTCCCAGCTGCTTTATTTACCTA', DNAAlphabet()),\n",
       " Seq('CTTCCCAGCTGCTTTGTTTACCTA', DNAAlphabet())]"
      ]
     },
     "execution_count": 9,
     "metadata": {},
     "output_type": "execute_result"
    }
   ],
   "source": [
    "# generate a list of primer sequences\n",
    "p489_deg = 'CTTCCCARCTRCTTTRTTTACCTA'\n",
    "bases = ['A', 'G']\n",
    "cases = [b1 + b2 + b3 for b1 in bases for b2 in bases for b3 in bases]\n",
    "p489_deg_list = []\n",
    "primer = list(p489_deg)\n",
    "for triplet in cases:\n",
    "    primer[7] = triplet[0]\n",
    "    primer[10] = triplet[1]\n",
    "    primer[15] = triplet[2]\n",
    "    p489_deg_list.append(Seq(''.join(primer), generic_dna))\n",
    "p489_deg_list"
   ]
  },
  {
   "cell_type": "code",
   "execution_count": 10,
   "metadata": {},
   "outputs": [
    {
     "data": {
      "text/plain": [
       "[Seq('TAGGTAAATAAAGTAGTTGGGAAG', DNAAlphabet()),\n",
       " Seq('TAGGTAAACAAAGTAGTTGGGAAG', DNAAlphabet()),\n",
       " Seq('TAGGTAAATAAAGCAGTTGGGAAG', DNAAlphabet()),\n",
       " Seq('TAGGTAAACAAAGCAGTTGGGAAG', DNAAlphabet()),\n",
       " Seq('TAGGTAAATAAAGTAGCTGGGAAG', DNAAlphabet()),\n",
       " Seq('TAGGTAAACAAAGTAGCTGGGAAG', DNAAlphabet()),\n",
       " Seq('TAGGTAAATAAAGCAGCTGGGAAG', DNAAlphabet()),\n",
       " Seq('TAGGTAAACAAAGCAGCTGGGAAG', DNAAlphabet())]"
      ]
     },
     "execution_count": 10,
     "metadata": {},
     "output_type": "execute_result"
    }
   ],
   "source": [
    "# reverse complement\n",
    "p489_rc_deg_list = [seq.reverse_complement() for seq in p489_deg_list]\n",
    "p489_rc_deg_list"
   ]
  },
  {
   "cell_type": "markdown",
   "metadata": {},
   "source": [
    "##### List of p394"
   ]
  },
  {
   "cell_type": "code",
   "execution_count": 45,
   "metadata": {},
   "outputs": [
    {
     "data": {
      "text/plain": [
       "[Seq('ATCTCGCTGATTGCTAGCACA', DNAAlphabet()),\n",
       " Seq('ATCGCGCTGATTGCTAGCACA', DNAAlphabet())]"
      ]
     },
     "execution_count": 45,
     "metadata": {},
     "output_type": "execute_result"
    }
   ],
   "source": [
    "p394_deg_list = [Seq('TGTGCTAGCAATCAGCGAGAT', generic_dna), Seq('TGTGCTAGCAATCAGCGCGAT', generic_dna)]\n",
    "p394_rc_deg_list = [seq.reverse_complement() for seq in p394_deg_list]\n",
    "p394_rc_deg_list"
   ]
  },
  {
   "cell_type": "code",
   "execution_count": 11,
   "metadata": {},
   "outputs": [],
   "source": [
    "# align_var_primer_and_strip() takes a list of sequences as argument instead of single primer seq\n",
    "# max score = primer length / min allowed score = primer length - 3\n",
    "def align_var_primer_and_strip(recs_q, primer_rc_seq_list, recs_list, align_q, new_recs_list, errors):\n",
    "    record = recs_q.get(True, 0.05)\n",
    "    for primer in primer_rc_seq_list:\n",
    "        min_score = len(primer._data) - errors\n",
    "        alignment = pairwise2.align.localms(record.seq, primer, 1, 0, -1, -1, penalize_end_gaps = (True, False))\n",
    "        if int(alignment[0][2]) >= min_score:\n",
    "            align_q.put(f\"{record.description}\\n{format_alignment(*alignment[0])}\")\n",
    "            new_seq = record.seq[alignment[0][4]:]\n",
    "            new_rec = SeqRecord(Seq(new_seq, generic_dna))\n",
    "            new_rec.id = record.id\n",
    "            new_rec.description = ''\n",
    "            new_rec.name = record.id\n",
    "            new_recs_list.append(new_rec)\n",
    "            recs_list.append(record)\n",
    "            break"
   ]
  },
  {
   "cell_type": "code",
   "execution_count": 14,
   "metadata": {},
   "outputs": [],
   "source": [
    "# initialize multiprocessing clients and variables\n",
    "manager = Manager()\n",
    "fasta_recs_q = manager.Queue()\n",
    "align_recs_q = manager.Queue()\n",
    "new_recs_list = manager.list()\n",
    "primer_recs_list = manager.list()\n",
    "number_of_cpus = cpu_count()"
   ]
  },
  {
   "cell_type": "code",
   "execution_count": 15,
   "metadata": {},
   "outputs": [
    {
     "data": {
      "text/plain": [
       "5439"
      ]
     },
     "execution_count": 15,
     "metadata": {},
     "output_type": "execute_result"
    }
   ],
   "source": [
    "# add full-length L1s to fasta queue\n",
    "for record in SeqIO.parse('Flank_L1.fasta', 'fasta'):\n",
    "    fasta_recs_q.put(record)\n",
    "fasta_recs_q.qsize()"
   ]
  },
  {
   "cell_type": "code",
   "execution_count": 17,
   "metadata": {},
   "outputs": [
    {
     "name": "stderr",
     "output_type": "stream",
     "text": [
      "Process Process-9:\n",
      "Process Process-8:\n",
      "Process Process-4:\n",
      "Process Process-7:\n",
      "Process Process-5:\n",
      "Traceback (most recent call last):\n",
      "Traceback (most recent call last):\n",
      "Traceback (most recent call last):\n",
      "Process Process-6:\n",
      "  File \"/home/lexa/anaconda3/envs/bio/lib/python3.6/multiprocessing/process.py\", line 258, in _bootstrap\n",
      "    self.run()\n",
      "  File \"/home/lexa/anaconda3/envs/bio/lib/python3.6/multiprocessing/process.py\", line 258, in _bootstrap\n",
      "    self.run()\n",
      "  File \"/home/lexa/anaconda3/envs/bio/lib/python3.6/multiprocessing/process.py\", line 93, in run\n",
      "    self._target(*self._args, **self._kwargs)\n",
      "Traceback (most recent call last):\n",
      "  File \"/home/lexa/anaconda3/envs/bio/lib/python3.6/multiprocessing/process.py\", line 93, in run\n",
      "    self._target(*self._args, **self._kwargs)\n",
      "  File \"/home/lexa/anaconda3/envs/bio/lib/python3.6/multiprocessing/process.py\", line 258, in _bootstrap\n",
      "    self.run()\n",
      "  File \"/home/lexa/anaconda3/envs/bio/lib/python3.6/concurrent/futures/process.py\", line 169, in _process_worker\n",
      "    call_item = call_queue.get(block=True)\n",
      "  File \"/home/lexa/anaconda3/envs/bio/lib/python3.6/multiprocessing/process.py\", line 93, in run\n",
      "    self._target(*self._args, **self._kwargs)\n",
      "  File \"/home/lexa/anaconda3/envs/bio/lib/python3.6/multiprocessing/process.py\", line 258, in _bootstrap\n",
      "    self.run()\n",
      "  File \"/home/lexa/anaconda3/envs/bio/lib/python3.6/concurrent/futures/process.py\", line 169, in _process_worker\n",
      "    call_item = call_queue.get(block=True)\n",
      "  File \"/home/lexa/anaconda3/envs/bio/lib/python3.6/concurrent/futures/process.py\", line 169, in _process_worker\n",
      "    call_item = call_queue.get(block=True)\n",
      "  File \"/home/lexa/anaconda3/envs/bio/lib/python3.6/multiprocessing/queues.py\", line 113, in get\n",
      "    return _ForkingPickler.loads(res)\n",
      "  File \"/home/lexa/anaconda3/envs/bio/lib/python3.6/multiprocessing/queues.py\", line 113, in get\n",
      "    return _ForkingPickler.loads(res)\n",
      "  File \"/home/lexa/anaconda3/envs/bio/lib/python3.6/multiprocessing/managers.py\", line 881, in RebuildProxy\n",
      "    return func(token, serializer, incref=incref, **kwds)\n",
      "  File \"/home/lexa/anaconda3/envs/bio/lib/python3.6/multiprocessing/managers.py\", line 881, in RebuildProxy\n",
      "    return func(token, serializer, incref=incref, **kwds)\n",
      "  File \"/home/lexa/anaconda3/envs/bio/lib/python3.6/multiprocessing/queues.py\", line 113, in get\n",
      "    return _ForkingPickler.loads(res)\n",
      "  File \"/home/lexa/anaconda3/envs/bio/lib/python3.6/multiprocessing/managers.py\", line 930, in AutoProxy\n",
      "    incref=incref)\n",
      "  File \"/home/lexa/anaconda3/envs/bio/lib/python3.6/multiprocessing/managers.py\", line 930, in AutoProxy\n",
      "    incref=incref)\n",
      "  File \"/home/lexa/anaconda3/envs/bio/lib/python3.6/multiprocessing/managers.py\", line 881, in RebuildProxy\n",
      "    return func(token, serializer, incref=incref, **kwds)\n",
      "  File \"/home/lexa/anaconda3/envs/bio/lib/python3.6/multiprocessing/managers.py\", line 731, in __init__\n",
      "    self._incref()\n",
      "  File \"/home/lexa/anaconda3/envs/bio/lib/python3.6/multiprocessing/managers.py\", line 930, in AutoProxy\n",
      "    incref=incref)\n",
      "  File \"/home/lexa/anaconda3/envs/bio/lib/python3.6/multiprocessing/managers.py\", line 731, in __init__\n",
      "    self._incref()\n",
      "  File \"/home/lexa/anaconda3/envs/bio/lib/python3.6/multiprocessing/managers.py\", line 785, in _incref\n",
      "    conn = self._Client(self._token.address, authkey=self._authkey)\n",
      "  File \"/home/lexa/anaconda3/envs/bio/lib/python3.6/multiprocessing/managers.py\", line 731, in __init__\n",
      "    self._incref()\n",
      "  File \"/home/lexa/anaconda3/envs/bio/lib/python3.6/multiprocessing/connection.py\", line 487, in Client\n",
      "    c = SocketClient(address)\n",
      "  File \"/home/lexa/anaconda3/envs/bio/lib/python3.6/multiprocessing/managers.py\", line 785, in _incref\n",
      "    conn = self._Client(self._token.address, authkey=self._authkey)\n",
      "Traceback (most recent call last):\n",
      "Traceback (most recent call last):\n",
      "  File \"/home/lexa/anaconda3/envs/bio/lib/python3.6/multiprocessing/connection.py\", line 614, in SocketClient\n",
      "    s.connect(address)\n",
      "  File \"/home/lexa/anaconda3/envs/bio/lib/python3.6/multiprocessing/process.py\", line 258, in _bootstrap\n",
      "    self.run()\n",
      "  File \"/home/lexa/anaconda3/envs/bio/lib/python3.6/multiprocessing/process.py\", line 258, in _bootstrap\n",
      "    self.run()\n",
      "  File \"/home/lexa/anaconda3/envs/bio/lib/python3.6/multiprocessing/process.py\", line 93, in run\n",
      "    self._target(*self._args, **self._kwargs)\n",
      "  File \"/home/lexa/anaconda3/envs/bio/lib/python3.6/multiprocessing/process.py\", line 93, in run\n",
      "    self._target(*self._args, **self._kwargs)\n",
      "  File \"/home/lexa/anaconda3/envs/bio/lib/python3.6/multiprocessing/managers.py\", line 785, in _incref\n",
      "    conn = self._Client(self._token.address, authkey=self._authkey)\n",
      "  File \"/home/lexa/anaconda3/envs/bio/lib/python3.6/concurrent/futures/process.py\", line 169, in _process_worker\n",
      "    call_item = call_queue.get(block=True)\n",
      "  File \"/home/lexa/anaconda3/envs/bio/lib/python3.6/multiprocessing/queues.py\", line 113, in get\n",
      "    return _ForkingPickler.loads(res)\n",
      "  File \"/home/lexa/anaconda3/envs/bio/lib/python3.6/multiprocessing/connection.py\", line 487, in Client\n",
      "    c = SocketClient(address)\n",
      "  File \"/home/lexa/anaconda3/envs/bio/lib/python3.6/concurrent/futures/process.py\", line 169, in _process_worker\n",
      "    call_item = call_queue.get(block=True)\n",
      "  File \"/home/lexa/anaconda3/envs/bio/lib/python3.6/multiprocessing/process.py\", line 93, in run\n",
      "    self._target(*self._args, **self._kwargs)\n",
      "  File \"/home/lexa/anaconda3/envs/bio/lib/python3.6/multiprocessing/connection.py\", line 614, in SocketClient\n",
      "    s.connect(address)\n",
      "Process Process-11:\n",
      "  File \"/home/lexa/anaconda3/envs/bio/lib/python3.6/multiprocessing/connection.py\", line 614, in SocketClient\n",
      "    s.connect(address)\n",
      "  File \"/home/lexa/anaconda3/envs/bio/lib/python3.6/multiprocessing/connection.py\", line 487, in Client\n",
      "    c = SocketClient(address)\n"
     ]
    },
    {
     "ename": "KeyboardInterrupt",
     "evalue": "",
     "output_type": "error",
     "traceback": [
      "\u001b[0;31m---------------------------------------------------------------------------\u001b[0m",
      "\u001b[0;31mKeyboardInterrupt\u001b[0m                         Traceback (most recent call last)",
      "\u001b[0;32m<ipython-input-17-c6b435d1dd44>\u001b[0m in \u001b[0;36m<module>\u001b[0;34m\u001b[0m\n\u001b[1;32m     10\u001b[0m                                 \u001b[0malign_recs_q\u001b[0m\u001b[0;34m,\u001b[0m\u001b[0;34m\u001b[0m\u001b[0;34m\u001b[0m\u001b[0m\n\u001b[1;32m     11\u001b[0m                                 \u001b[0mnew_recs_list\u001b[0m\u001b[0;34m,\u001b[0m\u001b[0;34m\u001b[0m\u001b[0;34m\u001b[0m\u001b[0m\n\u001b[0;32m---> 12\u001b[0;31m                                 max_gaps)\n\u001b[0m\u001b[1;32m     13\u001b[0m \u001b[0mend\u001b[0m \u001b[0;34m=\u001b[0m \u001b[0mtime\u001b[0m\u001b[0;34m.\u001b[0m\u001b[0mtime\u001b[0m\u001b[0;34m(\u001b[0m\u001b[0;34m)\u001b[0m\u001b[0;34m\u001b[0m\u001b[0;34m\u001b[0m\u001b[0m\n\u001b[1;32m     14\u001b[0m \u001b[0mprint\u001b[0m\u001b[0;34m(\u001b[0m\u001b[0;34mf'{str(datetime.timedelta(seconds=int(end - start)))}'\u001b[0m\u001b[0;34m)\u001b[0m\u001b[0;34m\u001b[0m\u001b[0;34m\u001b[0m\u001b[0m\n",
      "\u001b[0;32m~/anaconda3/envs/bio/lib/python3.6/concurrent/futures/_base.py\u001b[0m in \u001b[0;36m__exit__\u001b[0;34m(self, exc_type, exc_val, exc_tb)\u001b[0m\n\u001b[1;32m    609\u001b[0m \u001b[0;34m\u001b[0m\u001b[0m\n\u001b[1;32m    610\u001b[0m     \u001b[0;32mdef\u001b[0m \u001b[0m__exit__\u001b[0m\u001b[0;34m(\u001b[0m\u001b[0mself\u001b[0m\u001b[0;34m,\u001b[0m \u001b[0mexc_type\u001b[0m\u001b[0;34m,\u001b[0m \u001b[0mexc_val\u001b[0m\u001b[0;34m,\u001b[0m \u001b[0mexc_tb\u001b[0m\u001b[0;34m)\u001b[0m\u001b[0;34m:\u001b[0m\u001b[0;34m\u001b[0m\u001b[0;34m\u001b[0m\u001b[0m\n\u001b[0;32m--> 611\u001b[0;31m         \u001b[0mself\u001b[0m\u001b[0;34m.\u001b[0m\u001b[0mshutdown\u001b[0m\u001b[0;34m(\u001b[0m\u001b[0mwait\u001b[0m\u001b[0;34m=\u001b[0m\u001b[0;32mTrue\u001b[0m\u001b[0;34m)\u001b[0m\u001b[0;34m\u001b[0m\u001b[0;34m\u001b[0m\u001b[0m\n\u001b[0m\u001b[1;32m    612\u001b[0m         \u001b[0;32mreturn\u001b[0m \u001b[0;32mFalse\u001b[0m\u001b[0;34m\u001b[0m\u001b[0;34m\u001b[0m\u001b[0m\n",
      "\u001b[0;32m~/anaconda3/envs/bio/lib/python3.6/concurrent/futures/process.py\u001b[0m in \u001b[0;36mshutdown\u001b[0;34m(self, wait)\u001b[0m\n\u001b[1;32m    504\u001b[0m             \u001b[0mself\u001b[0m\u001b[0;34m.\u001b[0m\u001b[0m_result_queue\u001b[0m\u001b[0;34m.\u001b[0m\u001b[0mput\u001b[0m\u001b[0;34m(\u001b[0m\u001b[0;32mNone\u001b[0m\u001b[0;34m)\u001b[0m\u001b[0;34m\u001b[0m\u001b[0;34m\u001b[0m\u001b[0m\n\u001b[1;32m    505\u001b[0m             \u001b[0;32mif\u001b[0m \u001b[0mwait\u001b[0m\u001b[0;34m:\u001b[0m\u001b[0;34m\u001b[0m\u001b[0;34m\u001b[0m\u001b[0m\n\u001b[0;32m--> 506\u001b[0;31m                 \u001b[0mself\u001b[0m\u001b[0;34m.\u001b[0m\u001b[0m_queue_management_thread\u001b[0m\u001b[0;34m.\u001b[0m\u001b[0mjoin\u001b[0m\u001b[0;34m(\u001b[0m\u001b[0;34m)\u001b[0m\u001b[0;34m\u001b[0m\u001b[0;34m\u001b[0m\u001b[0m\n\u001b[0m\u001b[1;32m    507\u001b[0m         \u001b[0;31m# To reduce the risk of opening too many files, remove references to\u001b[0m\u001b[0;34m\u001b[0m\u001b[0;34m\u001b[0m\u001b[0;34m\u001b[0m\u001b[0m\n\u001b[1;32m    508\u001b[0m         \u001b[0;31m# objects that use file descriptors.\u001b[0m\u001b[0;34m\u001b[0m\u001b[0;34m\u001b[0m\u001b[0;34m\u001b[0m\u001b[0m\n",
      "\u001b[0;32m~/anaconda3/envs/bio/lib/python3.6/threading.py\u001b[0m in \u001b[0;36mjoin\u001b[0;34m(self, timeout)\u001b[0m\n\u001b[1;32m   1054\u001b[0m \u001b[0;34m\u001b[0m\u001b[0m\n\u001b[1;32m   1055\u001b[0m         \u001b[0;32mif\u001b[0m \u001b[0mtimeout\u001b[0m \u001b[0;32mis\u001b[0m \u001b[0;32mNone\u001b[0m\u001b[0;34m:\u001b[0m\u001b[0;34m\u001b[0m\u001b[0;34m\u001b[0m\u001b[0m\n\u001b[0;32m-> 1056\u001b[0;31m             \u001b[0mself\u001b[0m\u001b[0;34m.\u001b[0m\u001b[0m_wait_for_tstate_lock\u001b[0m\u001b[0;34m(\u001b[0m\u001b[0;34m)\u001b[0m\u001b[0;34m\u001b[0m\u001b[0;34m\u001b[0m\u001b[0m\n\u001b[0m\u001b[1;32m   1057\u001b[0m         \u001b[0;32melse\u001b[0m\u001b[0;34m:\u001b[0m\u001b[0;34m\u001b[0m\u001b[0;34m\u001b[0m\u001b[0m\n\u001b[1;32m   1058\u001b[0m             \u001b[0;31m# the behavior of a negative timeout isn't documented, but\u001b[0m\u001b[0;34m\u001b[0m\u001b[0;34m\u001b[0m\u001b[0;34m\u001b[0m\u001b[0m\n",
      "\u001b[0;32m~/anaconda3/envs/bio/lib/python3.6/threading.py\u001b[0m in \u001b[0;36m_wait_for_tstate_lock\u001b[0;34m(self, block, timeout)\u001b[0m\n\u001b[1;32m   1070\u001b[0m         \u001b[0;32mif\u001b[0m \u001b[0mlock\u001b[0m \u001b[0;32mis\u001b[0m \u001b[0;32mNone\u001b[0m\u001b[0;34m:\u001b[0m  \u001b[0;31m# already determined that the C code is done\u001b[0m\u001b[0;34m\u001b[0m\u001b[0;34m\u001b[0m\u001b[0m\n\u001b[1;32m   1071\u001b[0m             \u001b[0;32massert\u001b[0m \u001b[0mself\u001b[0m\u001b[0;34m.\u001b[0m\u001b[0m_is_stopped\u001b[0m\u001b[0;34m\u001b[0m\u001b[0;34m\u001b[0m\u001b[0m\n\u001b[0;32m-> 1072\u001b[0;31m         \u001b[0;32melif\u001b[0m \u001b[0mlock\u001b[0m\u001b[0;34m.\u001b[0m\u001b[0macquire\u001b[0m\u001b[0;34m(\u001b[0m\u001b[0mblock\u001b[0m\u001b[0;34m,\u001b[0m \u001b[0mtimeout\u001b[0m\u001b[0;34m)\u001b[0m\u001b[0;34m:\u001b[0m\u001b[0;34m\u001b[0m\u001b[0;34m\u001b[0m\u001b[0m\n\u001b[0m\u001b[1;32m   1073\u001b[0m             \u001b[0mlock\u001b[0m\u001b[0;34m.\u001b[0m\u001b[0mrelease\u001b[0m\u001b[0;34m(\u001b[0m\u001b[0;34m)\u001b[0m\u001b[0;34m\u001b[0m\u001b[0;34m\u001b[0m\u001b[0m\n\u001b[1;32m   1074\u001b[0m             \u001b[0mself\u001b[0m\u001b[0;34m.\u001b[0m\u001b[0m_stop\u001b[0m\u001b[0;34m(\u001b[0m\u001b[0;34m)\u001b[0m\u001b[0;34m\u001b[0m\u001b[0;34m\u001b[0m\u001b[0m\n",
      "\u001b[0;31mKeyboardInterrupt\u001b[0m: "
     ]
    },
    {
     "name": "stderr",
     "output_type": "stream",
     "text": [
      "  File \"/home/lexa/anaconda3/envs/bio/lib/python3.6/multiprocessing/queues.py\", line 113, in get\n",
      "    return _ForkingPickler.loads(res)\n",
      "  File \"/home/lexa/anaconda3/envs/bio/lib/python3.6/multiprocessing/managers.py\", line 881, in RebuildProxy\n",
      "    return func(token, serializer, incref=incref, **kwds)\n",
      "Process Process-10:\n",
      "FileNotFoundError: [Errno 2] No such file or directory\n",
      "  File \"/home/lexa/anaconda3/envs/bio/lib/python3.6/concurrent/futures/process.py\", line 169, in _process_worker\n",
      "    call_item = call_queue.get(block=True)\n",
      "  File \"/home/lexa/anaconda3/envs/bio/lib/python3.6/multiprocessing/managers.py\", line 930, in AutoProxy\n",
      "    incref=incref)\n",
      "Traceback (most recent call last):\n",
      "  File \"/home/lexa/anaconda3/envs/bio/lib/python3.6/multiprocessing/managers.py\", line 881, in RebuildProxy\n",
      "    return func(token, serializer, incref=incref, **kwds)\n",
      "FileNotFoundError: [Errno 2] No such file or directory\n",
      "FileNotFoundError: [Errno 2] No such file or directory\n",
      "  File \"/home/lexa/anaconda3/envs/bio/lib/python3.6/multiprocessing/process.py\", line 258, in _bootstrap\n",
      "    self.run()\n",
      "  File \"/home/lexa/anaconda3/envs/bio/lib/python3.6/multiprocessing/queues.py\", line 113, in get\n",
      "    return _ForkingPickler.loads(res)\n",
      "  File \"/home/lexa/anaconda3/envs/bio/lib/python3.6/multiprocessing/managers.py\", line 930, in AutoProxy\n",
      "    incref=incref)\n",
      "Traceback (most recent call last):\n",
      "  File \"/home/lexa/anaconda3/envs/bio/lib/python3.6/multiprocessing/managers.py\", line 881, in RebuildProxy\n",
      "    return func(token, serializer, incref=incref, **kwds)\n",
      "  File \"/home/lexa/anaconda3/envs/bio/lib/python3.6/multiprocessing/managers.py\", line 731, in __init__\n",
      "    self._incref()\n",
      "  File \"/home/lexa/anaconda3/envs/bio/lib/python3.6/multiprocessing/managers.py\", line 930, in AutoProxy\n",
      "    incref=incref)\n",
      "  File \"/home/lexa/anaconda3/envs/bio/lib/python3.6/multiprocessing/process.py\", line 258, in _bootstrap\n",
      "    self.run()\n",
      "  File \"/home/lexa/anaconda3/envs/bio/lib/python3.6/multiprocessing/managers.py\", line 731, in __init__\n",
      "    self._incref()\n",
      "  File \"/home/lexa/anaconda3/envs/bio/lib/python3.6/multiprocessing/managers.py\", line 731, in __init__\n",
      "    self._incref()\n",
      "  File \"/home/lexa/anaconda3/envs/bio/lib/python3.6/multiprocessing/managers.py\", line 785, in _incref\n",
      "    conn = self._Client(self._token.address, authkey=self._authkey)\n",
      "  File \"/home/lexa/anaconda3/envs/bio/lib/python3.6/multiprocessing/process.py\", line 93, in run\n",
      "    self._target(*self._args, **self._kwargs)\n",
      "  File \"/home/lexa/anaconda3/envs/bio/lib/python3.6/multiprocessing/process.py\", line 93, in run\n",
      "    self._target(*self._args, **self._kwargs)\n",
      "  File \"/home/lexa/anaconda3/envs/bio/lib/python3.6/concurrent/futures/process.py\", line 169, in _process_worker\n",
      "    call_item = call_queue.get(block=True)\n",
      "  File \"/home/lexa/anaconda3/envs/bio/lib/python3.6/multiprocessing/connection.py\", line 487, in Client\n",
      "    c = SocketClient(address)\n",
      "  File \"/home/lexa/anaconda3/envs/bio/lib/python3.6/concurrent/futures/process.py\", line 169, in _process_worker\n",
      "    call_item = call_queue.get(block=True)\n",
      "  File \"/home/lexa/anaconda3/envs/bio/lib/python3.6/multiprocessing/connection.py\", line 614, in SocketClient\n",
      "    s.connect(address)\n",
      "  File \"/home/lexa/anaconda3/envs/bio/lib/python3.6/multiprocessing/queues.py\", line 113, in get\n",
      "    return _ForkingPickler.loads(res)\n",
      "FileNotFoundError: [Errno 2] No such file or directory\n",
      "  File \"/home/lexa/anaconda3/envs/bio/lib/python3.6/multiprocessing/managers.py\", line 881, in RebuildProxy\n",
      "    return func(token, serializer, incref=incref, **kwds)\n",
      "  File \"/home/lexa/anaconda3/envs/bio/lib/python3.6/multiprocessing/managers.py\", line 930, in AutoProxy\n",
      "    incref=incref)\n",
      "  File \"/home/lexa/anaconda3/envs/bio/lib/python3.6/multiprocessing/managers.py\", line 731, in __init__\n",
      "    self._incref()\n",
      "  File \"/home/lexa/anaconda3/envs/bio/lib/python3.6/multiprocessing/managers.py\", line 785, in _incref\n",
      "    conn = self._Client(self._token.address, authkey=self._authkey)\n",
      "  File \"/home/lexa/anaconda3/envs/bio/lib/python3.6/multiprocessing/connection.py\", line 487, in Client\n",
      "    c = SocketClient(address)\n",
      "  File \"/home/lexa/anaconda3/envs/bio/lib/python3.6/multiprocessing/managers.py\", line 785, in _incref\n",
      "    conn = self._Client(self._token.address, authkey=self._authkey)\n",
      "  File \"/home/lexa/anaconda3/envs/bio/lib/python3.6/multiprocessing/connection.py\", line 614, in SocketClient\n",
      "    s.connect(address)\n",
      "FileNotFoundError: [Errno 2] No such file or directory\n",
      "  File \"/home/lexa/anaconda3/envs/bio/lib/python3.6/multiprocessing/managers.py\", line 785, in _incref\n",
      "    conn = self._Client(self._token.address, authkey=self._authkey)\n",
      "  File \"/home/lexa/anaconda3/envs/bio/lib/python3.6/multiprocessing/connection.py\", line 487, in Client\n",
      "    c = SocketClient(address)\n",
      "  File \"/home/lexa/anaconda3/envs/bio/lib/python3.6/multiprocessing/connection.py\", line 487, in Client\n",
      "    c = SocketClient(address)\n",
      "  File \"/home/lexa/anaconda3/envs/bio/lib/python3.6/multiprocessing/connection.py\", line 614, in SocketClient\n",
      "    s.connect(address)\n",
      "  File \"/home/lexa/anaconda3/envs/bio/lib/python3.6/multiprocessing/queues.py\", line 113, in get\n",
      "    return _ForkingPickler.loads(res)\n",
      "  File \"/home/lexa/anaconda3/envs/bio/lib/python3.6/multiprocessing/connection.py\", line 614, in SocketClient\n",
      "    s.connect(address)\n",
      "FileNotFoundError: [Errno 2] No such file or directory\n",
      "  File \"/home/lexa/anaconda3/envs/bio/lib/python3.6/multiprocessing/managers.py\", line 881, in RebuildProxy\n",
      "    return func(token, serializer, incref=incref, **kwds)\n"
     ]
    }
   ],
   "source": [
    "# parallel processing of records in align_var_primer_and_strip()\n",
    "max_gaps = 3\n",
    "start = time.time()\n",
    "with ProcessPoolExecutor(max_workers=number_of_cpus) as extract_and_align:\n",
    "    for i in range(fasta_recs_q.qsize()):\n",
    "        extract_and_align.submit(align_var_primer_and_strip, \n",
    "                                fasta_recs_q, \n",
    "                                p489_rc_deg_list, \n",
    "                                primer_recs_list, \n",
    "                                align_recs_q,\n",
    "                                new_recs_list,\n",
    "                                max_gaps)\n",
    "end = time.time()\n",
    "print(f'{str(datetime.timedelta(seconds=int(end - start)))}')"
   ]
  },
  {
   "cell_type": "code",
   "execution_count": null,
   "metadata": {},
   "outputs": [],
   "source": [
    "out_fasta = f'{in_fasta[:-6]}_dup.fasta'\n",
    "count = SeqIO.write(recs_gen, out_fasta, 'fasta')    "
   ]
  },
  {
   "cell_type": "code",
   "execution_count": 49,
   "metadata": {},
   "outputs": [],
   "source": [
    "align_file = \"../result/pairwise2_394.txt\"\n",
    "write_align_file(align_file, align_recs_q)"
   ]
  },
  {
   "cell_type": "code",
   "execution_count": 50,
   "metadata": {},
   "outputs": [
    {
     "name": "stdout",
     "output_type": "stream",
     "text": [
      "Wrote 3606 records with primer\n"
     ]
    }
   ],
   "source": [
    "fasta_file = \"Flank_5UTR_394_L1.fasta\"\n",
    "write_fasta_with_primer(fasta_file, primer_recs_list)"
   ]
  },
  {
   "cell_type": "markdown",
   "metadata": {},
   "source": [
    "### 2c. Extract L1 sequences from 3' end of primer"
   ]
  },
  {
   "cell_type": "code",
   "execution_count": 4,
   "metadata": {},
   "outputs": [
    {
     "name": "stdout",
     "output_type": "stream",
     "text": [
      "[Errno 2] No such file or directory: 'work'\n",
      "/home/lexa/bioinformatics/Tasks/L1_Parse_NEW/work\n"
     ]
    }
   ],
   "source": [
    "%cd work"
   ]
  },
  {
   "cell_type": "code",
   "execution_count": 5,
   "metadata": {},
   "outputs": [],
   "source": [
    "f255 = 'Flank_5UTR_255_L1.fasta'\n",
    "f394 = 'Flank_5UTR_394_L1.fasta'\n",
    "f489 = 'Flank_5UTR_489_L1.fasta'"
   ]
  },
  {
   "cell_type": "markdown",
   "metadata": {},
   "source": [
    "## 3. Statistics on primer distribution"
   ]
  },
  {
   "cell_type": "code",
   "execution_count": 52,
   "metadata": {},
   "outputs": [],
   "source": [
    "%matplotlib inline"
   ]
  },
  {
   "cell_type": "code",
   "execution_count": 70,
   "metadata": {},
   "outputs": [],
   "source": [
    "# Cut leaving only 300bp flank and rename as 3-letters code '255', '394', '489' \n",
    "def copy_and_rename(*fasta):\n",
    "    for fasta_file in fasta:\n",
    "        recs_list = []\n",
    "        f_name = fasta_file[11:-9]\n",
    "        for rec in SeqIO.parse(fasta_file, 'fasta'):\n",
    "            new_seq = rec.seq._data[:300]\n",
    "            new_id = rec.id\n",
    "            new_rec = SeqRecord(Seq(new_seq, generic_dna))\n",
    "            new_rec.id = new_id\n",
    "            recs_list.append(new_rec)\n",
    "        recs_gen = (rec for rec in recs_list)\n",
    "        out_fasta = f'{f_name}_flank.fasta'\n",
    "        count = SeqIO.write(recs_gen, out_fasta, 'fasta')\n",
    "        print(f'{count} records reduced to 300bp flank in \"{out_fasta}\"')          "
   ]
  },
  {
   "cell_type": "code",
   "execution_count": 71,
   "metadata": {},
   "outputs": [
    {
     "name": "stdout",
     "output_type": "stream",
     "text": [
      "3617 records reduced to 300bp flank in \"255_flank.fasta\"\n",
      "3606 records reduced to 300bp flank in \"394_flank.fasta\"\n",
      "4558 records reduced to 300bp flank in \"489_flank.fasta\"\n"
     ]
    }
   ],
   "source": [
    "f255 = 'Flank_5UTR_255_L1.fasta'\n",
    "f394 = 'Flank_5UTR_394_L1.fasta'\n",
    "f489 = 'Flank_5UTR_489_L1.fasta'\n",
    "copy_and_rename(f255, f394, f489)"
   ]
  },
  {
   "cell_type": "code",
   "execution_count": 78,
   "metadata": {},
   "outputs": [],
   "source": [
    "# Function returning the list of intersecting records in a list of fasta files\n",
    "def get_intersection(*fasta):\n",
    "    rec_lists = []\n",
    "    for fasta_file in fasta:\n",
    "        temp_list = [rec.id for rec in SeqIO.parse(fasta_file, 'fasta')]\n",
    "        rec_lists.append(temp_list)\n",
    "    \n",
    "    match_list = list(set.intersection(*[set(_list) for _list in rec_lists]))\n",
    "    \n",
    "    return match_list"
   ]
  },
  {
   "cell_type": "code",
   "execution_count": 79,
   "metadata": {},
   "outputs": [],
   "source": [
    "# Function returning the list of intersecting records in a list of fasta files\n",
    "# specifying a name present in some records only\n",
    "def get_intersection_with_name(name, *fasta):\n",
    "    rec_lists = []\n",
    "    for fasta_file in fasta:\n",
    "        temp_list = [rec.id for rec in SeqIO.parse(fasta_file, 'fasta') if name in rec.id]\n",
    "        rec_lists.append(temp_list)\n",
    "    \n",
    "    match_list = list(set.intersection(*[set(_list) for _list in rec_lists]))\n",
    "    \n",
    "    return match_list"
   ]
  },
  {
   "cell_type": "code",
   "execution_count": 75,
   "metadata": {},
   "outputs": [],
   "source": [
    "# takes a ref sequences fasta, a req names list, and a list of fasta files \n",
    "# each containing a subset of sequences in the ref\n",
    "# returns a paands with count per name in provided list\n",
    "def get_light_stats(ref_fasta, req_names, *fasta):\n",
    "    \n",
    "    count_dict = {key: 0 for key in req_names}\n",
    "\n",
    "    # ref records counts\n",
    "    for rec in SeqIO.parse(ref_fasta, \"fasta\"):\n",
    "        for req_name in req_names:\n",
    "            if req_name in rec.id:\n",
    "                count_dict[req_name] += 1\n",
    "                break\n",
    "    total_list = [count for count in count_dict.values()]\n",
    "    df_dict = {'name': req_names, 'n': total_list}\n",
    "    \n",
    "    # req records counts\n",
    "    for fasta_file in fasta:\n",
    "        count_dict = count_dict.fromkeys(count_dict, 0)\n",
    "        for rec in SeqIO.parse(fasta_file, \"fasta\"):\n",
    "            for req_name in req_names:\n",
    "                if req_name in rec.id:\n",
    "                    count_dict[req_name] += 1\n",
    "                    break    \n",
    "        count_list = [count for count in count_dict.values()]\n",
    "        key = fasta_file[:4]\n",
    "        df_dict[key] = count_list\n",
    "\n",
    "    light_stat_df = pd.DataFrame.from_dict(df_dict)\n",
    "\n",
    "    return light_stat_df "
   ]
  },
  {
   "cell_type": "code",
   "execution_count": 87,
   "metadata": {},
   "outputs": [],
   "source": [
    "# takes a ref fasta, element names list, and x fasta request files \n",
    "# with names as shortest id \"255\", \"489\"..\n",
    "# max 3 request sequences\n",
    "# input fasta file MUST start with primer 3-letters code '255', '394'..\n",
    "def get_full_stats(ref, names, *fasta):\n",
    "    \n",
    "    req_list = [name[:4] for name in fasta]\n",
    "    fasta_list = [file for file in fasta]\n",
    "    \n",
    "    # elements count in ref\n",
    "    count_dict = {key: 0 for key in names}\n",
    "    for rec in SeqIO.parse(ref, \"fasta\"):\n",
    "        for name in names:\n",
    "            if name in rec.id:\n",
    "                count_dict[name] += 1\n",
    "                break\n",
    "    total_list = [count for count in count_dict.values()]\n",
    "    df_dict = {'name': names, 'n': total_list}\n",
    "    \n",
    "    # 'with' column: req sequences count\n",
    "    for fasta_file in fasta:\n",
    "        count_dict = {key: 0 for key in names}\n",
    "        for rec in SeqIO.parse(fasta_file, \"fasta\"):\n",
    "            for name in names:\n",
    "                if name in rec.id:\n",
    "                    count_dict[name] += 1\n",
    "                    break    \n",
    "        req_count_list = [count for count in count_dict.values()]\n",
    "        col_name = f'with {fasta_file[:4]}'\n",
    "        df_dict[col_name] = req_count_list\n",
    "\n",
    "    stat_df = pd.DataFrame.from_dict(df_dict)\n",
    "    stat_df.columns.name = 'idx'\n",
    "    \n",
    "    # 'with all' column: intersection of req sequences counts\n",
    "    # call of get_ids_with_all_primers(*fasta)\n",
    "    count_dict = {key: 0 for key in names}\n",
    "    all_list = get_intersection(*fasta)\n",
    "    for _id in all_list:\n",
    "        for name in names:\n",
    "            if name in _id:\n",
    "                count_dict[name] += 1\n",
    "    req_count_list = [count for count in count_dict.values()]\n",
    "    stat_df['with all'] = req_count_list\n",
    "    \n",
    "    if len(fasta) == 2:\n",
    "        # 'only req' columns: 'with all' - 'with req'\n",
    "        count_dict = {key: 0 for key in names}\n",
    "        for req_name in req_list:\n",
    "            col_name = f'only {req_name}'\n",
    "            col_with = f'with {req_name}'\n",
    "            stat_df[col_name] = stat_df[col_with] - stat_df['with all']\n",
    "    \n",
    "    if len(fasta) == 3:\n",
    "        for fasta_file in fasta:\n",
    "            if fasta_file == fasta[0]:\n",
    "                ridx = 0\n",
    "                for name in names:\n",
    "                    req_name = fasta_file[:4]\n",
    "                    interAB = get_intersection_with_name(name, fasta[0], fasta[1])\n",
    "                    interAC = get_intersection_with_name(name, fasta[0], fasta[2])\n",
    "                    only_col = f'only {req_name}'\n",
    "                    with_col = f'with {req_name}'\n",
    "                    stat_df.loc[ridx, only_col] = stat_df.loc[ridx, with_col] + stat_df.loc[ridx, 'with all'] - len(interAB) - len(interAC)\n",
    "                    ridx += 1\n",
    "            if fasta_file == fasta[1]:\n",
    "                ridx = 0\n",
    "                for name in names:\n",
    "                    req_name = fasta_file[:4]\n",
    "                    interAB = get_intersection_with_name(name, fasta[0], fasta[1])\n",
    "                    interBC = get_intersection_with_name(name, fasta[1], fasta[2])\n",
    "                    only_col = f'only {req_name}'\n",
    "                    with_col = f'with {req_name}'\n",
    "                    stat_df.loc[ridx, only_col] = stat_df.loc[ridx, with_col] + stat_df.loc[ridx, 'with all'] - len(interAB) - len(interBC)\n",
    "                    ridx += 1\n",
    "            if fasta_file == fasta[2]:\n",
    "                ridx = 0\n",
    "                for name in names:\n",
    "                    req_name = fasta_file[:4]\n",
    "                    interAC = get_intersection_with_name(name, fasta[0], fasta[2])\n",
    "                    interBC = get_intersection_with_name(name, fasta[1], fasta[2])\n",
    "                    only_col = f'only {req_name}'\n",
    "                    with_col = f'with {req_name}'\n",
    "                    stat_df.loc[ridx, only_col] = stat_df.loc[ridx, with_col] + stat_df.loc[ridx, 'with all'] - len(interAC) - len(interBC)\n",
    "                    ridx += 1\n",
    "                    \n",
    "    if len(fasta) == 2:\n",
    "        stat_df['without'] = stat_df['n'] - stat_df['with all']\n",
    "        for idx in range(len(names)):\n",
    "            for req_name in req_list:\n",
    "                col_only = f'only {req_name}'\n",
    "                stat_df.loc[idx, 'without'] -= stat_df.loc[idx, col_only] \n",
    "        stat_df.loc[len(stat_df)] = stat_df.iloc[:, 1:].sum().append(pd.Series({'name':'TOTAL'}))\n",
    "    \n",
    "    if len(fasta) == 3:\n",
    "        #idx = 0\n",
    "        #for name in names:\n",
    "            #interAB = get_intersection_with_name(name, fasta[0], fasta[1])\n",
    "            #interBC = get_intersection_with_name(name, fasta[1], fasta[2])\n",
    "            #interAC = get_intersection_with_name(name, fasta[0], fasta[2])\n",
    "            #stat_df.loc[idx, f'both {fasta[0][:4]}/{fasta[1][:4]}'] = len(interAB)\n",
    "            #stat_df.loc[idx, f'both {fasta[1][:4]}/{fasta[2][:4]}'] = len(interBC)\n",
    "            #stat_df.loc[idx, f'both {fasta[0][:4]}/{fasta[2][:4]}'] = len(interAC)\n",
    "            #idx+=1\n",
    "        idx = 0     \n",
    "        stat_df['without'] = stat_df['n'] + stat_df['with all'] + stat_df['with all']\n",
    "        for name in names:\n",
    "            interAB = get_intersection_with_name(name, fasta[0], fasta[1])\n",
    "            interBC = get_intersection_with_name(name, fasta[1], fasta[2])\n",
    "            interAC = get_intersection_with_name(name, fasta[0], fasta[2])\n",
    "            for req_name in req_list:\n",
    "                col_only = f'only {req_name}'\n",
    "                stat_df.loc[idx, 'without'] -= stat_df.loc[idx, col_only]\n",
    "            negative_inter = len(interAB) + len(interBC) + len(interAC)\n",
    "            stat_df.loc[idx, 'without'] -= negative_inter\n",
    "            idx += 1            \n",
    "        stat_df.loc[len(stat_df)] = stat_df.iloc[:, 1:].sum().append(pd.Series({'name':'TOTAL'}))\n",
    "        pd.options.display.float_format = '{:.0f}'.format\n",
    "    \n",
    "    return stat_df "
   ]
  },
  {
   "cell_type": "code",
   "execution_count": 77,
   "metadata": {},
   "outputs": [],
   "source": [
    "def nested_donut(l1_df):\n",
    "    \n",
    "    labels = l1_df.ix[:4,'name'].tolist()\n",
    "    counts = l1_df.ix[:4,'n'].tolist()\n",
    "    colN = len(l1_df.columns)    \n",
    "    reqN = int((colN-4)/2)\n",
    "    col_req_names = []\n",
    "    # adding column names of x 'only req'\n",
    "    [col_req_names.append(l1_df.columns[3+reqN+i]) for i in range(reqN)]\n",
    "    # adding 'with all'\n",
    "    col_req_names.append(l1_df.columns[2+reqN])\n",
    "    # adding 'without'\n",
    "    col_req_names.append(l1_df.columns[-1])\n",
    "    \n",
    "    # creates list of list of column values: 'only Req'(x), 'with all', 'without'\n",
    "    counts_l = []\n",
    "    for ridx in l1_df.index[:-1]:\n",
    "        count_list = []\n",
    "        # adds ech req columns values to count_list\n",
    "        for idx in range(reqN):\n",
    "            cidx = 3+reqN+idx\n",
    "            count_list.append(l1_df.iloc[ridx, cidx])\n",
    "\n",
    "        # add 'with all'(4) values to count_list\n",
    "        cidx = int(2+reqN)\n",
    "        count_list.append(l1_df.iloc[ridx, cidx])\n",
    "        # add 'without'(7) to count_list\n",
    "        cidx = int(3+(reqN)*2)\n",
    "        count_list.append(l1_df.iloc[ridx, cidx])\n",
    "        counts_l.append(count_list)\n",
    "\n",
    "    counts_primer = list(itertools.chain.from_iterable(counts_l))\n",
    "    \n",
    "    colors = ['#1e8d69', '#3ed0a1', '#1e8343', '#0c5828', '#009838']\n",
    "    colors_primer = ['#ff0000','#8000ff','#ff00ff','#ff8000', \n",
    "    '#ff0000','#8000ff','#ff00ff','#ff8000',\n",
    "    '#ff0000','#8000ff','#ff00ff','#ff8000',\n",
    "    '#ff0000','#8000ff','#ff00ff','#ff8000',\n",
    "    '#ff0000','#8000ff','#ff00ff','#ff8000']\n",
    "\n",
    "    label_1 = mpatches.Patch(color='#ff0000', label=l1_df.columns[5])\n",
    "    label_2 = mpatches.Patch(color='#8000ff', label=l1_df.columns[6])\n",
    "    label_all = mpatches.Patch(color='#ff00ff', label=l1_df.columns[4])\n",
    "    label_without = mpatches.Patch(color='#ff8000', label=l1_df.columns[7])\n",
    "    plt.legend(handles=[label_1, label_2, label_all, label_without])\n",
    "\n",
    "    plt.rcParams['figure.figsize'] = [12, 11]\n",
    "    plt.rcParams['patch.linewidth'] = 0\n",
    "    \n",
    "    a = plt.pie(counts, labels=labels, colors=colors, startangle=0, frame=True, radius=5)\n",
    "    b = plt.pie(counts_primer, colors=colors_primer, startangle=0, radius=3)\n",
    "    \n",
    "    \n",
    "    [x.set_alpha(0.9) for x in a[0]]\n",
    "    [x.set_alpha(0.8) for x in b[0]]\n",
    "    \n",
    "    centre_circle = plt.Circle((0,0),1.5,color='black', fc='white',linewidth=0)\n",
    "    fig = plt.gcf()\n",
    "    fig.gca().add_artist(centre_circle)\n",
    "    \n",
    "    # title string builder for reqs\n",
    "    reqs = [f'{req[5:]}' for req in col_req_names[:-2]]\n",
    "    req_string = ''\n",
    "    for req in reqs:\n",
    "        if req == reqs[-1]:\n",
    "            req_string = req_string + req\n",
    "        else:\n",
    "            req_string = req_string + req + ' & '\n",
    "    \n",
    "    plt.title(f'{req_string} Primers Distribution in >5500 L1s (hg38)')\n",
    "    plt.axis('equal')\n",
    "    plt.tight_layout()\n",
    "    f = f'{req_string}_distribution.png'\n",
    "    plt.savefig(f)\n",
    "    plt.show()\n",
    "    return plt"
   ]
  },
  {
   "cell_type": "markdown",
   "metadata": {},
   "source": [
    "### 3a. Comparative stats of all 3 primers"
   ]
  },
  {
   "cell_type": "code",
   "execution_count": 78,
   "metadata": {},
   "outputs": [
    {
     "data": {
      "text/html": [
       "<div>\n",
       "<style scoped>\n",
       "    .dataframe tbody tr th:only-of-type {\n",
       "        vertical-align: middle;\n",
       "    }\n",
       "\n",
       "    .dataframe tbody tr th {\n",
       "        vertical-align: top;\n",
       "    }\n",
       "\n",
       "    .dataframe thead th {\n",
       "        text-align: right;\n",
       "    }\n",
       "</style>\n",
       "<table border=\"1\" class=\"dataframe\">\n",
       "  <thead>\n",
       "    <tr style=\"text-align: right;\">\n",
       "      <th></th>\n",
       "      <th>name</th>\n",
       "      <th>n</th>\n",
       "      <th>255</th>\n",
       "      <th>394</th>\n",
       "      <th>489</th>\n",
       "    </tr>\n",
       "  </thead>\n",
       "  <tbody>\n",
       "    <tr>\n",
       "      <td>0</td>\n",
       "      <td>L1HS</td>\n",
       "      <td>331</td>\n",
       "      <td>319</td>\n",
       "      <td>318</td>\n",
       "      <td>323</td>\n",
       "    </tr>\n",
       "    <tr>\n",
       "      <td>1</td>\n",
       "      <td>L1PA2</td>\n",
       "      <td>1087</td>\n",
       "      <td>1046</td>\n",
       "      <td>1051</td>\n",
       "      <td>1037</td>\n",
       "    </tr>\n",
       "    <tr>\n",
       "      <td>2</td>\n",
       "      <td>L1PA3</td>\n",
       "      <td>1567</td>\n",
       "      <td>1232</td>\n",
       "      <td>1429</td>\n",
       "      <td>1423</td>\n",
       "    </tr>\n",
       "    <tr>\n",
       "      <td>3</td>\n",
       "      <td>L1PA4</td>\n",
       "      <td>1422</td>\n",
       "      <td>972</td>\n",
       "      <td>636</td>\n",
       "      <td>1075</td>\n",
       "    </tr>\n",
       "    <tr>\n",
       "      <td>4</td>\n",
       "      <td>L1PA5</td>\n",
       "      <td>1032</td>\n",
       "      <td>48</td>\n",
       "      <td>172</td>\n",
       "      <td>700</td>\n",
       "    </tr>\n",
       "  </tbody>\n",
       "</table>\n",
       "</div>"
      ],
      "text/plain": [
       "    name     n   255   394   489\n",
       "0   L1HS   331   319   318   323\n",
       "1  L1PA2  1087  1046  1051  1037\n",
       "2  L1PA3  1567  1232  1429  1423\n",
       "3  L1PA4  1422   972   636  1075\n",
       "4  L1PA5  1032    48   172   700"
      ]
     },
     "execution_count": 78,
     "metadata": {},
     "output_type": "execute_result"
    }
   ],
   "source": [
    "# light stats\n",
    "reff = 'Flank_L1.fasta'\n",
    "reql = ['L1HS', 'L1PA2', 'L1PA3', 'L1PA4', 'L1PA5']\n",
    "p255 = 'c255_flank.fasta'\n",
    "p394 = 'c394_flank.fasta'\n",
    "p489 = 'c489_flank.fasta'\n",
    "light_df = get_light_stats(reff, reql, p255, p394, p489)\n",
    "light_df"
   ]
  },
  {
   "cell_type": "code",
   "execution_count": 79,
   "metadata": {},
   "outputs": [
    {
     "data": {
      "image/png": "[encoded data removed]",
      "text/plain": [
       "<Figure size 1253.29x576 with 1 Axes>"
      ]
     },
     "metadata": {},
     "output_type": "display_data"
    }
   ],
   "source": [
    "df_melt = light_df.melt('name', var_name='Count Type', value_name='count')\n",
    "sns.set(font_scale=1.5)\n",
    "g = sns.catplot(x=\"name\", \n",
    "                y=\"count\", \n",
    "                kind=\"bar\", \n",
    "                hue='Count Type', \n",
    "                data=df_melt, \n",
    "                height=8, \n",
    "                aspect=2, \n",
    "                palette=sns.color_palette(['#1e8d69', '#8000ff', '#ff00ff', '#ff8000', '#ff80ff']),\n",
    "                alpha=.9)\n",
    "g.savefig('Primers_Histogram.png')"
   ]
  },
  {
   "cell_type": "code",
   "execution_count": 88,
   "metadata": {
    "scrolled": true
   },
   "outputs": [
    {
     "data": {
      "text/html": [
       "<div>\n",
       "<style scoped>\n",
       "    .dataframe tbody tr th:only-of-type {\n",
       "        vertical-align: middle;\n",
       "    }\n",
       "\n",
       "    .dataframe tbody tr th {\n",
       "        vertical-align: top;\n",
       "    }\n",
       "\n",
       "    .dataframe thead th {\n",
       "        text-align: right;\n",
       "    }\n",
       "</style>\n",
       "<table border=\"1\" class=\"dataframe\">\n",
       "  <thead>\n",
       "    <tr style=\"text-align: right;\">\n",
       "      <th>idx</th>\n",
       "      <th>name</th>\n",
       "      <th>n</th>\n",
       "      <th>with c255</th>\n",
       "      <th>with c394</th>\n",
       "      <th>with c489</th>\n",
       "      <th>with all</th>\n",
       "      <th>only c255</th>\n",
       "      <th>only c394</th>\n",
       "      <th>only c489</th>\n",
       "      <th>without</th>\n",
       "    </tr>\n",
       "  </thead>\n",
       "  <tbody>\n",
       "    <tr>\n",
       "      <th>0</th>\n",
       "      <td>L1HS</td>\n",
       "      <td>331</td>\n",
       "      <td>319</td>\n",
       "      <td>318</td>\n",
       "      <td>323</td>\n",
       "      <td>312</td>\n",
       "      <td>0</td>\n",
       "      <td>0</td>\n",
       "      <td>6</td>\n",
       "      <td>4</td>\n",
       "    </tr>\n",
       "    <tr>\n",
       "      <th>1</th>\n",
       "      <td>L1PA2</td>\n",
       "      <td>1087</td>\n",
       "      <td>1046</td>\n",
       "      <td>1051</td>\n",
       "      <td>1037</td>\n",
       "      <td>986</td>\n",
       "      <td>0</td>\n",
       "      <td>1</td>\n",
       "      <td>13</td>\n",
       "      <td>6</td>\n",
       "    </tr>\n",
       "    <tr>\n",
       "      <th>2</th>\n",
       "      <td>L1PA3</td>\n",
       "      <td>1567</td>\n",
       "      <td>1232</td>\n",
       "      <td>1429</td>\n",
       "      <td>1423</td>\n",
       "      <td>1113</td>\n",
       "      <td>2</td>\n",
       "      <td>14</td>\n",
       "      <td>37</td>\n",
       "      <td>55</td>\n",
       "    </tr>\n",
       "    <tr>\n",
       "      <th>3</th>\n",
       "      <td>L1PA4</td>\n",
       "      <td>1422</td>\n",
       "      <td>972</td>\n",
       "      <td>636</td>\n",
       "      <td>1075</td>\n",
       "      <td>420</td>\n",
       "      <td>106</td>\n",
       "      <td>29</td>\n",
       "      <td>178</td>\n",
       "      <td>134</td>\n",
       "    </tr>\n",
       "    <tr>\n",
       "      <th>4</th>\n",
       "      <td>L1PA5</td>\n",
       "      <td>1032</td>\n",
       "      <td>48</td>\n",
       "      <td>172</td>\n",
       "      <td>700</td>\n",
       "      <td>21</td>\n",
       "      <td>4</td>\n",
       "      <td>27</td>\n",
       "      <td>534</td>\n",
       "      <td>300</td>\n",
       "    </tr>\n",
       "    <tr>\n",
       "      <th>5</th>\n",
       "      <td>TOTAL</td>\n",
       "      <td>5439</td>\n",
       "      <td>3617</td>\n",
       "      <td>3606</td>\n",
       "      <td>4558</td>\n",
       "      <td>2852</td>\n",
       "      <td>112</td>\n",
       "      <td>71</td>\n",
       "      <td>768</td>\n",
       "      <td>499</td>\n",
       "    </tr>\n",
       "  </tbody>\n",
       "</table>\n",
       "</div>"
      ],
      "text/plain": [
       "idx   name    n  with c255  with c394  with c489  with all  only c255  \\\n",
       "0     L1HS  331        319        318        323       312          0   \n",
       "1    L1PA2 1087       1046       1051       1037       986          0   \n",
       "2    L1PA3 1567       1232       1429       1423      1113          2   \n",
       "3    L1PA4 1422        972        636       1075       420        106   \n",
       "4    L1PA5 1032         48        172        700        21          4   \n",
       "5    TOTAL 5439       3617       3606       4558      2852        112   \n",
       "\n",
       "idx  only c394  only c489  without  \n",
       "0            0          6        4  \n",
       "1            1         13        6  \n",
       "2           14         37       55  \n",
       "3           29        178      134  \n",
       "4           27        534      300  \n",
       "5           71        768      499  "
      ]
     },
     "execution_count": 88,
     "metadata": {},
     "output_type": "execute_result"
    }
   ],
   "source": [
    "# full stats of all 3 primers\n",
    "reff = 'Flank_L1.fasta'\n",
    "p255 = 'c255_flank.fasta'\n",
    "p394 = 'c394_flank.fasta'\n",
    "p489 = 'c489_flank.fasta'\n",
    "names = ['L1HS', 'L1PA2', 'L1PA3', 'L1PA4', 'L1PA5']\n",
    "full_df = get_full_stats(reff, names, p255, p394, p489)\n",
    "full_df.to_csv(r'primers_full_stats.csv')\n",
    "full_df.to_html(open('primers_full_stats.html', 'w'))\n",
    "full_df"
   ]
  },
  {
   "cell_type": "code",
   "execution_count": 326,
   "metadata": {},
   "outputs": [
    {
     "data": {
      "image/png": "[encoded data removed]",
      "text/plain": [
       "<Figure size 864x792 with 1 Axes>"
      ]
     },
     "metadata": {},
     "output_type": "display_data"
    }
   ],
   "source": [
    "n255 = [rec.id for rec in SeqIO.parse('255.fasta', 'fasta')]\n",
    "n394 = [rec.id for rec in SeqIO.parse('394.fasta', 'fasta')]\n",
    "n489 = [rec.id for rec in SeqIO.parse('489.fasta', 'fasta')]\n",
    "venn3([set(interAB), set(interBC), set(interAC)], \n",
    "      set_labels = ('p255', 'p394', 'p489'))\n",
    "p = plt.title('Comparison of primers occurence in L1s > 5500bp (hg38)')\n",
    "plt.savefig('Primers_Venn3.png')"
   ]
  },
  {
   "cell_type": "markdown",
   "metadata": {},
   "source": [
    "### 3b. Comparative stats of paired primers"
   ]
  },
  {
   "cell_type": "markdown",
   "metadata": {},
   "source": [
    "#### 285 / 394"
   ]
  },
  {
   "cell_type": "code",
   "execution_count": 187,
   "metadata": {},
   "outputs": [
    {
     "data": {
      "text/html": [
       "<div>\n",
       "<style scoped>\n",
       "    .dataframe tbody tr th:only-of-type {\n",
       "        vertical-align: middle;\n",
       "    }\n",
       "\n",
       "    .dataframe tbody tr th {\n",
       "        vertical-align: top;\n",
       "    }\n",
       "\n",
       "    .dataframe thead th {\n",
       "        text-align: right;\n",
       "    }\n",
       "</style>\n",
       "<table border=\"1\" class=\"dataframe\">\n",
       "  <thead>\n",
       "    <tr style=\"text-align: right;\">\n",
       "      <th>idx</th>\n",
       "      <th>name</th>\n",
       "      <th>n</th>\n",
       "      <th>with 255</th>\n",
       "      <th>with 394</th>\n",
       "      <th>with all</th>\n",
       "      <th>only 255</th>\n",
       "      <th>only 394</th>\n",
       "      <th>without</th>\n",
       "    </tr>\n",
       "  </thead>\n",
       "  <tbody>\n",
       "    <tr>\n",
       "      <td>0</td>\n",
       "      <td>L1HS</td>\n",
       "      <td>331</td>\n",
       "      <td>319</td>\n",
       "      <td>318</td>\n",
       "      <td>316</td>\n",
       "      <td>3</td>\n",
       "      <td>2</td>\n",
       "      <td>10</td>\n",
       "    </tr>\n",
       "    <tr>\n",
       "      <td>1</td>\n",
       "      <td>L1PA2</td>\n",
       "      <td>1087</td>\n",
       "      <td>1046</td>\n",
       "      <td>1051</td>\n",
       "      <td>1029</td>\n",
       "      <td>17</td>\n",
       "      <td>22</td>\n",
       "      <td>19</td>\n",
       "    </tr>\n",
       "    <tr>\n",
       "      <td>2</td>\n",
       "      <td>L1PA3</td>\n",
       "      <td>1567</td>\n",
       "      <td>1232</td>\n",
       "      <td>1429</td>\n",
       "      <td>1186</td>\n",
       "      <td>46</td>\n",
       "      <td>243</td>\n",
       "      <td>92</td>\n",
       "    </tr>\n",
       "    <tr>\n",
       "      <td>3</td>\n",
       "      <td>L1PA4</td>\n",
       "      <td>1422</td>\n",
       "      <td>972</td>\n",
       "      <td>636</td>\n",
       "      <td>498</td>\n",
       "      <td>474</td>\n",
       "      <td>138</td>\n",
       "      <td>312</td>\n",
       "    </tr>\n",
       "    <tr>\n",
       "      <td>4</td>\n",
       "      <td>L1PA5</td>\n",
       "      <td>1032</td>\n",
       "      <td>48</td>\n",
       "      <td>172</td>\n",
       "      <td>22</td>\n",
       "      <td>26</td>\n",
       "      <td>150</td>\n",
       "      <td>834</td>\n",
       "    </tr>\n",
       "    <tr>\n",
       "      <td>5</td>\n",
       "      <td>TOTAL</td>\n",
       "      <td>5439</td>\n",
       "      <td>3617</td>\n",
       "      <td>3606</td>\n",
       "      <td>3051</td>\n",
       "      <td>566</td>\n",
       "      <td>555</td>\n",
       "      <td>1267</td>\n",
       "    </tr>\n",
       "  </tbody>\n",
       "</table>\n",
       "</div>"
      ],
      "text/plain": [
       "idx   name     n  with 255  with 394  with all  only 255  only 394  without\n",
       "0     L1HS   331       319       318       316         3         2       10\n",
       "1    L1PA2  1087      1046      1051      1029        17        22       19\n",
       "2    L1PA3  1567      1232      1429      1186        46       243       92\n",
       "3    L1PA4  1422       972       636       498       474       138      312\n",
       "4    L1PA5  1032        48       172        22        26       150      834\n",
       "5    TOTAL  5439      3617      3606      3051       566       555     1267"
      ]
     },
     "execution_count": 187,
     "metadata": {},
     "output_type": "execute_result"
    }
   ],
   "source": [
    "names = ['L1HS', 'L1PA2', 'L1PA3', 'L1PA4', 'L1PA5']\n",
    "df_285_394 = get_full_stats(reff, names, p255, p394)\n",
    "df_285_394"
   ]
  },
  {
   "cell_type": "code",
   "execution_count": 224,
   "metadata": {
    "scrolled": false
   },
   "outputs": [
    {
     "data": {
      "image/png": "[encoded data removed]",
      "text/plain": [
       "<Figure size 864x792 with 1 Axes>"
      ]
     },
     "metadata": {},
     "output_type": "display_data"
    }
   ],
   "source": [
    "plt = nested_donut(df_285_394)"
   ]
  },
  {
   "cell_type": "markdown",
   "metadata": {},
   "source": [
    "#### 285 / 489"
   ]
  },
  {
   "cell_type": "code",
   "execution_count": 189,
   "metadata": {},
   "outputs": [
    {
     "data": {
      "text/html": [
       "<div>\n",
       "<style scoped>\n",
       "    .dataframe tbody tr th:only-of-type {\n",
       "        vertical-align: middle;\n",
       "    }\n",
       "\n",
       "    .dataframe tbody tr th {\n",
       "        vertical-align: top;\n",
       "    }\n",
       "\n",
       "    .dataframe thead th {\n",
       "        text-align: right;\n",
       "    }\n",
       "</style>\n",
       "<table border=\"1\" class=\"dataframe\">\n",
       "  <thead>\n",
       "    <tr style=\"text-align: right;\">\n",
       "      <th>idx</th>\n",
       "      <th>name</th>\n",
       "      <th>n</th>\n",
       "      <th>with 255</th>\n",
       "      <th>with 489</th>\n",
       "      <th>with all</th>\n",
       "      <th>only 255</th>\n",
       "      <th>only 489</th>\n",
       "      <th>without</th>\n",
       "    </tr>\n",
       "  </thead>\n",
       "  <tbody>\n",
       "    <tr>\n",
       "      <td>0</td>\n",
       "      <td>L1HS</td>\n",
       "      <td>331</td>\n",
       "      <td>319</td>\n",
       "      <td>323</td>\n",
       "      <td>315</td>\n",
       "      <td>4</td>\n",
       "      <td>8</td>\n",
       "      <td>4</td>\n",
       "    </tr>\n",
       "    <tr>\n",
       "      <td>1</td>\n",
       "      <td>L1PA2</td>\n",
       "      <td>1087</td>\n",
       "      <td>1046</td>\n",
       "      <td>1037</td>\n",
       "      <td>1003</td>\n",
       "      <td>43</td>\n",
       "      <td>34</td>\n",
       "      <td>7</td>\n",
       "    </tr>\n",
       "    <tr>\n",
       "      <td>2</td>\n",
       "      <td>L1PA3</td>\n",
       "      <td>1567</td>\n",
       "      <td>1232</td>\n",
       "      <td>1423</td>\n",
       "      <td>1157</td>\n",
       "      <td>75</td>\n",
       "      <td>266</td>\n",
       "      <td>69</td>\n",
       "    </tr>\n",
       "    <tr>\n",
       "      <td>3</td>\n",
       "      <td>L1PA4</td>\n",
       "      <td>1422</td>\n",
       "      <td>972</td>\n",
       "      <td>1075</td>\n",
       "      <td>788</td>\n",
       "      <td>184</td>\n",
       "      <td>287</td>\n",
       "      <td>163</td>\n",
       "    </tr>\n",
       "    <tr>\n",
       "      <td>4</td>\n",
       "      <td>L1PA5</td>\n",
       "      <td>1032</td>\n",
       "      <td>48</td>\n",
       "      <td>700</td>\n",
       "      <td>43</td>\n",
       "      <td>5</td>\n",
       "      <td>657</td>\n",
       "      <td>327</td>\n",
       "    </tr>\n",
       "    <tr>\n",
       "      <td>5</td>\n",
       "      <td>TOTAL</td>\n",
       "      <td>5439</td>\n",
       "      <td>3617</td>\n",
       "      <td>4558</td>\n",
       "      <td>3306</td>\n",
       "      <td>311</td>\n",
       "      <td>1252</td>\n",
       "      <td>570</td>\n",
       "    </tr>\n",
       "  </tbody>\n",
       "</table>\n",
       "</div>"
      ],
      "text/plain": [
       "idx   name     n  with 255  with 489  with all  only 255  only 489  without\n",
       "0     L1HS   331       319       323       315         4         8        4\n",
       "1    L1PA2  1087      1046      1037      1003        43        34        7\n",
       "2    L1PA3  1567      1232      1423      1157        75       266       69\n",
       "3    L1PA4  1422       972      1075       788       184       287      163\n",
       "4    L1PA5  1032        48       700        43         5       657      327\n",
       "5    TOTAL  5439      3617      4558      3306       311      1252      570"
      ]
     },
     "execution_count": 189,
     "metadata": {},
     "output_type": "execute_result"
    }
   ],
   "source": [
    "df_285_489 = get_full_stats(reff, names, p255, p489)\n",
    "df_285_489"
   ]
  },
  {
   "cell_type": "code",
   "execution_count": 225,
   "metadata": {},
   "outputs": [
    {
     "data": {
      "image/png": "[encoded data removed]",
      "text/plain": [
       "<Figure size 864x792 with 1 Axes>"
      ]
     },
     "metadata": {},
     "output_type": "display_data"
    }
   ],
   "source": [
    "plt = nested_donut(df_285_489)"
   ]
  },
  {
   "cell_type": "markdown",
   "metadata": {},
   "source": [
    "#### 394 / 489"
   ]
  },
  {
   "cell_type": "code",
   "execution_count": 196,
   "metadata": {},
   "outputs": [
    {
     "data": {
      "text/html": [
       "<div>\n",
       "<style scoped>\n",
       "    .dataframe tbody tr th:only-of-type {\n",
       "        vertical-align: middle;\n",
       "    }\n",
       "\n",
       "    .dataframe tbody tr th {\n",
       "        vertical-align: top;\n",
       "    }\n",
       "\n",
       "    .dataframe thead th {\n",
       "        text-align: right;\n",
       "    }\n",
       "</style>\n",
       "<table border=\"1\" class=\"dataframe\">\n",
       "  <thead>\n",
       "    <tr style=\"text-align: right;\">\n",
       "      <th>idx</th>\n",
       "      <th>name</th>\n",
       "      <th>n</th>\n",
       "      <th>with 394</th>\n",
       "      <th>with 489</th>\n",
       "      <th>with all</th>\n",
       "      <th>only 394</th>\n",
       "      <th>only 489</th>\n",
       "      <th>without</th>\n",
       "    </tr>\n",
       "  </thead>\n",
       "  <tbody>\n",
       "    <tr>\n",
       "      <td>0</td>\n",
       "      <td>L1HS</td>\n",
       "      <td>331</td>\n",
       "      <td>318</td>\n",
       "      <td>323</td>\n",
       "      <td>314</td>\n",
       "      <td>4</td>\n",
       "      <td>9</td>\n",
       "      <td>4</td>\n",
       "    </tr>\n",
       "    <tr>\n",
       "      <td>1</td>\n",
       "      <td>L1PA2</td>\n",
       "      <td>1087</td>\n",
       "      <td>1051</td>\n",
       "      <td>1037</td>\n",
       "      <td>1007</td>\n",
       "      <td>44</td>\n",
       "      <td>30</td>\n",
       "      <td>6</td>\n",
       "    </tr>\n",
       "    <tr>\n",
       "      <td>2</td>\n",
       "      <td>L1PA3</td>\n",
       "      <td>1567</td>\n",
       "      <td>1429</td>\n",
       "      <td>1423</td>\n",
       "      <td>1342</td>\n",
       "      <td>87</td>\n",
       "      <td>81</td>\n",
       "      <td>57</td>\n",
       "    </tr>\n",
       "    <tr>\n",
       "      <td>3</td>\n",
       "      <td>L1PA4</td>\n",
       "      <td>1422</td>\n",
       "      <td>636</td>\n",
       "      <td>1075</td>\n",
       "      <td>529</td>\n",
       "      <td>107</td>\n",
       "      <td>546</td>\n",
       "      <td>240</td>\n",
       "    </tr>\n",
       "    <tr>\n",
       "      <td>4</td>\n",
       "      <td>L1PA5</td>\n",
       "      <td>1032</td>\n",
       "      <td>172</td>\n",
       "      <td>700</td>\n",
       "      <td>144</td>\n",
       "      <td>28</td>\n",
       "      <td>556</td>\n",
       "      <td>304</td>\n",
       "    </tr>\n",
       "    <tr>\n",
       "      <td>5</td>\n",
       "      <td>TOTAL</td>\n",
       "      <td>5439</td>\n",
       "      <td>3606</td>\n",
       "      <td>4558</td>\n",
       "      <td>3336</td>\n",
       "      <td>270</td>\n",
       "      <td>1222</td>\n",
       "      <td>611</td>\n",
       "    </tr>\n",
       "  </tbody>\n",
       "</table>\n",
       "</div>"
      ],
      "text/plain": [
       "idx   name     n  with 394  with 489  with all  only 394  only 489  without\n",
       "0     L1HS   331       318       323       314         4         9        4\n",
       "1    L1PA2  1087      1051      1037      1007        44        30        6\n",
       "2    L1PA3  1567      1429      1423      1342        87        81       57\n",
       "3    L1PA4  1422       636      1075       529       107       546      240\n",
       "4    L1PA5  1032       172       700       144        28       556      304\n",
       "5    TOTAL  5439      3606      4558      3336       270      1222      611"
      ]
     },
     "execution_count": 196,
     "metadata": {},
     "output_type": "execute_result"
    }
   ],
   "source": [
    "df_394_489 = get_full_stats(reff, names, p394, p489)\n",
    "df_394_489"
   ]
  },
  {
   "cell_type": "code",
   "execution_count": 226,
   "metadata": {},
   "outputs": [
    {
     "data": {
      "image/png": "[encoded data removed]",
      "text/plain": [
       "<Figure size 864x792 with 1 Axes>"
      ]
     },
     "metadata": {},
     "output_type": "display_data"
    }
   ],
   "source": [
    "plt = nested_donut(df_394_489)"
   ]
  },
  {
   "cell_type": "markdown",
   "metadata": {},
   "source": [
    "### 3c. Clustermaps"
   ]
  },
  {
   "cell_type": "code",
   "execution_count": 95,
   "metadata": {},
   "outputs": [],
   "source": [
    "# generates a pandas dataframe with count of occurences of elements across chromosomes \n",
    "def chrom_dist_df(fasta_file):\n",
    "    chrom_list = ['chr1', 'chr2', 'chr3', 'chr4', 'chr5', 'chr6', 'chr7', 'chr8', 'chr9', 'chr10', 'chr11', 'chr12', 'chr13', 'chr14', 'chr15', 'chr16', 'chr17', 'chr18', 'chr19', 'chr20', 'chr21', 'chr22', 'chrY', 'chrX']\n",
    "    l1_list = ['L1HS', 'L1PA2', 'L1PA3', 'L1PA4', 'L1PA5']\n",
    "    chrom_dict = {key: 0 for key in chrom_list}\n",
    "    t_list = []\n",
    "\n",
    "    for l1 in l1_list:\n",
    "        chrom_dict = chrom_dict.fromkeys(chrom_dict, 0)\n",
    "\n",
    "        for rec in SeqIO.parse(fasta_file, \"fasta\"):\n",
    "            if l1 in rec.description:\n",
    "                for chrom in chrom_list:\n",
    "                    if len(chrom) == 4:\n",
    "                        if (rec.id[:4] == chrom) & ('alt' not in rec.id) & ('fix' not in rec.id) & (rec.id[4] == '_'):\n",
    "                            chrom_dict[chrom] += 1\n",
    "                    if len(chrom) == 5:\n",
    "                        if (rec.id[:5] == chrom) & ('alt' not in rec.id) & ('fix' not in rec.id) & (rec.id[5] == '_'):\n",
    "                            chrom_dict[chrom] += 1\n",
    "\n",
    "        t_list.append([count for count in chrom_dict.values()])\n",
    "\n",
    "    total_list = [sum(x) for x in zip(*t_list)]\n",
    "\n",
    "    df_dict = {'TOTAL': total_list, 'L1HS': t_list[0], 'L1PA2': t_list[1], \n",
    "               'L1PA3': t_list[2], 'L1PA4': t_list[3], 'L1PA5': t_list[4]}\n",
    "\n",
    "    l1_df_chroms = pd.DataFrame(df_dict, index=chrom_list)\n",
    "    # l1_df_chroms.loc[len(l1_df_chroms)] = l1_df_chroms.iloc[:, 1:].sum().append(pd.Series({'name':'TOTAL'}))\n",
    "    return l1_df_chroms\n"
   ]
  },
  {
   "cell_type": "code",
   "execution_count": 96,
   "metadata": {},
   "outputs": [],
   "source": [
    "def gen_clustermap(df, title, colors, metric):\n",
    "    sns.set_context(\"notebook\", font_scale=1)\n",
    "    g = sns.clustermap(df[['L1HS', 'L1PA2', 'L1PA3', 'L1PA4', 'L1PA5']], figsize=(20, 15), metric = metric, cmap=colors)\n",
    "    h = g.ax_heatmap.get_position()\n",
    "    plt.setp(g.ax_heatmap.yaxis.get_majorticklabels(), fontsize=11)\n",
    "    g.ax_heatmap.set_position([h.x0, h.y0, h.width*0.5, h.height])\n",
    "    col = g.ax_col_dendrogram.get_position()\n",
    "    g.ax_col_dendrogram.set_position([col.x0, col.y0, col.width*0.5, col.height*0.5])\n",
    "    t = g.fig.suptitle(title, y=0.9, x=0.4)\n",
    "    g.savefig(title)\n",
    "    return g"
   ]
  },
  {
   "cell_type": "code",
   "execution_count": 97,
   "metadata": {},
   "outputs": [],
   "source": [
    "metrics = ['braycurtis', 'canberra', 'chebyshev', 'cityblock', \n",
    "           'correlation', 'cosine', 'dice', 'euclidean', 'hamming', \n",
    "           'jaccard', 'jensenshannon', 'kulsinski', 'mahalanobis', \n",
    "           'matching', 'minkowski', 'rogerstanimoto', 'russellrao', \n",
    "           'seuclidean', 'sokalmichener', 'sokalsneath', 'sqeuclidean', 'yule']"
   ]
  },
  {
   "cell_type": "code",
   "execution_count": 98,
   "metadata": {},
   "outputs": [],
   "source": [
    "colors = ['Accent', 'Accent_r', 'Blues', 'Blues_r', 'BrBG', 'BrBG_r', 'BuGn', 'BuGn_r', 'BuPu', 'BuPu_r', 'CMRmap', \n",
    "'CMRmap_r', 'Dark2', 'Dark2_r', 'GnBu', 'GnBu_r', 'Greens', 'Greens_r', 'Greys', 'Greys_r', 'OrRd', 'OrRd_r', \n",
    "'Oranges', 'Oranges_r', 'PRGn', 'PRGn_r', 'Paired', 'Paired_r', 'Pastel1', 'Pastel1_r', 'Pastel2', 'Pastel2_r', \n",
    "'PiYG', 'PiYG_r', 'PuBu', 'PuBuGn', 'PuBuGn_r', 'PuBu_r', 'PuOr', 'PuOr_r', 'PuRd', 'PuRd_r', 'Purples', \n",
    "'Purples_r', 'RdBu', 'RdBu_r', 'RdGy', 'RdGy_r', 'RdPu', 'RdPu_r', 'RdYlBu', 'RdYlBu_r', 'RdYlGn', 'RdYlGn_r', \n",
    "'Reds', 'Reds_r', 'Set1', 'Set1_r', 'Set2', 'Set2_r', 'Set3', 'Set3_r', 'Spectral', 'Spectral_r', 'Wistia', \n",
    "'Wistia_r', 'YlGn', 'YlGnBu', 'YlGnBu_r', 'YlGn_r', 'YlOrBr', 'YlOrBr_r', 'YlOrRd', 'YlOrRd_r', 'afmhot', \n",
    "'afmhot_r', 'autumn', 'autumn_r', 'binary', 'binary_r', 'bone', 'bone_r', 'brg', 'brg_r', 'bwr', 'bwr_r', \n",
    "'cividis', 'cividis_r', 'cool', 'cool_r', 'coolwarm', 'coolwarm_r', 'copper', 'copper_r', 'cubehelix', \n",
    "'cubehelix_r', 'flag', 'flag_r', 'gist_earth', 'gist_earth_r', 'gist_gray', 'gist_gray_r', 'gist_heat', \n",
    "'gist_heat_r', 'gist_ncar', 'gist_ncar_r', 'gist_rainbow', 'gist_rainbow_r', 'gist_stern', 'gist_stern_r', \n",
    "'gist_yarg', 'gist_yarg_r', 'gnuplot', 'gnuplot2', 'gnuplot2_r', 'gnuplot_r', 'gray', 'gray_r', 'hot', 'hot_r', \n",
    "'hsv', 'hsv_r', 'icefire', 'icefire_r', 'inferno', 'inferno_r', 'jet', 'jet_r', 'magma', 'magma_r', 'mako', \n",
    "'mako_r', 'nipy_spectral', 'nipy_spectral_r', 'ocean', 'ocean_r', 'pink', 'pink_r', 'plasma', 'plasma_r', \n",
    "'prism', 'prism_r', 'rainbow', 'rainbow_r', 'rocket', 'rocket_r', 'seismic', 'seismic_r', 'spring', 'spring_r', \n",
    "'summer', 'summer_r', 'tab10', 'tab10_r', 'tab20', 'tab20_r', 'tab20b', 'tab20b_r', 'tab20c', 'tab20c_r', \n",
    "'terrain', 'terrain_r', 'twilight', 'twilight_r', 'twilight_shifted', 'twilight_shifted_r', 'viridis', 'viridis_r',\n",
    "'vlag', 'vlag_r', 'winter', 'winter_r']\n"
   ]
  },
  {
   "cell_type": "markdown",
   "metadata": {},
   "source": [
    "#### L1 clustermap"
   ]
  },
  {
   "cell_type": "code",
   "execution_count": 99,
   "metadata": {},
   "outputs": [],
   "source": [
    "l1_total = 'Flank_L1.fasta'\n",
    "l1_df = chrom_dist_df(l1_total)\n",
    "l1_df.to_csv('l1_ditrib_chroms.csv')"
   ]
  },
  {
   "cell_type": "code",
   "execution_count": 100,
   "metadata": {},
   "outputs": [
    {
     "data": {
      "text/html": [
       "<div>\n",
       "<style scoped>\n",
       "    .dataframe tbody tr th:only-of-type {\n",
       "        vertical-align: middle;\n",
       "    }\n",
       "\n",
       "    .dataframe tbody tr th {\n",
       "        vertical-align: top;\n",
       "    }\n",
       "\n",
       "    .dataframe thead th {\n",
       "        text-align: right;\n",
       "    }\n",
       "</style>\n",
       "<table border=\"1\" class=\"dataframe\">\n",
       "  <thead>\n",
       "    <tr style=\"text-align: right;\">\n",
       "      <th></th>\n",
       "      <th>TOTAL</th>\n",
       "      <th>L1HS</th>\n",
       "      <th>L1PA2</th>\n",
       "      <th>L1PA3</th>\n",
       "      <th>L1PA4</th>\n",
       "      <th>L1PA5</th>\n",
       "    </tr>\n",
       "  </thead>\n",
       "  <tbody>\n",
       "    <tr>\n",
       "      <td>chr1</td>\n",
       "      <td>340</td>\n",
       "      <td>30</td>\n",
       "      <td>60</td>\n",
       "      <td>101</td>\n",
       "      <td>82</td>\n",
       "      <td>67</td>\n",
       "    </tr>\n",
       "    <tr>\n",
       "      <td>chr2</td>\n",
       "      <td>412</td>\n",
       "      <td>24</td>\n",
       "      <td>98</td>\n",
       "      <td>107</td>\n",
       "      <td>102</td>\n",
       "      <td>81</td>\n",
       "    </tr>\n",
       "    <tr>\n",
       "      <td>chr3</td>\n",
       "      <td>403</td>\n",
       "      <td>21</td>\n",
       "      <td>85</td>\n",
       "      <td>106</td>\n",
       "      <td>108</td>\n",
       "      <td>83</td>\n",
       "    </tr>\n",
       "    <tr>\n",
       "      <td>chr4</td>\n",
       "      <td>442</td>\n",
       "      <td>36</td>\n",
       "      <td>82</td>\n",
       "      <td>125</td>\n",
       "      <td>115</td>\n",
       "      <td>84</td>\n",
       "    </tr>\n",
       "    <tr>\n",
       "      <td>chr5</td>\n",
       "      <td>402</td>\n",
       "      <td>24</td>\n",
       "      <td>76</td>\n",
       "      <td>117</td>\n",
       "      <td>108</td>\n",
       "      <td>77</td>\n",
       "    </tr>\n",
       "    <tr>\n",
       "      <td>chr6</td>\n",
       "      <td>329</td>\n",
       "      <td>16</td>\n",
       "      <td>65</td>\n",
       "      <td>98</td>\n",
       "      <td>94</td>\n",
       "      <td>56</td>\n",
       "    </tr>\n",
       "    <tr>\n",
       "      <td>chr7</td>\n",
       "      <td>261</td>\n",
       "      <td>20</td>\n",
       "      <td>53</td>\n",
       "      <td>68</td>\n",
       "      <td>66</td>\n",
       "      <td>54</td>\n",
       "    </tr>\n",
       "    <tr>\n",
       "      <td>chr8</td>\n",
       "      <td>316</td>\n",
       "      <td>13</td>\n",
       "      <td>81</td>\n",
       "      <td>97</td>\n",
       "      <td>68</td>\n",
       "      <td>57</td>\n",
       "    </tr>\n",
       "    <tr>\n",
       "      <td>chr9</td>\n",
       "      <td>192</td>\n",
       "      <td>9</td>\n",
       "      <td>40</td>\n",
       "      <td>59</td>\n",
       "      <td>44</td>\n",
       "      <td>40</td>\n",
       "    </tr>\n",
       "    <tr>\n",
       "      <td>chr10</td>\n",
       "      <td>213</td>\n",
       "      <td>11</td>\n",
       "      <td>36</td>\n",
       "      <td>61</td>\n",
       "      <td>56</td>\n",
       "      <td>49</td>\n",
       "    </tr>\n",
       "    <tr>\n",
       "      <td>chr11</td>\n",
       "      <td>278</td>\n",
       "      <td>15</td>\n",
       "      <td>55</td>\n",
       "      <td>81</td>\n",
       "      <td>88</td>\n",
       "      <td>39</td>\n",
       "    </tr>\n",
       "    <tr>\n",
       "      <td>chr12</td>\n",
       "      <td>252</td>\n",
       "      <td>10</td>\n",
       "      <td>48</td>\n",
       "      <td>82</td>\n",
       "      <td>69</td>\n",
       "      <td>43</td>\n",
       "    </tr>\n",
       "    <tr>\n",
       "      <td>chr13</td>\n",
       "      <td>127</td>\n",
       "      <td>9</td>\n",
       "      <td>27</td>\n",
       "      <td>42</td>\n",
       "      <td>20</td>\n",
       "      <td>29</td>\n",
       "    </tr>\n",
       "    <tr>\n",
       "      <td>chr14</td>\n",
       "      <td>154</td>\n",
       "      <td>10</td>\n",
       "      <td>29</td>\n",
       "      <td>42</td>\n",
       "      <td>35</td>\n",
       "      <td>38</td>\n",
       "    </tr>\n",
       "    <tr>\n",
       "      <td>chr15</td>\n",
       "      <td>126</td>\n",
       "      <td>6</td>\n",
       "      <td>30</td>\n",
       "      <td>38</td>\n",
       "      <td>31</td>\n",
       "      <td>21</td>\n",
       "    </tr>\n",
       "    <tr>\n",
       "      <td>chr16</td>\n",
       "      <td>91</td>\n",
       "      <td>9</td>\n",
       "      <td>18</td>\n",
       "      <td>22</td>\n",
       "      <td>25</td>\n",
       "      <td>17</td>\n",
       "    </tr>\n",
       "    <tr>\n",
       "      <td>chr17</td>\n",
       "      <td>41</td>\n",
       "      <td>4</td>\n",
       "      <td>14</td>\n",
       "      <td>9</td>\n",
       "      <td>5</td>\n",
       "      <td>9</td>\n",
       "    </tr>\n",
       "    <tr>\n",
       "      <td>chr18</td>\n",
       "      <td>114</td>\n",
       "      <td>10</td>\n",
       "      <td>32</td>\n",
       "      <td>21</td>\n",
       "      <td>22</td>\n",
       "      <td>29</td>\n",
       "    </tr>\n",
       "    <tr>\n",
       "      <td>chr19</td>\n",
       "      <td>44</td>\n",
       "      <td>0</td>\n",
       "      <td>6</td>\n",
       "      <td>16</td>\n",
       "      <td>17</td>\n",
       "      <td>5</td>\n",
       "    </tr>\n",
       "    <tr>\n",
       "      <td>chr20</td>\n",
       "      <td>67</td>\n",
       "      <td>5</td>\n",
       "      <td>15</td>\n",
       "      <td>26</td>\n",
       "      <td>13</td>\n",
       "      <td>8</td>\n",
       "    </tr>\n",
       "    <tr>\n",
       "      <td>chr21</td>\n",
       "      <td>32</td>\n",
       "      <td>0</td>\n",
       "      <td>9</td>\n",
       "      <td>9</td>\n",
       "      <td>9</td>\n",
       "      <td>5</td>\n",
       "    </tr>\n",
       "    <tr>\n",
       "      <td>chr22</td>\n",
       "      <td>33</td>\n",
       "      <td>4</td>\n",
       "      <td>6</td>\n",
       "      <td>6</td>\n",
       "      <td>11</td>\n",
       "      <td>6</td>\n",
       "    </tr>\n",
       "    <tr>\n",
       "      <td>chrY</td>\n",
       "      <td>134</td>\n",
       "      <td>4</td>\n",
       "      <td>27</td>\n",
       "      <td>40</td>\n",
       "      <td>36</td>\n",
       "      <td>27</td>\n",
       "    </tr>\n",
       "    <tr>\n",
       "      <td>chrX</td>\n",
       "      <td>493</td>\n",
       "      <td>29</td>\n",
       "      <td>67</td>\n",
       "      <td>156</td>\n",
       "      <td>154</td>\n",
       "      <td>87</td>\n",
       "    </tr>\n",
       "  </tbody>\n",
       "</table>\n",
       "</div>"
      ],
      "text/plain": [
       "       TOTAL  L1HS  L1PA2  L1PA3  L1PA4  L1PA5\n",
       "chr1     340    30     60    101     82     67\n",
       "chr2     412    24     98    107    102     81\n",
       "chr3     403    21     85    106    108     83\n",
       "chr4     442    36     82    125    115     84\n",
       "chr5     402    24     76    117    108     77\n",
       "chr6     329    16     65     98     94     56\n",
       "chr7     261    20     53     68     66     54\n",
       "chr8     316    13     81     97     68     57\n",
       "chr9     192     9     40     59     44     40\n",
       "chr10    213    11     36     61     56     49\n",
       "chr11    278    15     55     81     88     39\n",
       "chr12    252    10     48     82     69     43\n",
       "chr13    127     9     27     42     20     29\n",
       "chr14    154    10     29     42     35     38\n",
       "chr15    126     6     30     38     31     21\n",
       "chr16     91     9     18     22     25     17\n",
       "chr17     41     4     14      9      5      9\n",
       "chr18    114    10     32     21     22     29\n",
       "chr19     44     0      6     16     17      5\n",
       "chr20     67     5     15     26     13      8\n",
       "chr21     32     0      9      9      9      5\n",
       "chr22     33     4      6      6     11      6\n",
       "chrY     134     4     27     40     36     27\n",
       "chrX     493    29     67    156    154     87"
      ]
     },
     "execution_count": 100,
     "metadata": {},
     "output_type": "execute_result"
    }
   ],
   "source": [
    "# distribution of l1 across chromosomes\n",
    "l1_df"
   ]
  },
  {
   "cell_type": "code",
   "execution_count": 101,
   "metadata": {},
   "outputs": [
    {
     "data": {
      "image/png": "[encoded data removed]",
      "text/plain": [
       "<Figure size 1440x1080 with 4 Axes>"
      ]
     },
     "metadata": {},
     "output_type": "display_data"
    }
   ],
   "source": [
    "l1_title = 'L1 Distribution across hg38 chromosomes'\n",
    "l1_colors = 'viridis'\n",
    "l1_metric = 'braycurtis'\n",
    "\n",
    "l1_cluster = gen_clustermap(l1_df, l1_title, l1_colors, l1_metric)"
   ]
  },
  {
   "cell_type": "code",
   "execution_count": 102,
   "metadata": {},
   "outputs": [],
   "source": [
    "fasta_255 = 'c255_flank.fasta'\n",
    "df_255 = chrom_dist_df(fasta_255)\n",
    "df_255.to_csv('255_distrib_chroms.csv')"
   ]
  },
  {
   "cell_type": "markdown",
   "metadata": {},
   "source": [
    "#### 255 clustermap"
   ]
  },
  {
   "cell_type": "code",
   "execution_count": 103,
   "metadata": {},
   "outputs": [
    {
     "data": {
      "text/html": [
       "<div>\n",
       "<style scoped>\n",
       "    .dataframe tbody tr th:only-of-type {\n",
       "        vertical-align: middle;\n",
       "    }\n",
       "\n",
       "    .dataframe tbody tr th {\n",
       "        vertical-align: top;\n",
       "    }\n",
       "\n",
       "    .dataframe thead th {\n",
       "        text-align: right;\n",
       "    }\n",
       "</style>\n",
       "<table border=\"1\" class=\"dataframe\">\n",
       "  <thead>\n",
       "    <tr style=\"text-align: right;\">\n",
       "      <th></th>\n",
       "      <th>TOTAL</th>\n",
       "      <th>L1HS</th>\n",
       "      <th>L1PA2</th>\n",
       "      <th>L1PA3</th>\n",
       "      <th>L1PA4</th>\n",
       "      <th>L1PA5</th>\n",
       "    </tr>\n",
       "  </thead>\n",
       "  <tbody>\n",
       "    <tr>\n",
       "      <td>chr1</td>\n",
       "      <td>225</td>\n",
       "      <td>29</td>\n",
       "      <td>58</td>\n",
       "      <td>80</td>\n",
       "      <td>52</td>\n",
       "      <td>6</td>\n",
       "    </tr>\n",
       "    <tr>\n",
       "      <td>chr2</td>\n",
       "      <td>272</td>\n",
       "      <td>23</td>\n",
       "      <td>94</td>\n",
       "      <td>86</td>\n",
       "      <td>69</td>\n",
       "      <td>0</td>\n",
       "    </tr>\n",
       "    <tr>\n",
       "      <td>chr3</td>\n",
       "      <td>265</td>\n",
       "      <td>21</td>\n",
       "      <td>85</td>\n",
       "      <td>82</td>\n",
       "      <td>73</td>\n",
       "      <td>4</td>\n",
       "    </tr>\n",
       "    <tr>\n",
       "      <td>chr4</td>\n",
       "      <td>294</td>\n",
       "      <td>34</td>\n",
       "      <td>79</td>\n",
       "      <td>99</td>\n",
       "      <td>81</td>\n",
       "      <td>1</td>\n",
       "    </tr>\n",
       "    <tr>\n",
       "      <td>chr5</td>\n",
       "      <td>267</td>\n",
       "      <td>24</td>\n",
       "      <td>75</td>\n",
       "      <td>92</td>\n",
       "      <td>74</td>\n",
       "      <td>2</td>\n",
       "    </tr>\n",
       "    <tr>\n",
       "      <td>chr6</td>\n",
       "      <td>220</td>\n",
       "      <td>16</td>\n",
       "      <td>63</td>\n",
       "      <td>79</td>\n",
       "      <td>62</td>\n",
       "      <td>0</td>\n",
       "    </tr>\n",
       "    <tr>\n",
       "      <td>chr7</td>\n",
       "      <td>175</td>\n",
       "      <td>20</td>\n",
       "      <td>52</td>\n",
       "      <td>53</td>\n",
       "      <td>47</td>\n",
       "      <td>3</td>\n",
       "    </tr>\n",
       "    <tr>\n",
       "      <td>chr8</td>\n",
       "      <td>226</td>\n",
       "      <td>12</td>\n",
       "      <td>78</td>\n",
       "      <td>83</td>\n",
       "      <td>50</td>\n",
       "      <td>3</td>\n",
       "    </tr>\n",
       "    <tr>\n",
       "      <td>chr9</td>\n",
       "      <td>126</td>\n",
       "      <td>8</td>\n",
       "      <td>40</td>\n",
       "      <td>48</td>\n",
       "      <td>29</td>\n",
       "      <td>1</td>\n",
       "    </tr>\n",
       "    <tr>\n",
       "      <td>chr10</td>\n",
       "      <td>137</td>\n",
       "      <td>11</td>\n",
       "      <td>36</td>\n",
       "      <td>51</td>\n",
       "      <td>38</td>\n",
       "      <td>1</td>\n",
       "    </tr>\n",
       "    <tr>\n",
       "      <td>chr11</td>\n",
       "      <td>198</td>\n",
       "      <td>15</td>\n",
       "      <td>53</td>\n",
       "      <td>65</td>\n",
       "      <td>63</td>\n",
       "      <td>2</td>\n",
       "    </tr>\n",
       "    <tr>\n",
       "      <td>chr12</td>\n",
       "      <td>171</td>\n",
       "      <td>10</td>\n",
       "      <td>46</td>\n",
       "      <td>68</td>\n",
       "      <td>46</td>\n",
       "      <td>1</td>\n",
       "    </tr>\n",
       "    <tr>\n",
       "      <td>chr13</td>\n",
       "      <td>81</td>\n",
       "      <td>9</td>\n",
       "      <td>27</td>\n",
       "      <td>34</td>\n",
       "      <td>11</td>\n",
       "      <td>0</td>\n",
       "    </tr>\n",
       "    <tr>\n",
       "      <td>chr14</td>\n",
       "      <td>99</td>\n",
       "      <td>10</td>\n",
       "      <td>28</td>\n",
       "      <td>35</td>\n",
       "      <td>26</td>\n",
       "      <td>0</td>\n",
       "    </tr>\n",
       "    <tr>\n",
       "      <td>chr15</td>\n",
       "      <td>83</td>\n",
       "      <td>6</td>\n",
       "      <td>29</td>\n",
       "      <td>29</td>\n",
       "      <td>19</td>\n",
       "      <td>0</td>\n",
       "    </tr>\n",
       "    <tr>\n",
       "      <td>chr16</td>\n",
       "      <td>58</td>\n",
       "      <td>9</td>\n",
       "      <td>17</td>\n",
       "      <td>17</td>\n",
       "      <td>15</td>\n",
       "      <td>0</td>\n",
       "    </tr>\n",
       "    <tr>\n",
       "      <td>chr17</td>\n",
       "      <td>28</td>\n",
       "      <td>4</td>\n",
       "      <td>14</td>\n",
       "      <td>8</td>\n",
       "      <td>2</td>\n",
       "      <td>0</td>\n",
       "    </tr>\n",
       "    <tr>\n",
       "      <td>chr18</td>\n",
       "      <td>70</td>\n",
       "      <td>10</td>\n",
       "      <td>30</td>\n",
       "      <td>17</td>\n",
       "      <td>13</td>\n",
       "      <td>0</td>\n",
       "    </tr>\n",
       "    <tr>\n",
       "      <td>chr19</td>\n",
       "      <td>29</td>\n",
       "      <td>0</td>\n",
       "      <td>5</td>\n",
       "      <td>10</td>\n",
       "      <td>14</td>\n",
       "      <td>0</td>\n",
       "    </tr>\n",
       "    <tr>\n",
       "      <td>chr20</td>\n",
       "      <td>49</td>\n",
       "      <td>5</td>\n",
       "      <td>15</td>\n",
       "      <td>20</td>\n",
       "      <td>9</td>\n",
       "      <td>0</td>\n",
       "    </tr>\n",
       "    <tr>\n",
       "      <td>chr21</td>\n",
       "      <td>21</td>\n",
       "      <td>0</td>\n",
       "      <td>8</td>\n",
       "      <td>6</td>\n",
       "      <td>7</td>\n",
       "      <td>0</td>\n",
       "    </tr>\n",
       "    <tr>\n",
       "      <td>chr22</td>\n",
       "      <td>19</td>\n",
       "      <td>4</td>\n",
       "      <td>4</td>\n",
       "      <td>3</td>\n",
       "      <td>8</td>\n",
       "      <td>0</td>\n",
       "    </tr>\n",
       "    <tr>\n",
       "      <td>chrY</td>\n",
       "      <td>83</td>\n",
       "      <td>4</td>\n",
       "      <td>26</td>\n",
       "      <td>29</td>\n",
       "      <td>23</td>\n",
       "      <td>1</td>\n",
       "    </tr>\n",
       "    <tr>\n",
       "      <td>chrX</td>\n",
       "      <td>320</td>\n",
       "      <td>27</td>\n",
       "      <td>66</td>\n",
       "      <td>115</td>\n",
       "      <td>105</td>\n",
       "      <td>7</td>\n",
       "    </tr>\n",
       "  </tbody>\n",
       "</table>\n",
       "</div>"
      ],
      "text/plain": [
       "       TOTAL  L1HS  L1PA2  L1PA3  L1PA4  L1PA5\n",
       "chr1     225    29     58     80     52      6\n",
       "chr2     272    23     94     86     69      0\n",
       "chr3     265    21     85     82     73      4\n",
       "chr4     294    34     79     99     81      1\n",
       "chr5     267    24     75     92     74      2\n",
       "chr6     220    16     63     79     62      0\n",
       "chr7     175    20     52     53     47      3\n",
       "chr8     226    12     78     83     50      3\n",
       "chr9     126     8     40     48     29      1\n",
       "chr10    137    11     36     51     38      1\n",
       "chr11    198    15     53     65     63      2\n",
       "chr12    171    10     46     68     46      1\n",
       "chr13     81     9     27     34     11      0\n",
       "chr14     99    10     28     35     26      0\n",
       "chr15     83     6     29     29     19      0\n",
       "chr16     58     9     17     17     15      0\n",
       "chr17     28     4     14      8      2      0\n",
       "chr18     70    10     30     17     13      0\n",
       "chr19     29     0      5     10     14      0\n",
       "chr20     49     5     15     20      9      0\n",
       "chr21     21     0      8      6      7      0\n",
       "chr22     19     4      4      3      8      0\n",
       "chrY      83     4     26     29     23      1\n",
       "chrX     320    27     66    115    105      7"
      ]
     },
     "execution_count": 103,
     "metadata": {},
     "output_type": "execute_result"
    }
   ],
   "source": [
    "# distribution of p255 across chromosomes\n",
    "df_255"
   ]
  },
  {
   "cell_type": "code",
   "execution_count": 104,
   "metadata": {},
   "outputs": [
    {
     "data": {
      "image/png": "[encoded data removed]",
      "text/plain": [
       "<Figure size 1440x1080 with 4 Axes>"
      ]
     },
     "metadata": {},
     "output_type": "display_data"
    }
   ],
   "source": [
    "title_255 = '255 Primer Distribution across hg38 chromosomes'\n",
    "colors_255 = 'viridis'\n",
    "metric_255 = 'braycurtis'\n",
    "\n",
    "cluster_255 = gen_clustermap(df_255, title_255, colors_255, metric_255)"
   ]
  },
  {
   "cell_type": "markdown",
   "metadata": {},
   "source": [
    "#### 394 clustermap"
   ]
  },
  {
   "cell_type": "code",
   "execution_count": 105,
   "metadata": {},
   "outputs": [],
   "source": [
    "fasta_394 = 'c394_flank.fasta'\n",
    "df_394 = chrom_dist_df(fasta_394)\n",
    "df_394.to_csv('394_distrib_chroms.csv')"
   ]
  },
  {
   "cell_type": "code",
   "execution_count": 106,
   "metadata": {},
   "outputs": [
    {
     "data": {
      "text/html": [
       "<div>\n",
       "<style scoped>\n",
       "    .dataframe tbody tr th:only-of-type {\n",
       "        vertical-align: middle;\n",
       "    }\n",
       "\n",
       "    .dataframe tbody tr th {\n",
       "        vertical-align: top;\n",
       "    }\n",
       "\n",
       "    .dataframe thead th {\n",
       "        text-align: right;\n",
       "    }\n",
       "</style>\n",
       "<table border=\"1\" class=\"dataframe\">\n",
       "  <thead>\n",
       "    <tr style=\"text-align: right;\">\n",
       "      <th></th>\n",
       "      <th>TOTAL</th>\n",
       "      <th>L1HS</th>\n",
       "      <th>L1PA2</th>\n",
       "      <th>L1PA3</th>\n",
       "      <th>L1PA4</th>\n",
       "      <th>L1PA5</th>\n",
       "    </tr>\n",
       "  </thead>\n",
       "  <tbody>\n",
       "    <tr>\n",
       "      <td>chr1</td>\n",
       "      <td>222</td>\n",
       "      <td>29</td>\n",
       "      <td>58</td>\n",
       "      <td>92</td>\n",
       "      <td>36</td>\n",
       "      <td>7</td>\n",
       "    </tr>\n",
       "    <tr>\n",
       "      <td>chr2</td>\n",
       "      <td>278</td>\n",
       "      <td>23</td>\n",
       "      <td>97</td>\n",
       "      <td>93</td>\n",
       "      <td>53</td>\n",
       "      <td>12</td>\n",
       "    </tr>\n",
       "    <tr>\n",
       "      <td>chr3</td>\n",
       "      <td>257</td>\n",
       "      <td>21</td>\n",
       "      <td>83</td>\n",
       "      <td>93</td>\n",
       "      <td>49</td>\n",
       "      <td>11</td>\n",
       "    </tr>\n",
       "    <tr>\n",
       "      <td>chr4</td>\n",
       "      <td>299</td>\n",
       "      <td>34</td>\n",
       "      <td>79</td>\n",
       "      <td>114</td>\n",
       "      <td>56</td>\n",
       "      <td>16</td>\n",
       "    </tr>\n",
       "    <tr>\n",
       "      <td>chr5</td>\n",
       "      <td>262</td>\n",
       "      <td>24</td>\n",
       "      <td>76</td>\n",
       "      <td>110</td>\n",
       "      <td>44</td>\n",
       "      <td>8</td>\n",
       "    </tr>\n",
       "    <tr>\n",
       "      <td>chr6</td>\n",
       "      <td>222</td>\n",
       "      <td>16</td>\n",
       "      <td>64</td>\n",
       "      <td>92</td>\n",
       "      <td>40</td>\n",
       "      <td>10</td>\n",
       "    </tr>\n",
       "    <tr>\n",
       "      <td>chr7</td>\n",
       "      <td>179</td>\n",
       "      <td>19</td>\n",
       "      <td>53</td>\n",
       "      <td>64</td>\n",
       "      <td>31</td>\n",
       "      <td>12</td>\n",
       "    </tr>\n",
       "    <tr>\n",
       "      <td>chr8</td>\n",
       "      <td>221</td>\n",
       "      <td>12</td>\n",
       "      <td>78</td>\n",
       "      <td>89</td>\n",
       "      <td>29</td>\n",
       "      <td>13</td>\n",
       "    </tr>\n",
       "    <tr>\n",
       "      <td>chr9</td>\n",
       "      <td>129</td>\n",
       "      <td>8</td>\n",
       "      <td>40</td>\n",
       "      <td>55</td>\n",
       "      <td>20</td>\n",
       "      <td>6</td>\n",
       "    </tr>\n",
       "    <tr>\n",
       "      <td>chr10</td>\n",
       "      <td>142</td>\n",
       "      <td>11</td>\n",
       "      <td>35</td>\n",
       "      <td>58</td>\n",
       "      <td>27</td>\n",
       "      <td>11</td>\n",
       "    </tr>\n",
       "    <tr>\n",
       "      <td>chr11</td>\n",
       "      <td>181</td>\n",
       "      <td>15</td>\n",
       "      <td>51</td>\n",
       "      <td>74</td>\n",
       "      <td>34</td>\n",
       "      <td>7</td>\n",
       "    </tr>\n",
       "    <tr>\n",
       "      <td>chr12</td>\n",
       "      <td>166</td>\n",
       "      <td>10</td>\n",
       "      <td>46</td>\n",
       "      <td>77</td>\n",
       "      <td>29</td>\n",
       "      <td>4</td>\n",
       "    </tr>\n",
       "    <tr>\n",
       "      <td>chr13</td>\n",
       "      <td>81</td>\n",
       "      <td>9</td>\n",
       "      <td>27</td>\n",
       "      <td>38</td>\n",
       "      <td>5</td>\n",
       "      <td>2</td>\n",
       "    </tr>\n",
       "    <tr>\n",
       "      <td>chr14</td>\n",
       "      <td>104</td>\n",
       "      <td>9</td>\n",
       "      <td>29</td>\n",
       "      <td>42</td>\n",
       "      <td>17</td>\n",
       "      <td>7</td>\n",
       "    </tr>\n",
       "    <tr>\n",
       "      <td>chr15</td>\n",
       "      <td>91</td>\n",
       "      <td>6</td>\n",
       "      <td>29</td>\n",
       "      <td>32</td>\n",
       "      <td>18</td>\n",
       "      <td>6</td>\n",
       "    </tr>\n",
       "    <tr>\n",
       "      <td>chr16</td>\n",
       "      <td>56</td>\n",
       "      <td>9</td>\n",
       "      <td>16</td>\n",
       "      <td>21</td>\n",
       "      <td>8</td>\n",
       "      <td>2</td>\n",
       "    </tr>\n",
       "    <tr>\n",
       "      <td>chr17</td>\n",
       "      <td>31</td>\n",
       "      <td>4</td>\n",
       "      <td>14</td>\n",
       "      <td>9</td>\n",
       "      <td>3</td>\n",
       "      <td>1</td>\n",
       "    </tr>\n",
       "    <tr>\n",
       "      <td>chr18</td>\n",
       "      <td>77</td>\n",
       "      <td>10</td>\n",
       "      <td>30</td>\n",
       "      <td>20</td>\n",
       "      <td>13</td>\n",
       "      <td>4</td>\n",
       "    </tr>\n",
       "    <tr>\n",
       "      <td>chr19</td>\n",
       "      <td>27</td>\n",
       "      <td>0</td>\n",
       "      <td>4</td>\n",
       "      <td>14</td>\n",
       "      <td>7</td>\n",
       "      <td>2</td>\n",
       "    </tr>\n",
       "    <tr>\n",
       "      <td>chr20</td>\n",
       "      <td>52</td>\n",
       "      <td>5</td>\n",
       "      <td>15</td>\n",
       "      <td>24</td>\n",
       "      <td>7</td>\n",
       "      <td>1</td>\n",
       "    </tr>\n",
       "    <tr>\n",
       "      <td>chr21</td>\n",
       "      <td>21</td>\n",
       "      <td>0</td>\n",
       "      <td>9</td>\n",
       "      <td>9</td>\n",
       "      <td>2</td>\n",
       "      <td>1</td>\n",
       "    </tr>\n",
       "    <tr>\n",
       "      <td>chr22</td>\n",
       "      <td>20</td>\n",
       "      <td>4</td>\n",
       "      <td>5</td>\n",
       "      <td>6</td>\n",
       "      <td>5</td>\n",
       "      <td>0</td>\n",
       "    </tr>\n",
       "    <tr>\n",
       "      <td>chrY</td>\n",
       "      <td>80</td>\n",
       "      <td>4</td>\n",
       "      <td>27</td>\n",
       "      <td>34</td>\n",
       "      <td>13</td>\n",
       "      <td>2</td>\n",
       "    </tr>\n",
       "    <tr>\n",
       "      <td>chrX</td>\n",
       "      <td>310</td>\n",
       "      <td>27</td>\n",
       "      <td>66</td>\n",
       "      <td>140</td>\n",
       "      <td>61</td>\n",
       "      <td>16</td>\n",
       "    </tr>\n",
       "  </tbody>\n",
       "</table>\n",
       "</div>"
      ],
      "text/plain": [
       "       TOTAL  L1HS  L1PA2  L1PA3  L1PA4  L1PA5\n",
       "chr1     222    29     58     92     36      7\n",
       "chr2     278    23     97     93     53     12\n",
       "chr3     257    21     83     93     49     11\n",
       "chr4     299    34     79    114     56     16\n",
       "chr5     262    24     76    110     44      8\n",
       "chr6     222    16     64     92     40     10\n",
       "chr7     179    19     53     64     31     12\n",
       "chr8     221    12     78     89     29     13\n",
       "chr9     129     8     40     55     20      6\n",
       "chr10    142    11     35     58     27     11\n",
       "chr11    181    15     51     74     34      7\n",
       "chr12    166    10     46     77     29      4\n",
       "chr13     81     9     27     38      5      2\n",
       "chr14    104     9     29     42     17      7\n",
       "chr15     91     6     29     32     18      6\n",
       "chr16     56     9     16     21      8      2\n",
       "chr17     31     4     14      9      3      1\n",
       "chr18     77    10     30     20     13      4\n",
       "chr19     27     0      4     14      7      2\n",
       "chr20     52     5     15     24      7      1\n",
       "chr21     21     0      9      9      2      1\n",
       "chr22     20     4      5      6      5      0\n",
       "chrY      80     4     27     34     13      2\n",
       "chrX     310    27     66    140     61     16"
      ]
     },
     "execution_count": 106,
     "metadata": {},
     "output_type": "execute_result"
    }
   ],
   "source": [
    "# distribution of p394 across chromosomes\n",
    "df_394"
   ]
  },
  {
   "cell_type": "code",
   "execution_count": 107,
   "metadata": {},
   "outputs": [
    {
     "data": {
      "image/png": "[encoded data removed]",
      "text/plain": [
       "<Figure size 1440x1080 with 4 Axes>"
      ]
     },
     "metadata": {},
     "output_type": "display_data"
    }
   ],
   "source": [
    "title_394 = '394 Primer Distribution across hg38 chromosomes'\n",
    "colors_394 = 'viridis'\n",
    "metric_394 = 'braycurtis'\n",
    "\n",
    "cluster_394 = gen_clustermap(df_394, title_394, colors_394, metric_394)"
   ]
  },
  {
   "cell_type": "markdown",
   "metadata": {},
   "source": [
    "#### 489 clustermap"
   ]
  },
  {
   "cell_type": "code",
   "execution_count": 108,
   "metadata": {},
   "outputs": [],
   "source": [
    "fasta_489 = 'c489_flank.fasta'\n",
    "df_489 = chrom_dist_df(fasta_489)\n",
    "df_489.to_csv('c489_distrib_chroms.csv')"
   ]
  },
  {
   "cell_type": "code",
   "execution_count": 109,
   "metadata": {},
   "outputs": [
    {
     "data": {
      "text/html": [
       "<div>\n",
       "<style scoped>\n",
       "    .dataframe tbody tr th:only-of-type {\n",
       "        vertical-align: middle;\n",
       "    }\n",
       "\n",
       "    .dataframe tbody tr th {\n",
       "        vertical-align: top;\n",
       "    }\n",
       "\n",
       "    .dataframe thead th {\n",
       "        text-align: right;\n",
       "    }\n",
       "</style>\n",
       "<table border=\"1\" class=\"dataframe\">\n",
       "  <thead>\n",
       "    <tr style=\"text-align: right;\">\n",
       "      <th></th>\n",
       "      <th>TOTAL</th>\n",
       "      <th>L1HS</th>\n",
       "      <th>L1PA2</th>\n",
       "      <th>L1PA3</th>\n",
       "      <th>L1PA4</th>\n",
       "      <th>L1PA5</th>\n",
       "    </tr>\n",
       "  </thead>\n",
       "  <tbody>\n",
       "    <tr>\n",
       "      <td>chr1</td>\n",
       "      <td>290</td>\n",
       "      <td>30</td>\n",
       "      <td>59</td>\n",
       "      <td>94</td>\n",
       "      <td>60</td>\n",
       "      <td>47</td>\n",
       "    </tr>\n",
       "    <tr>\n",
       "      <td>chr2</td>\n",
       "      <td>344</td>\n",
       "      <td>24</td>\n",
       "      <td>96</td>\n",
       "      <td>97</td>\n",
       "      <td>75</td>\n",
       "      <td>52</td>\n",
       "    </tr>\n",
       "    <tr>\n",
       "      <td>chr3</td>\n",
       "      <td>330</td>\n",
       "      <td>20</td>\n",
       "      <td>83</td>\n",
       "      <td>98</td>\n",
       "      <td>78</td>\n",
       "      <td>51</td>\n",
       "    </tr>\n",
       "    <tr>\n",
       "      <td>chr4</td>\n",
       "      <td>377</td>\n",
       "      <td>34</td>\n",
       "      <td>78</td>\n",
       "      <td>112</td>\n",
       "      <td>91</td>\n",
       "      <td>62</td>\n",
       "    </tr>\n",
       "    <tr>\n",
       "      <td>chr5</td>\n",
       "      <td>332</td>\n",
       "      <td>24</td>\n",
       "      <td>71</td>\n",
       "      <td>110</td>\n",
       "      <td>76</td>\n",
       "      <td>51</td>\n",
       "    </tr>\n",
       "    <tr>\n",
       "      <td>chr6</td>\n",
       "      <td>280</td>\n",
       "      <td>16</td>\n",
       "      <td>60</td>\n",
       "      <td>91</td>\n",
       "      <td>72</td>\n",
       "      <td>41</td>\n",
       "    </tr>\n",
       "    <tr>\n",
       "      <td>chr7</td>\n",
       "      <td>224</td>\n",
       "      <td>20</td>\n",
       "      <td>53</td>\n",
       "      <td>64</td>\n",
       "      <td>50</td>\n",
       "      <td>37</td>\n",
       "    </tr>\n",
       "    <tr>\n",
       "      <td>chr8</td>\n",
       "      <td>266</td>\n",
       "      <td>13</td>\n",
       "      <td>77</td>\n",
       "      <td>85</td>\n",
       "      <td>48</td>\n",
       "      <td>43</td>\n",
       "    </tr>\n",
       "    <tr>\n",
       "      <td>chr9</td>\n",
       "      <td>157</td>\n",
       "      <td>8</td>\n",
       "      <td>40</td>\n",
       "      <td>53</td>\n",
       "      <td>29</td>\n",
       "      <td>27</td>\n",
       "    </tr>\n",
       "    <tr>\n",
       "      <td>chr10</td>\n",
       "      <td>184</td>\n",
       "      <td>11</td>\n",
       "      <td>35</td>\n",
       "      <td>56</td>\n",
       "      <td>50</td>\n",
       "      <td>32</td>\n",
       "    </tr>\n",
       "    <tr>\n",
       "      <td>chr11</td>\n",
       "      <td>237</td>\n",
       "      <td>15</td>\n",
       "      <td>51</td>\n",
       "      <td>76</td>\n",
       "      <td>68</td>\n",
       "      <td>27</td>\n",
       "    </tr>\n",
       "    <tr>\n",
       "      <td>chr12</td>\n",
       "      <td>222</td>\n",
       "      <td>10</td>\n",
       "      <td>44</td>\n",
       "      <td>78</td>\n",
       "      <td>59</td>\n",
       "      <td>31</td>\n",
       "    </tr>\n",
       "    <tr>\n",
       "      <td>chr13</td>\n",
       "      <td>101</td>\n",
       "      <td>9</td>\n",
       "      <td>26</td>\n",
       "      <td>35</td>\n",
       "      <td>14</td>\n",
       "      <td>17</td>\n",
       "    </tr>\n",
       "    <tr>\n",
       "      <td>chr14</td>\n",
       "      <td>135</td>\n",
       "      <td>10</td>\n",
       "      <td>27</td>\n",
       "      <td>40</td>\n",
       "      <td>29</td>\n",
       "      <td>29</td>\n",
       "    </tr>\n",
       "    <tr>\n",
       "      <td>chr15</td>\n",
       "      <td>101</td>\n",
       "      <td>5</td>\n",
       "      <td>27</td>\n",
       "      <td>33</td>\n",
       "      <td>22</td>\n",
       "      <td>14</td>\n",
       "    </tr>\n",
       "    <tr>\n",
       "      <td>chr16</td>\n",
       "      <td>80</td>\n",
       "      <td>9</td>\n",
       "      <td>18</td>\n",
       "      <td>20</td>\n",
       "      <td>20</td>\n",
       "      <td>13</td>\n",
       "    </tr>\n",
       "    <tr>\n",
       "      <td>chr17</td>\n",
       "      <td>33</td>\n",
       "      <td>4</td>\n",
       "      <td>13</td>\n",
       "      <td>8</td>\n",
       "      <td>3</td>\n",
       "      <td>5</td>\n",
       "    </tr>\n",
       "    <tr>\n",
       "      <td>chr18</td>\n",
       "      <td>92</td>\n",
       "      <td>10</td>\n",
       "      <td>31</td>\n",
       "      <td>19</td>\n",
       "      <td>14</td>\n",
       "      <td>18</td>\n",
       "    </tr>\n",
       "    <tr>\n",
       "      <td>chr19</td>\n",
       "      <td>38</td>\n",
       "      <td>0</td>\n",
       "      <td>6</td>\n",
       "      <td>14</td>\n",
       "      <td>15</td>\n",
       "      <td>3</td>\n",
       "    </tr>\n",
       "    <tr>\n",
       "      <td>chr20</td>\n",
       "      <td>56</td>\n",
       "      <td>5</td>\n",
       "      <td>14</td>\n",
       "      <td>21</td>\n",
       "      <td>11</td>\n",
       "      <td>5</td>\n",
       "    </tr>\n",
       "    <tr>\n",
       "      <td>chr21</td>\n",
       "      <td>29</td>\n",
       "      <td>0</td>\n",
       "      <td>9</td>\n",
       "      <td>8</td>\n",
       "      <td>8</td>\n",
       "      <td>4</td>\n",
       "    </tr>\n",
       "    <tr>\n",
       "      <td>chr22</td>\n",
       "      <td>28</td>\n",
       "      <td>3</td>\n",
       "      <td>6</td>\n",
       "      <td>6</td>\n",
       "      <td>9</td>\n",
       "      <td>4</td>\n",
       "    </tr>\n",
       "    <tr>\n",
       "      <td>chrY</td>\n",
       "      <td>90</td>\n",
       "      <td>4</td>\n",
       "      <td>24</td>\n",
       "      <td>33</td>\n",
       "      <td>22</td>\n",
       "      <td>7</td>\n",
       "    </tr>\n",
       "    <tr>\n",
       "      <td>chrX</td>\n",
       "      <td>399</td>\n",
       "      <td>28</td>\n",
       "      <td>63</td>\n",
       "      <td>136</td>\n",
       "      <td>111</td>\n",
       "      <td>61</td>\n",
       "    </tr>\n",
       "  </tbody>\n",
       "</table>\n",
       "</div>"
      ],
      "text/plain": [
       "       TOTAL  L1HS  L1PA2  L1PA3  L1PA4  L1PA5\n",
       "chr1     290    30     59     94     60     47\n",
       "chr2     344    24     96     97     75     52\n",
       "chr3     330    20     83     98     78     51\n",
       "chr4     377    34     78    112     91     62\n",
       "chr5     332    24     71    110     76     51\n",
       "chr6     280    16     60     91     72     41\n",
       "chr7     224    20     53     64     50     37\n",
       "chr8     266    13     77     85     48     43\n",
       "chr9     157     8     40     53     29     27\n",
       "chr10    184    11     35     56     50     32\n",
       "chr11    237    15     51     76     68     27\n",
       "chr12    222    10     44     78     59     31\n",
       "chr13    101     9     26     35     14     17\n",
       "chr14    135    10     27     40     29     29\n",
       "chr15    101     5     27     33     22     14\n",
       "chr16     80     9     18     20     20     13\n",
       "chr17     33     4     13      8      3      5\n",
       "chr18     92    10     31     19     14     18\n",
       "chr19     38     0      6     14     15      3\n",
       "chr20     56     5     14     21     11      5\n",
       "chr21     29     0      9      8      8      4\n",
       "chr22     28     3      6      6      9      4\n",
       "chrY      90     4     24     33     22      7\n",
       "chrX     399    28     63    136    111     61"
      ]
     },
     "execution_count": 109,
     "metadata": {},
     "output_type": "execute_result"
    }
   ],
   "source": [
    "# distribution of p489 across chromosomes\n",
    "df_489"
   ]
  },
  {
   "cell_type": "code",
   "execution_count": 110,
   "metadata": {},
   "outputs": [
    {
     "data": {
      "image/png": "[encoded data removed]",
      "text/plain": [
       "<Figure size 1440x1080 with 4 Axes>"
      ]
     },
     "metadata": {},
     "output_type": "display_data"
    }
   ],
   "source": [
    "title_489 = '489 Primer Distribution across hg38 chromosomes'\n",
    "colors_489 = 'viridis'\n",
    "metric_489 = 'braycurtis'\n",
    "\n",
    "g = gen_clustermap(df_489, title_489, colors_489, metric_489)"
   ]
  },
  {
   "cell_type": "markdown",
   "metadata": {},
   "source": [
    "## 4. Duplicates concatenation in primers flank sequences"
   ]
  },
  {
   "cell_type": "markdown",
   "metadata": {},
   "source": [
    "### 4a. Generate new fasta files with only 300bp flank"
   ]
  },
  {
   "cell_type": "code",
   "execution_count": 331,
   "metadata": {},
   "outputs": [],
   "source": [
    "# strips a list of fasta files' records\n",
    "# write new fasta with input filename + _flank\n",
    "def strip_flank_to_fasta(*fasta):\n",
    "    for fasta_file in fasta:\n",
    "        new_recs = []\n",
    "        for record in SeqIO.parse(fasta_file, \"fasta\"):\n",
    "            new_rec = record\n",
    "            new_rec.seq = record.seq[0:300]\n",
    "            new_recs.append(new_rec)\n",
    "        recs_gen = (rec for rec in new_recs)\n",
    "        out_fasta = f'{fasta_file[:-6]}_flank.fasta'\n",
    "        count = SeqIO.write(recs_gen, out_fasta, 'fasta')\n",
    "        print(f'{count} records reduced to 300bp flank in \"{out_fasta}\"')"
   ]
  },
  {
   "cell_type": "code",
   "execution_count": 332,
   "metadata": {},
   "outputs": [
    {
     "name": "stdout",
     "output_type": "stream",
     "text": [
      "3617 records reduced to 300bp flank in \"255_flank.fasta\"\n",
      "3606 records reduced to 300bp flank in \"394_flank.fasta\"\n",
      "4558 records reduced to 300bp flank in \"489_flank.fasta\"\n"
     ]
    }
   ],
   "source": [
    "p255 = 'c255.fasta'\n",
    "p394 = 'c394.fasta'\n",
    "p489 = 'c489.fasta'\n",
    "strip_flank_to_fasta(p255, p394, p489)"
   ]
  },
  {
   "cell_type": "markdown",
   "metadata": {},
   "source": [
    "### 4b. Concatenate duplicates for each primer flank sequence series"
   ]
  },
  {
   "cell_type": "code",
   "execution_count": 111,
   "metadata": {},
   "outputs": [],
   "source": [
    "# concatenate multiple duplicates (X=A / B=X / B=C ==> X|A|B|C...)\n",
    "# sequences comparison based on strict string equality\n",
    "# takes an input fasta file, writes a new fasta with filename + _dup\n",
    "# returns a pandas dataframe of dup stats\n",
    "def dup_concat(in_fasta):\n",
    "    # collect records in list and count\n",
    "    dup_recs = []\n",
    "    init_count = 0\n",
    "    hs_count = 0\n",
    "    pa2_count = 0\n",
    "    pa3_count = 0\n",
    "    pa4_count = 0\n",
    "    pa5_count = 0\n",
    "    for rec in SeqIO.parse(in_fasta, \"fasta\"):\n",
    "        init_count += 1\n",
    "        dup_recs.append(rec)\n",
    "        if 'L1HS' in rec.id:\n",
    "            hs_count += 1\n",
    "        if 'L1PA2' in rec.id:\n",
    "            pa2_count += 1\n",
    "        if 'L1PA3' in rec.id:\n",
    "            pa3_count += 1\n",
    "        if 'L1PA4' in rec.id:\n",
    "            pa4_count += 1\n",
    "        if 'L1PA5' in rec.id:\n",
    "            pa5_count += 1\n",
    "        \n",
    "    # create duplicates indexes list to remove\n",
    "    # dictionary where shared sequence is key, list of IDs that share this sequence as value\n",
    "    dic_list = []\n",
    "    remove_list = []\n",
    "    dup_idx = 0\n",
    "    for dup in dup_recs:\n",
    "        d_idx = 0\n",
    "        for d in dup_recs:\n",
    "            if (dup.seq._data == d.seq._data) and (dup.id != d.id):\n",
    "                if not any(dup.seq._data in d for d in dic_list):\n",
    "                    seqdic = {dup.seq._data:[dup.id, d.id]}\n",
    "                    dic_list.append(seqdic)\n",
    "                    remove_list.append(dup_idx)\n",
    "                    remove_list.append(d_idx)\n",
    "                else:\n",
    "                    for dic in dic_list:\n",
    "                        for k, v in dic.items():\n",
    "                            if k == dup.seq._data:\n",
    "                                if d.id not in v:\n",
    "                                    v.append(d.id)\n",
    "                                    remove_list.append(d_idx)     \n",
    "            d_idx += 1\n",
    "        dup_idx += 1\n",
    "    \n",
    "    dupN = len(remove_list)\n",
    "    concatN = len(dic_list)\n",
    "    \n",
    "    # remove duplicates from list\n",
    "    for idx in reversed(sorted(remove_list)):\n",
    "        del dup_recs[idx]\n",
    "    \n",
    "    # create new list of duplicate records\n",
    "    multi_dups = []\n",
    "    for dic in dic_list:\n",
    "        same_recs = []\n",
    "        for k, v in dic.items():\n",
    "            for x in v:\n",
    "                new_rec = SeqRecord(Seq(k, generic_dna), name=\"\", description=\"\")\n",
    "                new_rec.id = x\n",
    "                same_recs.append(new_rec)\n",
    "        multi_dups.append(same_recs)\n",
    "    \n",
    "    # count duplicates per type for stats\n",
    "    dup_count = 0\n",
    "    hs_dup_count = 0\n",
    "    pa2_dup_count = 0\n",
    "    pa3_dup_count = 0\n",
    "    pa4_dup_count = 0\n",
    "    pa5_dup_count = 0\n",
    "    for multi in multi_dups:\n",
    "        for x in multi:\n",
    "            dup_count += 1\n",
    "            if 'L1HS' in x.id:\n",
    "                hs_dup_count += 1\n",
    "            if 'L1PA2' in x.id:\n",
    "                pa2_dup_count += 1\n",
    "            if 'L1PA3' in x.id:\n",
    "                pa3_dup_count += 1\n",
    "            if 'L1PA4' in x.id:\n",
    "                pa4_dup_count += 1\n",
    "            if 'L1PA5' in x.id:\n",
    "                pa5_dup_count += 1\n",
    "                \n",
    "    # concatenate duplicate records with different IDs\n",
    "    concat_recs = []\n",
    "    for dic in dic_list:\n",
    "        ids_list = []\n",
    "        for dna_seq, id_list in dic.items():\n",
    "            for _id in id_list:\n",
    "                ids_list.append(_id)\n",
    "            seq = Seq(dna_seq, generic_dna)\n",
    "            new_id = '|'.join(ids_list)\n",
    "            new_rec = SeqRecord(seq, name=\"\", description=\"\")\n",
    "            new_rec.id = new_id\n",
    "            concat_recs.append(new_rec)\n",
    "            \n",
    "    # add concat records back to list       \n",
    "    for dup in concat_recs:\n",
    "        dup_recs.append(dup)\n",
    "    \n",
    "    # write new fasta with new list\n",
    "    recs_gen = (rec for rec in dup_recs)\n",
    "    out_fasta = f'{in_fasta[:-6]}_dup.fasta'\n",
    "    count = SeqIO.write(recs_gen, out_fasta, 'fasta')\n",
    "    \n",
    "    print(f'{dupN} duplicates concatenated in {concatN} records out of {init_count} initial\\n{count} records dumped in new fasta file \"{out_fasta}\"')\n",
    "    \n",
    "    idx_list = ['L1HS', 'L1PA2', 'L1PA3', 'L1PA4', 'L1PA5', 'TOTAL']\n",
    "    n_list = [hs_count, pa2_count, pa3_count, pa4_count, pa5_count, init_count]\n",
    "    dup_list = [hs_dup_count, pa2_dup_count, pa3_dup_count, pa4_dup_count, pa5_dup_count, dup_count]\n",
    "\n",
    "    stat_dic = {'n': n_list, 'dup': dup_list}\n",
    "\n",
    "    df = pd.DataFrame(stat_dic, index = idx_list)\n",
    "    pd.options.display.float_format = '{:.2f}'.format\n",
    "    df['%'] = round(df.dup * 100 / df.n, 2)\n",
    "    stat_df = df.rename_axis(columns=f'{in_fasta[:4]}')\n",
    "    \n",
    "    return stat_df"
   ]
  },
  {
   "cell_type": "markdown",
   "metadata": {},
   "source": [
    "#### 255 dups"
   ]
  },
  {
   "cell_type": "code",
   "execution_count": 112,
   "metadata": {},
   "outputs": [
    {
     "name": "stdout",
     "output_type": "stream",
     "text": [
      "124 duplicates concatenated in 56 records out of 3617 initial\n",
      "3549 records dumped in new fasta file \"255_flank_dup.fasta\"\n"
     ]
    }
   ],
   "source": [
    "f255 = '255_flank.fasta'\n",
    "dup_stat_255_df = dup_concat(f255)\n",
    "dup_stat_255_df.to_csv('255_dup_stat.csv')"
   ]
  },
  {
   "cell_type": "code",
   "execution_count": 113,
   "metadata": {},
   "outputs": [
    {
     "data": {
      "text/html": [
       "<div>\n",
       "<style scoped>\n",
       "    .dataframe tbody tr th:only-of-type {\n",
       "        vertical-align: middle;\n",
       "    }\n",
       "\n",
       "    .dataframe tbody tr th {\n",
       "        vertical-align: top;\n",
       "    }\n",
       "\n",
       "    .dataframe thead th {\n",
       "        text-align: right;\n",
       "    }\n",
       "</style>\n",
       "<table border=\"1\" class=\"dataframe\">\n",
       "  <thead>\n",
       "    <tr style=\"text-align: right;\">\n",
       "      <th>255</th>\n",
       "      <th>n</th>\n",
       "      <th>dup</th>\n",
       "      <th>%</th>\n",
       "    </tr>\n",
       "  </thead>\n",
       "  <tbody>\n",
       "    <tr>\n",
       "      <td>L1HS</td>\n",
       "      <td>319</td>\n",
       "      <td>8</td>\n",
       "      <td>2.51</td>\n",
       "    </tr>\n",
       "    <tr>\n",
       "      <td>L1PA2</td>\n",
       "      <td>1046</td>\n",
       "      <td>30</td>\n",
       "      <td>2.87</td>\n",
       "    </tr>\n",
       "    <tr>\n",
       "      <td>L1PA3</td>\n",
       "      <td>1232</td>\n",
       "      <td>25</td>\n",
       "      <td>2.03</td>\n",
       "    </tr>\n",
       "    <tr>\n",
       "      <td>L1PA4</td>\n",
       "      <td>972</td>\n",
       "      <td>48</td>\n",
       "      <td>4.94</td>\n",
       "    </tr>\n",
       "    <tr>\n",
       "      <td>L1PA5</td>\n",
       "      <td>48</td>\n",
       "      <td>13</td>\n",
       "      <td>27.08</td>\n",
       "    </tr>\n",
       "    <tr>\n",
       "      <td>TOTAL</td>\n",
       "      <td>3617</td>\n",
       "      <td>124</td>\n",
       "      <td>3.43</td>\n",
       "    </tr>\n",
       "  </tbody>\n",
       "</table>\n",
       "</div>"
      ],
      "text/plain": [
       "255       n  dup     %\n",
       "L1HS    319    8  2.51\n",
       "L1PA2  1046   30  2.87\n",
       "L1PA3  1232   25  2.03\n",
       "L1PA4   972   48  4.94\n",
       "L1PA5    48   13 27.08\n",
       "TOTAL  3617  124  3.43"
      ]
     },
     "execution_count": 113,
     "metadata": {},
     "output_type": "execute_result"
    }
   ],
   "source": [
    "dup_stat_255_df"
   ]
  },
  {
   "cell_type": "markdown",
   "metadata": {},
   "source": [
    "#### 394 dups"
   ]
  },
  {
   "cell_type": "code",
   "execution_count": 114,
   "metadata": {},
   "outputs": [
    {
     "name": "stdout",
     "output_type": "stream",
     "text": [
      "116 duplicates concatenated in 55 records out of 3606 initial\n",
      "3545 records dumped in new fasta file \"394_flank_dup.fasta\"\n"
     ]
    }
   ],
   "source": [
    "f394 = '394_flank.fasta'\n",
    "dup_stat_394_df = dup_concat(f394)\n",
    "dup_stat_394_df.to_csv('255_dup_stat.csv')"
   ]
  },
  {
   "cell_type": "code",
   "execution_count": 115,
   "metadata": {},
   "outputs": [
    {
     "data": {
      "text/html": [
       "<div>\n",
       "<style scoped>\n",
       "    .dataframe tbody tr th:only-of-type {\n",
       "        vertical-align: middle;\n",
       "    }\n",
       "\n",
       "    .dataframe tbody tr th {\n",
       "        vertical-align: top;\n",
       "    }\n",
       "\n",
       "    .dataframe thead th {\n",
       "        text-align: right;\n",
       "    }\n",
       "</style>\n",
       "<table border=\"1\" class=\"dataframe\">\n",
       "  <thead>\n",
       "    <tr style=\"text-align: right;\">\n",
       "      <th>394</th>\n",
       "      <th>n</th>\n",
       "      <th>dup</th>\n",
       "      <th>%</th>\n",
       "    </tr>\n",
       "  </thead>\n",
       "  <tbody>\n",
       "    <tr>\n",
       "      <td>L1HS</td>\n",
       "      <td>318</td>\n",
       "      <td>10</td>\n",
       "      <td>3.14</td>\n",
       "    </tr>\n",
       "    <tr>\n",
       "      <td>L1PA2</td>\n",
       "      <td>1051</td>\n",
       "      <td>30</td>\n",
       "      <td>2.85</td>\n",
       "    </tr>\n",
       "    <tr>\n",
       "      <td>L1PA3</td>\n",
       "      <td>1429</td>\n",
       "      <td>28</td>\n",
       "      <td>1.96</td>\n",
       "    </tr>\n",
       "    <tr>\n",
       "      <td>L1PA4</td>\n",
       "      <td>636</td>\n",
       "      <td>38</td>\n",
       "      <td>5.97</td>\n",
       "    </tr>\n",
       "    <tr>\n",
       "      <td>L1PA5</td>\n",
       "      <td>172</td>\n",
       "      <td>10</td>\n",
       "      <td>5.81</td>\n",
       "    </tr>\n",
       "    <tr>\n",
       "      <td>TOTAL</td>\n",
       "      <td>3606</td>\n",
       "      <td>116</td>\n",
       "      <td>3.22</td>\n",
       "    </tr>\n",
       "  </tbody>\n",
       "</table>\n",
       "</div>"
      ],
      "text/plain": [
       "394       n  dup    %\n",
       "L1HS    318   10 3.14\n",
       "L1PA2  1051   30 2.85\n",
       "L1PA3  1429   28 1.96\n",
       "L1PA4   636   38 5.97\n",
       "L1PA5   172   10 5.81\n",
       "TOTAL  3606  116 3.22"
      ]
     },
     "execution_count": 115,
     "metadata": {},
     "output_type": "execute_result"
    }
   ],
   "source": [
    "dup_stat_394_df"
   ]
  },
  {
   "cell_type": "markdown",
   "metadata": {},
   "source": [
    "#### 489 dups"
   ]
  },
  {
   "cell_type": "code",
   "execution_count": 116,
   "metadata": {},
   "outputs": [
    {
     "name": "stdout",
     "output_type": "stream",
     "text": [
      "162 duplicates concatenated in 75 records out of 4558 initial\n",
      "4471 records dumped in new fasta file \"489_flank_dup.fasta\"\n"
     ]
    }
   ],
   "source": [
    "f489 = '489_flank.fasta'\n",
    "dup_stat_489_df = dup_concat(f489)\n",
    "dup_stat_489_df.to_csv('255_dup_stat.csv')"
   ]
  },
  {
   "cell_type": "code",
   "execution_count": 117,
   "metadata": {},
   "outputs": [
    {
     "data": {
      "text/html": [
       "<div>\n",
       "<style scoped>\n",
       "    .dataframe tbody tr th:only-of-type {\n",
       "        vertical-align: middle;\n",
       "    }\n",
       "\n",
       "    .dataframe tbody tr th {\n",
       "        vertical-align: top;\n",
       "    }\n",
       "\n",
       "    .dataframe thead th {\n",
       "        text-align: right;\n",
       "    }\n",
       "</style>\n",
       "<table border=\"1\" class=\"dataframe\">\n",
       "  <thead>\n",
       "    <tr style=\"text-align: right;\">\n",
       "      <th>489</th>\n",
       "      <th>n</th>\n",
       "      <th>dup</th>\n",
       "      <th>%</th>\n",
       "    </tr>\n",
       "  </thead>\n",
       "  <tbody>\n",
       "    <tr>\n",
       "      <td>L1HS</td>\n",
       "      <td>323</td>\n",
       "      <td>12</td>\n",
       "      <td>3.72</td>\n",
       "    </tr>\n",
       "    <tr>\n",
       "      <td>L1PA2</td>\n",
       "      <td>1037</td>\n",
       "      <td>37</td>\n",
       "      <td>3.57</td>\n",
       "    </tr>\n",
       "    <tr>\n",
       "      <td>L1PA3</td>\n",
       "      <td>1423</td>\n",
       "      <td>33</td>\n",
       "      <td>2.32</td>\n",
       "    </tr>\n",
       "    <tr>\n",
       "      <td>L1PA4</td>\n",
       "      <td>1075</td>\n",
       "      <td>48</td>\n",
       "      <td>4.47</td>\n",
       "    </tr>\n",
       "    <tr>\n",
       "      <td>L1PA5</td>\n",
       "      <td>700</td>\n",
       "      <td>32</td>\n",
       "      <td>4.57</td>\n",
       "    </tr>\n",
       "    <tr>\n",
       "      <td>TOTAL</td>\n",
       "      <td>4558</td>\n",
       "      <td>162</td>\n",
       "      <td>3.55</td>\n",
       "    </tr>\n",
       "  </tbody>\n",
       "</table>\n",
       "</div>"
      ],
      "text/plain": [
       "489       n  dup    %\n",
       "L1HS    323   12 3.72\n",
       "L1PA2  1037   37 3.57\n",
       "L1PA3  1423   33 2.32\n",
       "L1PA4  1075   48 4.47\n",
       "L1PA5   700   32 4.57\n",
       "TOTAL  4558  162 3.55"
      ]
     },
     "execution_count": 117,
     "metadata": {},
     "output_type": "execute_result"
    }
   ],
   "source": [
    "dup_stat_489_df"
   ]
  },
  {
   "cell_type": "markdown",
   "metadata": {},
   "source": [
    "## 5. C-T conversion"
   ]
  },
  {
   "cell_type": "code",
   "execution_count": 120,
   "metadata": {},
   "outputs": [],
   "source": [
    "# Convert C by T except in CpGs\n",
    "# takes a variables number of fasta files\n",
    "# writes new converted fasta with filenames + CT\n",
    "def convert_ct_to_fasta(*fasta):\n",
    "    for fasta_file in fasta:\n",
    "        new_recs_list = []\n",
    "        for rec in SeqIO.parse(fasta_file, \"fasta\"):\n",
    "            new_rec = rec\n",
    "            new_seq_list = list(new_rec.seq)\n",
    "            if new_seq_list[-1] ==  'C':\n",
    "                new_seq_list[-1:] = 'T'\n",
    "            for i in range(len(new_seq_list) - 1):\n",
    "                if (new_seq_list[i] == 'C') & (new_seq_list[i+1] != 'G'):\n",
    "                    new_seq_list[i] = 'T'               \n",
    "            new_rec.seq = Seq(''.join(new_seq_list), generic_dna)\n",
    "            new_recs_list.append(new_rec)\n",
    "        rec_gen = (rec for rec in new_recs_list)\n",
    "        out_fasta = f'{fasta_file[:-6]}_T.fasta'\n",
    "        count = SeqIO.write(rec_gen, out_fasta, 'fasta')\n",
    "        print(f'converted {count} records with C->T in {out_fasta}')"
   ]
  },
  {
   "cell_type": "code",
   "execution_count": 121,
   "metadata": {},
   "outputs": [
    {
     "name": "stdout",
     "output_type": "stream",
     "text": [
      "converted 3549 records with C->T in 255_flank_dup_T.fasta\n",
      "converted 3545 records with C->T in 394_flank_dup_T.fasta\n",
      "converted 4471 records with C->T in 489_flank_dup_T.fasta\n"
     ]
    }
   ],
   "source": [
    "d255 = '255_flank_dup.fasta'\n",
    "d394 = '394_flank_dup.fasta'\n",
    "d489 = '489_flank_dup.fasta'\n",
    "convert_ct_to_fasta(d255, d394, d489)"
   ]
  },
  {
   "cell_type": "markdown",
   "metadata": {},
   "source": [
    "## 6. Minimal flank distance analysis"
   ]
  },
  {
   "cell_type": "code",
   "execution_count": 2,
   "metadata": {},
   "outputs": [
    {
     "name": "stdout",
     "output_type": "stream",
     "text": [
      "/mnt/nfs/home/244205/000000-My_Documents/VM-home/l1_parse/work\n"
     ]
    }
   ],
   "source": [
    "%cd work"
   ]
  },
  {
   "cell_type": "code",
   "execution_count": 3,
   "metadata": {},
   "outputs": [],
   "source": [
    "# calculates minimal distance of a series of fastas\n",
    "# returns a pandas dataframe\n",
    "def get_min_dist(length, *fasta):\n",
    "    count_dic = {} \n",
    "    for f in fasta:\n",
    "        count_list = []\n",
    "        for i in range(length):\n",
    "            temp_list = []\n",
    "            for rec in SeqIO.parse(f, 'fasta'):\n",
    "                temp_list.append(rec.seq._data[:i+1])\n",
    "            count_list.append(len(temp_list) - len(set(temp_list)))\n",
    "        count_dic[f'{f[:4]}'] = count_list\n",
    "    \n",
    "    idx = [i for i in range(1,length+1)]\n",
    "    rdf = pd.DataFrame(count_dic,index=idx)\n",
    "    rdf.columns.name='nt'\n",
    "    \n",
    "    return rdf"
   ]
  },
  {
   "cell_type": "code",
   "execution_count": 4,
   "metadata": {},
   "outputs": [
    {
     "name": "stdout",
     "output_type": "stream",
     "text": [
      "['aliceblue', 'antiquewhite', 'aqua', 'aquamarine', 'azure', 'beige', 'bisque', 'black', 'blanchedalmond', 'blue', 'blueviolet', 'brown', 'burlywood', 'cadetblue', 'chartreuse', 'chocolate', 'coral', 'cornflowerblue', 'cornsilk', 'crimson', 'cyan', 'darkblue', 'darkcyan', 'darkgoldenrod', 'darkgray', 'darkgrey', 'darkgreen', 'darkkhaki', 'darkmagenta', 'darkolivegreen', 'darkorange', 'darkorchid', 'darkred', 'darksalmon', 'darkseagreen', 'darkslateblue', 'darkslategray', 'darkslategrey', 'darkturquoise', 'darkviolet', 'deeppink', 'deepskyblue', 'dimgray', 'dimgrey', 'dodgerblue', 'firebrick', 'floralwhite', 'forestgreen', 'fuchsia', 'gainsboro', 'ghostwhite', 'gold', 'goldenrod', 'gray', 'grey', 'green', 'greenyellow', 'honeydew', 'hotpink', 'indianred', 'indigo', 'ivory', 'khaki', 'lavender', 'lavenderblush', 'lawngreen', 'lemonchiffon', 'lightblue', 'lightcoral', 'lightcyan', 'lightgoldenrodyellow', 'lightgray', 'lightgrey', 'lightgreen', 'lightpink', 'lightsalmon', 'lightseagreen', 'lightskyblue', 'lightslategray', 'lightslategrey', 'lightsteelblue', 'lightyellow', 'lime', 'limegreen', 'linen', 'magenta', 'maroon', 'mediumaquamarine', 'mediumblue', 'mediumorchid', 'mediumpurple', 'mediumseagreen', 'mediumslateblue', 'mediumspringgreen', 'mediumturquoise', 'mediumvioletred', 'midnightblue', 'mintcream', 'mistyrose', 'moccasin', 'navajowhite', 'navy', 'oldlace', 'olive', 'olivedrab', 'orange', 'orangered', 'orchid', 'palegoldenrod', 'palegreen', 'paleturquoise', 'palevioletred', 'papayawhip', 'peachpuff', 'peru', 'pink', 'plum', 'powderblue', 'purple', 'red', 'rosybrown', 'royalblue', 'rebeccapurple', 'saddlebrown', 'salmon', 'sandybrown', 'seagreen', 'seashell', 'sienna', 'silver', 'skyblue', 'slateblue', 'slategray', 'slategrey', 'snow', 'springgreen', 'steelblue', 'tan', 'teal', 'thistle', 'tomato', 'turquoise', 'violet', 'wheat', 'white', 'whitesmoke', 'yellow', 'yellowgreen']\n"
     ]
    }
   ],
   "source": [
    "with open('../files/plotly_colors.csv', 'rt') as f:\n",
    "    reader = csv.reader(f)\n",
    "    plotly_colors = list(reader)\n",
    "print(plotly_colors[0])"
   ]
  },
  {
   "cell_type": "code",
   "execution_count": 5,
   "metadata": {
    "scrolled": false
   },
   "outputs": [],
   "source": [
    "# takes a dataframe of any number of columns, returns a fig and exports image\n",
    "def plot_min_dist(rdf):\n",
    "    fig = go.Figure()\n",
    "    sub_colors = ['lightcyan', 'hotpink', 'goldenrod', 'orange', 'peachpuff', 'lightseagreen', 'yellow', 'powderblue', 'slategray', 'rosybrown']\n",
    "    while True:\n",
    "        color_choice = []\n",
    "        for i in range(len(rdf.columns)):\n",
    "            color_choice.append(random.choice(sub_colors))\n",
    "        if len(set(color_choice)) == len(rdf.columns):\n",
    "            break\n",
    "            \n",
    "    idx = 0\n",
    "    for col in rdf.columns:\n",
    "        fig.add_trace(go.Scatter(x=rdf.index, y=rdf[col],\n",
    "                            mode='lines+markers',\n",
    "                            name=col,\n",
    "                            line={'color': color_choice[idx]}))\n",
    "        idx += 1\n",
    "    \n",
    "    fig.update_layout(\n",
    "        title = 'Minimal distance of primers flank sequences',\n",
    "        yaxis = dict(\n",
    "            tickmode = 'linear',\n",
    "            tick0 = 0,\n",
    "            dtick = 200,\n",
    "            showgrid=True,\n",
    "            gridcolor=\"rgb(250, 250, 250)\",\n",
    "            title='number of matches'\n",
    "        ),\n",
    "        xaxis = dict(\n",
    "            tickmode = 'linear',\n",
    "            tick0 = 0,\n",
    "            dtick = 1,\n",
    "            showgrid=True,\n",
    "            gridcolor=\"rgb(250, 250, 250)\",\n",
    "            title=\"nt position from 5' end\"\n",
    "        ),\n",
    "        plot_bgcolor = \"rgb(221, 231, 237)\",\n",
    "        width=680, height=920)\n",
    "    \n",
    "    return fig"
   ]
  },
  {
   "cell_type": "code",
   "execution_count": 6,
   "metadata": {},
   "outputs": [],
   "source": [
    "d255 = 'c255_flank_dup.fasta'\n",
    "d394 = 'c394_flank_dup.fasta'\n",
    "d489 = 'c489_flank_dup.fasta'\n",
    "t255 = 't255_flank_dup.fasta'\n",
    "t394 = 't394_flank_dup.fasta'\n",
    "t489 = 't489_flank_dup.fasta'"
   ]
  },
  {
   "cell_type": "code",
   "execution_count": 8,
   "metadata": {
    "scrolled": true
   },
   "outputs": [
    {
     "data": {
      "text/html": [
       "<div>\n",
       "<style scoped>\n",
       "    .dataframe tbody tr th:only-of-type {\n",
       "        vertical-align: middle;\n",
       "    }\n",
       "\n",
       "    .dataframe tbody tr th {\n",
       "        vertical-align: top;\n",
       "    }\n",
       "\n",
       "    .dataframe thead th {\n",
       "        text-align: right;\n",
       "    }\n",
       "</style>\n",
       "<table border=\"1\" class=\"dataframe\">\n",
       "  <thead>\n",
       "    <tr style=\"text-align: right;\">\n",
       "      <th>nt</th>\n",
       "      <th>c255</th>\n",
       "      <th>c394</th>\n",
       "      <th>c489</th>\n",
       "      <th>t255</th>\n",
       "      <th>t394</th>\n",
       "      <th>t489</th>\n",
       "    </tr>\n",
       "  </thead>\n",
       "  <tbody>\n",
       "    <tr>\n",
       "      <th>1</th>\n",
       "      <td>3544</td>\n",
       "      <td>3540</td>\n",
       "      <td>4466</td>\n",
       "      <td>3544</td>\n",
       "      <td>3540</td>\n",
       "      <td>4466</td>\n",
       "    </tr>\n",
       "    <tr>\n",
       "      <th>2</th>\n",
       "      <td>3532</td>\n",
       "      <td>3528</td>\n",
       "      <td>4454</td>\n",
       "      <td>3535</td>\n",
       "      <td>3531</td>\n",
       "      <td>4457</td>\n",
       "    </tr>\n",
       "    <tr>\n",
       "      <th>3</th>\n",
       "      <td>3484</td>\n",
       "      <td>3480</td>\n",
       "      <td>4406</td>\n",
       "      <td>3506</td>\n",
       "      <td>3502</td>\n",
       "      <td>4429</td>\n",
       "    </tr>\n",
       "    <tr>\n",
       "      <th>4</th>\n",
       "      <td>3308</td>\n",
       "      <td>3304</td>\n",
       "      <td>4226</td>\n",
       "      <td>3429</td>\n",
       "      <td>3425</td>\n",
       "      <td>4349</td>\n",
       "    </tr>\n",
       "    <tr>\n",
       "      <th>5</th>\n",
       "      <td>2716</td>\n",
       "      <td>2724</td>\n",
       "      <td>3615</td>\n",
       "      <td>3227</td>\n",
       "      <td>3230</td>\n",
       "      <td>4145</td>\n",
       "    </tr>\n",
       "    <tr>\n",
       "      <th>6</th>\n",
       "      <td>1598</td>\n",
       "      <td>1614</td>\n",
       "      <td>2301</td>\n",
       "      <td>2799</td>\n",
       "      <td>2801</td>\n",
       "      <td>3678</td>\n",
       "    </tr>\n",
       "    <tr>\n",
       "      <th>7</th>\n",
       "      <td>712</td>\n",
       "      <td>706</td>\n",
       "      <td>1073</td>\n",
       "      <td>2112</td>\n",
       "      <td>2082</td>\n",
       "      <td>2842</td>\n",
       "    </tr>\n",
       "    <tr>\n",
       "      <th>8</th>\n",
       "      <td>279</td>\n",
       "      <td>273</td>\n",
       "      <td>442</td>\n",
       "      <td>1400</td>\n",
       "      <td>1382</td>\n",
       "      <td>1974</td>\n",
       "    </tr>\n",
       "    <tr>\n",
       "      <th>9</th>\n",
       "      <td>120</td>\n",
       "      <td>121</td>\n",
       "      <td>208</td>\n",
       "      <td>822</td>\n",
       "      <td>808</td>\n",
       "      <td>1196</td>\n",
       "    </tr>\n",
       "    <tr>\n",
       "      <th>10</th>\n",
       "      <td>76</td>\n",
       "      <td>76</td>\n",
       "      <td>130</td>\n",
       "      <td>450</td>\n",
       "      <td>437</td>\n",
       "      <td>692</td>\n",
       "    </tr>\n",
       "    <tr>\n",
       "      <th>11</th>\n",
       "      <td>67</td>\n",
       "      <td>68</td>\n",
       "      <td>112</td>\n",
       "      <td>258</td>\n",
       "      <td>263</td>\n",
       "      <td>419</td>\n",
       "    </tr>\n",
       "    <tr>\n",
       "      <th>12</th>\n",
       "      <td>58</td>\n",
       "      <td>60</td>\n",
       "      <td>94</td>\n",
       "      <td>147</td>\n",
       "      <td>152</td>\n",
       "      <td>241</td>\n",
       "    </tr>\n",
       "    <tr>\n",
       "      <th>13</th>\n",
       "      <td>56</td>\n",
       "      <td>55</td>\n",
       "      <td>86</td>\n",
       "      <td>99</td>\n",
       "      <td>104</td>\n",
       "      <td>167</td>\n",
       "    </tr>\n",
       "    <tr>\n",
       "      <th>14</th>\n",
       "      <td>53</td>\n",
       "      <td>49</td>\n",
       "      <td>79</td>\n",
       "      <td>75</td>\n",
       "      <td>78</td>\n",
       "      <td>124</td>\n",
       "    </tr>\n",
       "    <tr>\n",
       "      <th>15</th>\n",
       "      <td>51</td>\n",
       "      <td>45</td>\n",
       "      <td>76</td>\n",
       "      <td>67</td>\n",
       "      <td>67</td>\n",
       "      <td>106</td>\n",
       "    </tr>\n",
       "    <tr>\n",
       "      <th>16</th>\n",
       "      <td>51</td>\n",
       "      <td>45</td>\n",
       "      <td>72</td>\n",
       "      <td>62</td>\n",
       "      <td>61</td>\n",
       "      <td>95</td>\n",
       "    </tr>\n",
       "    <tr>\n",
       "      <th>17</th>\n",
       "      <td>49</td>\n",
       "      <td>44</td>\n",
       "      <td>68</td>\n",
       "      <td>60</td>\n",
       "      <td>58</td>\n",
       "      <td>89</td>\n",
       "    </tr>\n",
       "    <tr>\n",
       "      <th>18</th>\n",
       "      <td>49</td>\n",
       "      <td>44</td>\n",
       "      <td>66</td>\n",
       "      <td>58</td>\n",
       "      <td>55</td>\n",
       "      <td>83</td>\n",
       "    </tr>\n",
       "    <tr>\n",
       "      <th>19</th>\n",
       "      <td>48</td>\n",
       "      <td>42</td>\n",
       "      <td>63</td>\n",
       "      <td>56</td>\n",
       "      <td>50</td>\n",
       "      <td>76</td>\n",
       "    </tr>\n",
       "    <tr>\n",
       "      <th>20</th>\n",
       "      <td>48</td>\n",
       "      <td>42</td>\n",
       "      <td>63</td>\n",
       "      <td>55</td>\n",
       "      <td>49</td>\n",
       "      <td>74</td>\n",
       "    </tr>\n",
       "    <tr>\n",
       "      <th>21</th>\n",
       "      <td>47</td>\n",
       "      <td>41</td>\n",
       "      <td>62</td>\n",
       "      <td>53</td>\n",
       "      <td>48</td>\n",
       "      <td>71</td>\n",
       "    </tr>\n",
       "    <tr>\n",
       "      <th>22</th>\n",
       "      <td>46</td>\n",
       "      <td>41</td>\n",
       "      <td>61</td>\n",
       "      <td>53</td>\n",
       "      <td>48</td>\n",
       "      <td>70</td>\n",
       "    </tr>\n",
       "    <tr>\n",
       "      <th>23</th>\n",
       "      <td>45</td>\n",
       "      <td>40</td>\n",
       "      <td>60</td>\n",
       "      <td>51</td>\n",
       "      <td>47</td>\n",
       "      <td>67</td>\n",
       "    </tr>\n",
       "  </tbody>\n",
       "</table>\n",
       "</div>"
      ],
      "text/plain": [
       "nt  c255  c394  c489  t255  t394  t489\n",
       "1   3544  3540  4466  3544  3540  4466\n",
       "2   3532  3528  4454  3535  3531  4457\n",
       "3   3484  3480  4406  3506  3502  4429\n",
       "4   3308  3304  4226  3429  3425  4349\n",
       "5   2716  2724  3615  3227  3230  4145\n",
       "6   1598  1614  2301  2799  2801  3678\n",
       "7    712   706  1073  2112  2082  2842\n",
       "8    279   273   442  1400  1382  1974\n",
       "9    120   121   208   822   808  1196\n",
       "10    76    76   130   450   437   692\n",
       "11    67    68   112   258   263   419\n",
       "12    58    60    94   147   152   241\n",
       "13    56    55    86    99   104   167\n",
       "14    53    49    79    75    78   124\n",
       "15    51    45    76    67    67   106\n",
       "16    51    45    72    62    61    95\n",
       "17    49    44    68    60    58    89\n",
       "18    49    44    66    58    55    83\n",
       "19    48    42    63    56    50    76\n",
       "20    48    42    63    55    49    74\n",
       "21    47    41    62    53    48    71\n",
       "22    46    41    61    53    48    70\n",
       "23    45    40    60    51    47    67"
      ]
     },
     "execution_count": 8,
     "metadata": {},
     "output_type": "execute_result"
    }
   ],
   "source": [
    "# minimal flank distance dataframe\n",
    "rdf = get_min_dist(23, d255, d394, d489, t255, t394, t489)\n",
    "rdf.to_csv('../result/23nt_min_dist_flank.csv')\n",
    "rdf"
   ]
  },
  {
   "cell_type": "code",
   "execution_count": 9,
   "metadata": {},
   "outputs": [
    {
     "data": {
      "text/html": [
       "        <script type=\"text/javascript\">\n",
       "        window.PlotlyConfig = {MathJaxConfig: 'local'};\n",
       "        if (window.MathJax) {MathJax.Hub.Config({SVG: {font: \"STIX-Web\"}});}\n",
       "        if (typeof require !== 'undefined') {\n",
       "        require.undef(\"plotly\");\n",
       "        requirejs.config({\n",
       "            paths: {\n",
       "                'plotly': ['https://cdn.plot.ly/plotly-latest.min']\n",
       "            }\n",
       "        });\n",
       "        require(['plotly'], function(Plotly) {\n",
       "            window._Plotly = Plotly;\n",
       "        });\n",
       "        }\n",
       "        </script>\n",
       "        "
      ]
     },
     "metadata": {},
     "output_type": "display_data"
    }
   ],
   "source": [
    "plotly.offline.init_notebook_mode(connected=True)"
   ]
  },
  {
   "cell_type": "code",
   "execution_count": 10,
   "metadata": {},
   "outputs": [
    {
     "data": {
      "application/vnd.plotly.v1+json": {
       "config": {
        "linkText": "Export to plot.ly",
        "plotlyServerURL": "https://plot.ly",
        "showLink": false
       },
       "data": [
        {
         "line": {
          "color": "peachpuff"
         },
         "mode": "lines+markers",
         "name": "c255",
         "type": "scatter",
         "x": [
          1,
          2,
          3,
          4,
          5,
          6,
          7,
          8,
          9,
          10,
          11,
          12,
          13,
          14,
          15,
          16,
          17,
          18,
          19,
          20,
          21,
          22,
          23
         ],
         "y": [
          3544,
          3532,
          3484,
          3308,
          2716,
          1598,
          712,
          279,
          120,
          76,
          67,
          58,
          56,
          53,
          51,
          51,
          49,
          49,
          48,
          48,
          47,
          46,
          45
         ]
        },
        {
         "line": {
          "color": "powderblue"
         },
         "mode": "lines+markers",
         "name": "c394",
         "type": "scatter",
         "x": [
          1,
          2,
          3,
          4,
          5,
          6,
          7,
          8,
          9,
          10,
          11,
          12,
          13,
          14,
          15,
          16,
          17,
          18,
          19,
          20,
          21,
          22,
          23
         ],
         "y": [
          3540,
          3528,
          3480,
          3304,
          2724,
          1614,
          706,
          273,
          121,
          76,
          68,
          60,
          55,
          49,
          45,
          45,
          44,
          44,
          42,
          42,
          41,
          41,
          40
         ]
        },
        {
         "line": {
          "color": "rosybrown"
         },
         "mode": "lines+markers",
         "name": "c489",
         "type": "scatter",
         "x": [
          1,
          2,
          3,
          4,
          5,
          6,
          7,
          8,
          9,
          10,
          11,
          12,
          13,
          14,
          15,
          16,
          17,
          18,
          19,
          20,
          21,
          22,
          23
         ],
         "y": [
          4466,
          4454,
          4406,
          4226,
          3615,
          2301,
          1073,
          442,
          208,
          130,
          112,
          94,
          86,
          79,
          76,
          72,
          68,
          66,
          63,
          63,
          62,
          61,
          60
         ]
        },
        {
         "line": {
          "color": "yellow"
         },
         "mode": "lines+markers",
         "name": "t255",
         "type": "scatter",
         "x": [
          1,
          2,
          3,
          4,
          5,
          6,
          7,
          8,
          9,
          10,
          11,
          12,
          13,
          14,
          15,
          16,
          17,
          18,
          19,
          20,
          21,
          22,
          23
         ],
         "y": [
          3544,
          3535,
          3506,
          3429,
          3227,
          2799,
          2112,
          1400,
          822,
          450,
          258,
          147,
          99,
          75,
          67,
          62,
          60,
          58,
          56,
          55,
          53,
          53,
          51
         ]
        },
        {
         "line": {
          "color": "slategray"
         },
         "mode": "lines+markers",
         "name": "t394",
         "type": "scatter",
         "x": [
          1,
          2,
          3,
          4,
          5,
          6,
          7,
          8,
          9,
          10,
          11,
          12,
          13,
          14,
          15,
          16,
          17,
          18,
          19,
          20,
          21,
          22,
          23
         ],
         "y": [
          3540,
          3531,
          3502,
          3425,
          3230,
          2801,
          2082,
          1382,
          808,
          437,
          263,
          152,
          104,
          78,
          67,
          61,
          58,
          55,
          50,
          49,
          48,
          48,
          47
         ]
        },
        {
         "line": {
          "color": "orange"
         },
         "mode": "lines+markers",
         "name": "t489",
         "type": "scatter",
         "x": [
          1,
          2,
          3,
          4,
          5,
          6,
          7,
          8,
          9,
          10,
          11,
          12,
          13,
          14,
          15,
          16,
          17,
          18,
          19,
          20,
          21,
          22,
          23
         ],
         "y": [
          4466,
          4457,
          4429,
          4349,
          4145,
          3678,
          2842,
          1974,
          1196,
          692,
          419,
          241,
          167,
          124,
          106,
          95,
          89,
          83,
          76,
          74,
          71,
          70,
          67
         ]
        }
       ],
       "layout": {
        "height": 920,
        "plot_bgcolor": "rgb(221, 231, 237)",
        "template": {
         "data": {
          "bar": [
           {
            "error_x": {
             "color": "#2a3f5f"
            },
            "error_y": {
             "color": "#2a3f5f"
            },
            "marker": {
             "line": {
              "color": "#E5ECF6",
              "width": 0.5
             }
            },
            "type": "bar"
           }
          ],
          "barpolar": [
           {
            "marker": {
             "line": {
              "color": "#E5ECF6",
              "width": 0.5
             }
            },
            "type": "barpolar"
           }
          ],
          "carpet": [
           {
            "aaxis": {
             "endlinecolor": "#2a3f5f",
             "gridcolor": "white",
             "linecolor": "white",
             "minorgridcolor": "white",
             "startlinecolor": "#2a3f5f"
            },
            "baxis": {
             "endlinecolor": "#2a3f5f",
             "gridcolor": "white",
             "linecolor": "white",
             "minorgridcolor": "white",
             "startlinecolor": "#2a3f5f"
            },
            "type": "carpet"
           }
          ],
          "choropleth": [
           {
            "colorbar": {
             "outlinewidth": 0,
             "ticks": ""
            },
            "type": "choropleth"
           }
          ],
          "contour": [
           {
            "colorbar": {
             "outlinewidth": 0,
             "ticks": ""
            },
            "colorscale": [
             [
              0,
              "#0d0887"
             ],
             [
              0.1111111111111111,
              "#46039f"
             ],
             [
              0.2222222222222222,
              "#7201a8"
             ],
             [
              0.3333333333333333,
              "#9c179e"
             ],
             [
              0.4444444444444444,
              "#bd3786"
             ],
             [
              0.5555555555555556,
              "#d8576b"
             ],
             [
              0.6666666666666666,
              "#ed7953"
             ],
             [
              0.7777777777777778,
              "#fb9f3a"
             ],
             [
              0.8888888888888888,
              "#fdca26"
             ],
             [
              1,
              "#f0f921"
             ]
            ],
            "type": "contour"
           }
          ],
          "contourcarpet": [
           {
            "colorbar": {
             "outlinewidth": 0,
             "ticks": ""
            },
            "type": "contourcarpet"
           }
          ],
          "heatmap": [
           {
            "colorbar": {
             "outlinewidth": 0,
             "ticks": ""
            },
            "colorscale": [
             [
              0,
              "#0d0887"
             ],
             [
              0.1111111111111111,
              "#46039f"
             ],
             [
              0.2222222222222222,
              "#7201a8"
             ],
             [
              0.3333333333333333,
              "#9c179e"
             ],
             [
              0.4444444444444444,
              "#bd3786"
             ],
             [
              0.5555555555555556,
              "#d8576b"
             ],
             [
              0.6666666666666666,
              "#ed7953"
             ],
             [
              0.7777777777777778,
              "#fb9f3a"
             ],
             [
              0.8888888888888888,
              "#fdca26"
             ],
             [
              1,
              "#f0f921"
             ]
            ],
            "type": "heatmap"
           }
          ],
          "heatmapgl": [
           {
            "colorbar": {
             "outlinewidth": 0,
             "ticks": ""
            },
            "colorscale": [
             [
              0,
              "#0d0887"
             ],
             [
              0.1111111111111111,
              "#46039f"
             ],
             [
              0.2222222222222222,
              "#7201a8"
             ],
             [
              0.3333333333333333,
              "#9c179e"
             ],
             [
              0.4444444444444444,
              "#bd3786"
             ],
             [
              0.5555555555555556,
              "#d8576b"
             ],
             [
              0.6666666666666666,
              "#ed7953"
             ],
             [
              0.7777777777777778,
              "#fb9f3a"
             ],
             [
              0.8888888888888888,
              "#fdca26"
             ],
             [
              1,
              "#f0f921"
             ]
            ],
            "type": "heatmapgl"
           }
          ],
          "histogram": [
           {
            "marker": {
             "colorbar": {
              "outlinewidth": 0,
              "ticks": ""
             }
            },
            "type": "histogram"
           }
          ],
          "histogram2d": [
           {
            "colorbar": {
             "outlinewidth": 0,
             "ticks": ""
            },
            "colorscale": [
             [
              0,
              "#0d0887"
             ],
             [
              0.1111111111111111,
              "#46039f"
             ],
             [
              0.2222222222222222,
              "#7201a8"
             ],
             [
              0.3333333333333333,
              "#9c179e"
             ],
             [
              0.4444444444444444,
              "#bd3786"
             ],
             [
              0.5555555555555556,
              "#d8576b"
             ],
             [
              0.6666666666666666,
              "#ed7953"
             ],
             [
              0.7777777777777778,
              "#fb9f3a"
             ],
             [
              0.8888888888888888,
              "#fdca26"
             ],
             [
              1,
              "#f0f921"
             ]
            ],
            "type": "histogram2d"
           }
          ],
          "histogram2dcontour": [
           {
            "colorbar": {
             "outlinewidth": 0,
             "ticks": ""
            },
            "colorscale": [
             [
              0,
              "#0d0887"
             ],
             [
              0.1111111111111111,
              "#46039f"
             ],
             [
              0.2222222222222222,
              "#7201a8"
             ],
             [
              0.3333333333333333,
              "#9c179e"
             ],
             [
              0.4444444444444444,
              "#bd3786"
             ],
             [
              0.5555555555555556,
              "#d8576b"
             ],
             [
              0.6666666666666666,
              "#ed7953"
             ],
             [
              0.7777777777777778,
              "#fb9f3a"
             ],
             [
              0.8888888888888888,
              "#fdca26"
             ],
             [
              1,
              "#f0f921"
             ]
            ],
            "type": "histogram2dcontour"
           }
          ],
          "mesh3d": [
           {
            "colorbar": {
             "outlinewidth": 0,
             "ticks": ""
            },
            "type": "mesh3d"
           }
          ],
          "parcoords": [
           {
            "line": {
             "colorbar": {
              "outlinewidth": 0,
              "ticks": ""
             }
            },
            "type": "parcoords"
           }
          ],
          "scatter": [
           {
            "marker": {
             "colorbar": {
              "outlinewidth": 0,
              "ticks": ""
             }
            },
            "type": "scatter"
           }
          ],
          "scatter3d": [
           {
            "line": {
             "colorbar": {
              "outlinewidth": 0,
              "ticks": ""
             }
            },
            "marker": {
             "colorbar": {
              "outlinewidth": 0,
              "ticks": ""
             }
            },
            "type": "scatter3d"
           }
          ],
          "scattercarpet": [
           {
            "marker": {
             "colorbar": {
              "outlinewidth": 0,
              "ticks": ""
             }
            },
            "type": "scattercarpet"
           }
          ],
          "scattergeo": [
           {
            "marker": {
             "colorbar": {
              "outlinewidth": 0,
              "ticks": ""
             }
            },
            "type": "scattergeo"
           }
          ],
          "scattergl": [
           {
            "marker": {
             "colorbar": {
              "outlinewidth": 0,
              "ticks": ""
             }
            },
            "type": "scattergl"
           }
          ],
          "scattermapbox": [
           {
            "marker": {
             "colorbar": {
              "outlinewidth": 0,
              "ticks": ""
             }
            },
            "type": "scattermapbox"
           }
          ],
          "scatterpolar": [
           {
            "marker": {
             "colorbar": {
              "outlinewidth": 0,
              "ticks": ""
             }
            },
            "type": "scatterpolar"
           }
          ],
          "scatterpolargl": [
           {
            "marker": {
             "colorbar": {
              "outlinewidth": 0,
              "ticks": ""
             }
            },
            "type": "scatterpolargl"
           }
          ],
          "scatterternary": [
           {
            "marker": {
             "colorbar": {
              "outlinewidth": 0,
              "ticks": ""
             }
            },
            "type": "scatterternary"
           }
          ],
          "surface": [
           {
            "colorbar": {
             "outlinewidth": 0,
             "ticks": ""
            },
            "colorscale": [
             [
              0,
              "#0d0887"
             ],
             [
              0.1111111111111111,
              "#46039f"
             ],
             [
              0.2222222222222222,
              "#7201a8"
             ],
             [
              0.3333333333333333,
              "#9c179e"
             ],
             [
              0.4444444444444444,
              "#bd3786"
             ],
             [
              0.5555555555555556,
              "#d8576b"
             ],
             [
              0.6666666666666666,
              "#ed7953"
             ],
             [
              0.7777777777777778,
              "#fb9f3a"
             ],
             [
              0.8888888888888888,
              "#fdca26"
             ],
             [
              1,
              "#f0f921"
             ]
            ],
            "type": "surface"
           }
          ],
          "table": [
           {
            "cells": {
             "fill": {
              "color": "#EBF0F8"
             },
             "line": {
              "color": "white"
             }
            },
            "header": {
             "fill": {
              "color": "#C8D4E3"
             },
             "line": {
              "color": "white"
             }
            },
            "type": "table"
           }
          ]
         },
         "layout": {
          "annotationdefaults": {
           "arrowcolor": "#2a3f5f",
           "arrowhead": 0,
           "arrowwidth": 1
          },
          "colorscale": {
           "diverging": [
            [
             0,
             "#8e0152"
            ],
            [
             0.1,
             "#c51b7d"
            ],
            [
             0.2,
             "#de77ae"
            ],
            [
             0.3,
             "#f1b6da"
            ],
            [
             0.4,
             "#fde0ef"
            ],
            [
             0.5,
             "#f7f7f7"
            ],
            [
             0.6,
             "#e6f5d0"
            ],
            [
             0.7,
             "#b8e186"
            ],
            [
             0.8,
             "#7fbc41"
            ],
            [
             0.9,
             "#4d9221"
            ],
            [
             1,
             "#276419"
            ]
           ],
           "sequential": [
            [
             0,
             "#0d0887"
            ],
            [
             0.1111111111111111,
             "#46039f"
            ],
            [
             0.2222222222222222,
             "#7201a8"
            ],
            [
             0.3333333333333333,
             "#9c179e"
            ],
            [
             0.4444444444444444,
             "#bd3786"
            ],
            [
             0.5555555555555556,
             "#d8576b"
            ],
            [
             0.6666666666666666,
             "#ed7953"
            ],
            [
             0.7777777777777778,
             "#fb9f3a"
            ],
            [
             0.8888888888888888,
             "#fdca26"
            ],
            [
             1,
             "#f0f921"
            ]
           ],
           "sequentialminus": [
            [
             0,
             "#0d0887"
            ],
            [
             0.1111111111111111,
             "#46039f"
            ],
            [
             0.2222222222222222,
             "#7201a8"
            ],
            [
             0.3333333333333333,
             "#9c179e"
            ],
            [
             0.4444444444444444,
             "#bd3786"
            ],
            [
             0.5555555555555556,
             "#d8576b"
            ],
            [
             0.6666666666666666,
             "#ed7953"
            ],
            [
             0.7777777777777778,
             "#fb9f3a"
            ],
            [
             0.8888888888888888,
             "#fdca26"
            ],
            [
             1,
             "#f0f921"
            ]
           ]
          },
          "colorway": [
           "#636efa",
           "#EF553B",
           "#00cc96",
           "#ab63fa",
           "#FFA15A",
           "#19d3f3",
           "#FF6692",
           "#B6E880",
           "#FF97FF",
           "#FECB52"
          ],
          "font": {
           "color": "#2a3f5f"
          },
          "geo": {
           "bgcolor": "white",
           "lakecolor": "white",
           "landcolor": "#E5ECF6",
           "showlakes": true,
           "showland": true,
           "subunitcolor": "white"
          },
          "hoverlabel": {
           "align": "left"
          },
          "hovermode": "closest",
          "mapbox": {
           "style": "light"
          },
          "paper_bgcolor": "white",
          "plot_bgcolor": "#E5ECF6",
          "polar": {
           "angularaxis": {
            "gridcolor": "white",
            "linecolor": "white",
            "ticks": ""
           },
           "bgcolor": "#E5ECF6",
           "radialaxis": {
            "gridcolor": "white",
            "linecolor": "white",
            "ticks": ""
           }
          },
          "scene": {
           "xaxis": {
            "backgroundcolor": "#E5ECF6",
            "gridcolor": "white",
            "gridwidth": 2,
            "linecolor": "white",
            "showbackground": true,
            "ticks": "",
            "zerolinecolor": "white"
           },
           "yaxis": {
            "backgroundcolor": "#E5ECF6",
            "gridcolor": "white",
            "gridwidth": 2,
            "linecolor": "white",
            "showbackground": true,
            "ticks": "",
            "zerolinecolor": "white"
           },
           "zaxis": {
            "backgroundcolor": "#E5ECF6",
            "gridcolor": "white",
            "gridwidth": 2,
            "linecolor": "white",
            "showbackground": true,
            "ticks": "",
            "zerolinecolor": "white"
           }
          },
          "shapedefaults": {
           "line": {
            "color": "#2a3f5f"
           }
          },
          "ternary": {
           "aaxis": {
            "gridcolor": "white",
            "linecolor": "white",
            "ticks": ""
           },
           "baxis": {
            "gridcolor": "white",
            "linecolor": "white",
            "ticks": ""
           },
           "bgcolor": "#E5ECF6",
           "caxis": {
            "gridcolor": "white",
            "linecolor": "white",
            "ticks": ""
           }
          },
          "title": {
           "x": 0.05
          },
          "xaxis": {
           "automargin": true,
           "gridcolor": "white",
           "linecolor": "white",
           "ticks": "",
           "zerolinecolor": "white",
           "zerolinewidth": 2
          },
          "yaxis": {
           "automargin": true,
           "gridcolor": "white",
           "linecolor": "white",
           "ticks": "",
           "zerolinecolor": "white",
           "zerolinewidth": 2
          }
         }
        },
        "title": {
         "text": "Minimal distance of primers flank sequences"
        },
        "width": 680,
        "xaxis": {
         "dtick": 1,
         "gridcolor": "rgb(250, 250, 250)",
         "showgrid": true,
         "tick0": 0,
         "tickmode": "linear",
         "title": {
          "text": "nt position from 5' end"
         }
        },
        "yaxis": {
         "dtick": 200,
         "gridcolor": "rgb(250, 250, 250)",
         "showgrid": true,
         "tick0": 0,
         "tickmode": "linear",
         "title": {
          "text": "number of matches"
         }
        }
       }
      },
      "text/html": [
       "<div>\n",
       "        \n",
       "        \n",
       "            <div id=\"4b12336c-7c85-4947-86ff-0fe5adc62d71\" class=\"plotly-graph-div\" style=\"height:920px; width:680px;\"></div>\n",
       "            <script type=\"text/javascript\">\n",
       "                require([\"plotly\"], function(Plotly) {\n",
       "                    window.PLOTLYENV=window.PLOTLYENV || {};\n",
       "                    \n",
       "                if (document.getElementById(\"4b12336c-7c85-4947-86ff-0fe5adc62d71\")) {\n",
       "                    Plotly.newPlot(\n",
       "                        '4b12336c-7c85-4947-86ff-0fe5adc62d71',\n",
       "                        [{\"line\": {\"color\": \"peachpuff\"}, \"mode\": \"lines+markers\", \"name\": \"c255\", \"type\": \"scatter\", \"x\": [1, 2, 3, 4, 5, 6, 7, 8, 9, 10, 11, 12, 13, 14, 15, 16, 17, 18, 19, 20, 21, 22, 23], \"y\": [3544, 3532, 3484, 3308, 2716, 1598, 712, 279, 120, 76, 67, 58, 56, 53, 51, 51, 49, 49, 48, 48, 47, 46, 45]}, {\"line\": {\"color\": \"powderblue\"}, \"mode\": \"lines+markers\", \"name\": \"c394\", \"type\": \"scatter\", \"x\": [1, 2, 3, 4, 5, 6, 7, 8, 9, 10, 11, 12, 13, 14, 15, 16, 17, 18, 19, 20, 21, 22, 23], \"y\": [3540, 3528, 3480, 3304, 2724, 1614, 706, 273, 121, 76, 68, 60, 55, 49, 45, 45, 44, 44, 42, 42, 41, 41, 40]}, {\"line\": {\"color\": \"rosybrown\"}, \"mode\": \"lines+markers\", \"name\": \"c489\", \"type\": \"scatter\", \"x\": [1, 2, 3, 4, 5, 6, 7, 8, 9, 10, 11, 12, 13, 14, 15, 16, 17, 18, 19, 20, 21, 22, 23], \"y\": [4466, 4454, 4406, 4226, 3615, 2301, 1073, 442, 208, 130, 112, 94, 86, 79, 76, 72, 68, 66, 63, 63, 62, 61, 60]}, {\"line\": {\"color\": \"yellow\"}, \"mode\": \"lines+markers\", \"name\": \"t255\", \"type\": \"scatter\", \"x\": [1, 2, 3, 4, 5, 6, 7, 8, 9, 10, 11, 12, 13, 14, 15, 16, 17, 18, 19, 20, 21, 22, 23], \"y\": [3544, 3535, 3506, 3429, 3227, 2799, 2112, 1400, 822, 450, 258, 147, 99, 75, 67, 62, 60, 58, 56, 55, 53, 53, 51]}, {\"line\": {\"color\": \"slategray\"}, \"mode\": \"lines+markers\", \"name\": \"t394\", \"type\": \"scatter\", \"x\": [1, 2, 3, 4, 5, 6, 7, 8, 9, 10, 11, 12, 13, 14, 15, 16, 17, 18, 19, 20, 21, 22, 23], \"y\": [3540, 3531, 3502, 3425, 3230, 2801, 2082, 1382, 808, 437, 263, 152, 104, 78, 67, 61, 58, 55, 50, 49, 48, 48, 47]}, {\"line\": {\"color\": \"orange\"}, \"mode\": \"lines+markers\", \"name\": \"t489\", \"type\": \"scatter\", \"x\": [1, 2, 3, 4, 5, 6, 7, 8, 9, 10, 11, 12, 13, 14, 15, 16, 17, 18, 19, 20, 21, 22, 23], \"y\": [4466, 4457, 4429, 4349, 4145, 3678, 2842, 1974, 1196, 692, 419, 241, 167, 124, 106, 95, 89, 83, 76, 74, 71, 70, 67]}],\n",
       "                        {\"height\": 920, \"plot_bgcolor\": \"rgb(221, 231, 237)\", \"template\": {\"data\": {\"bar\": [{\"error_x\": {\"color\": \"#2a3f5f\"}, \"error_y\": {\"color\": \"#2a3f5f\"}, \"marker\": {\"line\": {\"color\": \"#E5ECF6\", \"width\": 0.5}}, \"type\": \"bar\"}], \"barpolar\": [{\"marker\": {\"line\": {\"color\": \"#E5ECF6\", \"width\": 0.5}}, \"type\": \"barpolar\"}], \"carpet\": [{\"aaxis\": {\"endlinecolor\": \"#2a3f5f\", \"gridcolor\": \"white\", \"linecolor\": \"white\", \"minorgridcolor\": \"white\", \"startlinecolor\": \"#2a3f5f\"}, \"baxis\": {\"endlinecolor\": \"#2a3f5f\", \"gridcolor\": \"white\", \"linecolor\": \"white\", \"minorgridcolor\": \"white\", \"startlinecolor\": \"#2a3f5f\"}, \"type\": \"carpet\"}], \"choropleth\": [{\"colorbar\": {\"outlinewidth\": 0, \"ticks\": \"\"}, \"type\": \"choropleth\"}], \"contour\": [{\"colorbar\": {\"outlinewidth\": 0, \"ticks\": \"\"}, \"colorscale\": [[0.0, \"#0d0887\"], [0.1111111111111111, \"#46039f\"], [0.2222222222222222, \"#7201a8\"], [0.3333333333333333, \"#9c179e\"], [0.4444444444444444, \"#bd3786\"], [0.5555555555555556, \"#d8576b\"], [0.6666666666666666, \"#ed7953\"], [0.7777777777777778, \"#fb9f3a\"], [0.8888888888888888, \"#fdca26\"], [1.0, \"#f0f921\"]], \"type\": \"contour\"}], \"contourcarpet\": [{\"colorbar\": {\"outlinewidth\": 0, \"ticks\": \"\"}, \"type\": \"contourcarpet\"}], \"heatmap\": [{\"colorbar\": {\"outlinewidth\": 0, \"ticks\": \"\"}, \"colorscale\": [[0.0, \"#0d0887\"], [0.1111111111111111, \"#46039f\"], [0.2222222222222222, \"#7201a8\"], [0.3333333333333333, \"#9c179e\"], [0.4444444444444444, \"#bd3786\"], [0.5555555555555556, \"#d8576b\"], [0.6666666666666666, \"#ed7953\"], [0.7777777777777778, \"#fb9f3a\"], [0.8888888888888888, \"#fdca26\"], [1.0, \"#f0f921\"]], \"type\": \"heatmap\"}], \"heatmapgl\": [{\"colorbar\": {\"outlinewidth\": 0, \"ticks\": \"\"}, \"colorscale\": [[0.0, \"#0d0887\"], [0.1111111111111111, \"#46039f\"], [0.2222222222222222, \"#7201a8\"], [0.3333333333333333, \"#9c179e\"], [0.4444444444444444, \"#bd3786\"], [0.5555555555555556, \"#d8576b\"], [0.6666666666666666, \"#ed7953\"], [0.7777777777777778, \"#fb9f3a\"], [0.8888888888888888, \"#fdca26\"], [1.0, \"#f0f921\"]], \"type\": \"heatmapgl\"}], \"histogram\": [{\"marker\": {\"colorbar\": {\"outlinewidth\": 0, \"ticks\": \"\"}}, \"type\": \"histogram\"}], \"histogram2d\": [{\"colorbar\": {\"outlinewidth\": 0, \"ticks\": \"\"}, \"colorscale\": [[0.0, \"#0d0887\"], [0.1111111111111111, \"#46039f\"], [0.2222222222222222, \"#7201a8\"], [0.3333333333333333, \"#9c179e\"], [0.4444444444444444, \"#bd3786\"], [0.5555555555555556, \"#d8576b\"], [0.6666666666666666, \"#ed7953\"], [0.7777777777777778, \"#fb9f3a\"], [0.8888888888888888, \"#fdca26\"], [1.0, \"#f0f921\"]], \"type\": \"histogram2d\"}], \"histogram2dcontour\": [{\"colorbar\": {\"outlinewidth\": 0, \"ticks\": \"\"}, \"colorscale\": [[0.0, \"#0d0887\"], [0.1111111111111111, \"#46039f\"], [0.2222222222222222, \"#7201a8\"], [0.3333333333333333, \"#9c179e\"], [0.4444444444444444, \"#bd3786\"], [0.5555555555555556, \"#d8576b\"], [0.6666666666666666, \"#ed7953\"], [0.7777777777777778, \"#fb9f3a\"], [0.8888888888888888, \"#fdca26\"], [1.0, \"#f0f921\"]], \"type\": \"histogram2dcontour\"}], \"mesh3d\": [{\"colorbar\": {\"outlinewidth\": 0, \"ticks\": \"\"}, \"type\": \"mesh3d\"}], \"parcoords\": [{\"line\": {\"colorbar\": {\"outlinewidth\": 0, \"ticks\": \"\"}}, \"type\": \"parcoords\"}], \"scatter\": [{\"marker\": {\"colorbar\": {\"outlinewidth\": 0, \"ticks\": \"\"}}, \"type\": \"scatter\"}], \"scatter3d\": [{\"line\": {\"colorbar\": {\"outlinewidth\": 0, \"ticks\": \"\"}}, \"marker\": {\"colorbar\": {\"outlinewidth\": 0, \"ticks\": \"\"}}, \"type\": \"scatter3d\"}], \"scattercarpet\": [{\"marker\": {\"colorbar\": {\"outlinewidth\": 0, \"ticks\": \"\"}}, \"type\": \"scattercarpet\"}], \"scattergeo\": [{\"marker\": {\"colorbar\": {\"outlinewidth\": 0, \"ticks\": \"\"}}, \"type\": \"scattergeo\"}], \"scattergl\": [{\"marker\": {\"colorbar\": {\"outlinewidth\": 0, \"ticks\": \"\"}}, \"type\": \"scattergl\"}], \"scattermapbox\": [{\"marker\": {\"colorbar\": {\"outlinewidth\": 0, \"ticks\": \"\"}}, \"type\": \"scattermapbox\"}], \"scatterpolar\": [{\"marker\": {\"colorbar\": {\"outlinewidth\": 0, \"ticks\": \"\"}}, \"type\": \"scatterpolar\"}], \"scatterpolargl\": [{\"marker\": {\"colorbar\": {\"outlinewidth\": 0, \"ticks\": \"\"}}, \"type\": \"scatterpolargl\"}], \"scatterternary\": [{\"marker\": {\"colorbar\": {\"outlinewidth\": 0, \"ticks\": \"\"}}, \"type\": \"scatterternary\"}], \"surface\": [{\"colorbar\": {\"outlinewidth\": 0, \"ticks\": \"\"}, \"colorscale\": [[0.0, \"#0d0887\"], [0.1111111111111111, \"#46039f\"], [0.2222222222222222, \"#7201a8\"], [0.3333333333333333, \"#9c179e\"], [0.4444444444444444, \"#bd3786\"], [0.5555555555555556, \"#d8576b\"], [0.6666666666666666, \"#ed7953\"], [0.7777777777777778, \"#fb9f3a\"], [0.8888888888888888, \"#fdca26\"], [1.0, \"#f0f921\"]], \"type\": \"surface\"}], \"table\": [{\"cells\": {\"fill\": {\"color\": \"#EBF0F8\"}, \"line\": {\"color\": \"white\"}}, \"header\": {\"fill\": {\"color\": \"#C8D4E3\"}, \"line\": {\"color\": \"white\"}}, \"type\": \"table\"}]}, \"layout\": {\"annotationdefaults\": {\"arrowcolor\": \"#2a3f5f\", \"arrowhead\": 0, \"arrowwidth\": 1}, \"colorscale\": {\"diverging\": [[0, \"#8e0152\"], [0.1, \"#c51b7d\"], [0.2, \"#de77ae\"], [0.3, \"#f1b6da\"], [0.4, \"#fde0ef\"], [0.5, \"#f7f7f7\"], [0.6, \"#e6f5d0\"], [0.7, \"#b8e186\"], [0.8, \"#7fbc41\"], [0.9, \"#4d9221\"], [1, \"#276419\"]], \"sequential\": [[0.0, \"#0d0887\"], [0.1111111111111111, \"#46039f\"], [0.2222222222222222, \"#7201a8\"], [0.3333333333333333, \"#9c179e\"], [0.4444444444444444, \"#bd3786\"], [0.5555555555555556, \"#d8576b\"], [0.6666666666666666, \"#ed7953\"], [0.7777777777777778, \"#fb9f3a\"], [0.8888888888888888, \"#fdca26\"], [1.0, \"#f0f921\"]], \"sequentialminus\": [[0.0, \"#0d0887\"], [0.1111111111111111, \"#46039f\"], [0.2222222222222222, \"#7201a8\"], [0.3333333333333333, \"#9c179e\"], [0.4444444444444444, \"#bd3786\"], [0.5555555555555556, \"#d8576b\"], [0.6666666666666666, \"#ed7953\"], [0.7777777777777778, \"#fb9f3a\"], [0.8888888888888888, \"#fdca26\"], [1.0, \"#f0f921\"]]}, \"colorway\": [\"#636efa\", \"#EF553B\", \"#00cc96\", \"#ab63fa\", \"#FFA15A\", \"#19d3f3\", \"#FF6692\", \"#B6E880\", \"#FF97FF\", \"#FECB52\"], \"font\": {\"color\": \"#2a3f5f\"}, \"geo\": {\"bgcolor\": \"white\", \"lakecolor\": \"white\", \"landcolor\": \"#E5ECF6\", \"showlakes\": true, \"showland\": true, \"subunitcolor\": \"white\"}, \"hoverlabel\": {\"align\": \"left\"}, \"hovermode\": \"closest\", \"mapbox\": {\"style\": \"light\"}, \"paper_bgcolor\": \"white\", \"plot_bgcolor\": \"#E5ECF6\", \"polar\": {\"angularaxis\": {\"gridcolor\": \"white\", \"linecolor\": \"white\", \"ticks\": \"\"}, \"bgcolor\": \"#E5ECF6\", \"radialaxis\": {\"gridcolor\": \"white\", \"linecolor\": \"white\", \"ticks\": \"\"}}, \"scene\": {\"xaxis\": {\"backgroundcolor\": \"#E5ECF6\", \"gridcolor\": \"white\", \"gridwidth\": 2, \"linecolor\": \"white\", \"showbackground\": true, \"ticks\": \"\", \"zerolinecolor\": \"white\"}, \"yaxis\": {\"backgroundcolor\": \"#E5ECF6\", \"gridcolor\": \"white\", \"gridwidth\": 2, \"linecolor\": \"white\", \"showbackground\": true, \"ticks\": \"\", \"zerolinecolor\": \"white\"}, \"zaxis\": {\"backgroundcolor\": \"#E5ECF6\", \"gridcolor\": \"white\", \"gridwidth\": 2, \"linecolor\": \"white\", \"showbackground\": true, \"ticks\": \"\", \"zerolinecolor\": \"white\"}}, \"shapedefaults\": {\"line\": {\"color\": \"#2a3f5f\"}}, \"ternary\": {\"aaxis\": {\"gridcolor\": \"white\", \"linecolor\": \"white\", \"ticks\": \"\"}, \"baxis\": {\"gridcolor\": \"white\", \"linecolor\": \"white\", \"ticks\": \"\"}, \"bgcolor\": \"#E5ECF6\", \"caxis\": {\"gridcolor\": \"white\", \"linecolor\": \"white\", \"ticks\": \"\"}}, \"title\": {\"x\": 0.05}, \"xaxis\": {\"automargin\": true, \"gridcolor\": \"white\", \"linecolor\": \"white\", \"ticks\": \"\", \"zerolinecolor\": \"white\", \"zerolinewidth\": 2}, \"yaxis\": {\"automargin\": true, \"gridcolor\": \"white\", \"linecolor\": \"white\", \"ticks\": \"\", \"zerolinecolor\": \"white\", \"zerolinewidth\": 2}}}, \"title\": {\"text\": \"Minimal distance of primers flank sequences\"}, \"width\": 680, \"xaxis\": {\"dtick\": 1, \"gridcolor\": \"rgb(250, 250, 250)\", \"showgrid\": true, \"tick0\": 0, \"tickmode\": \"linear\", \"title\": {\"text\": \"nt position from 5' end\"}}, \"yaxis\": {\"dtick\": 200, \"gridcolor\": \"rgb(250, 250, 250)\", \"showgrid\": true, \"tick0\": 0, \"tickmode\": \"linear\", \"title\": {\"text\": \"number of matches\"}}},\n",
       "                        {\"responsive\": true}\n",
       "                    ).then(function(){\n",
       "                            \n",
       "var gd = document.getElementById('4b12336c-7c85-4947-86ff-0fe5adc62d71');\n",
       "var x = new MutationObserver(function (mutations, observer) {{\n",
       "        var display = window.getComputedStyle(gd).display;\n",
       "        if (!display || display === 'none') {{\n",
       "            console.log([gd, 'removed!']);\n",
       "            Plotly.purge(gd);\n",
       "            observer.disconnect();\n",
       "        }}\n",
       "}});\n",
       "\n",
       "// Listen for the removal of the full notebook cells\n",
       "var notebookContainer = gd.closest('#notebook-container');\n",
       "if (notebookContainer) {{\n",
       "    x.observe(notebookContainer, {childList: true});\n",
       "}}\n",
       "\n",
       "// Listen for the clearing of the current output cell\n",
       "var outputEl = gd.closest('.output');\n",
       "if (outputEl) {{\n",
       "    x.observe(outputEl, {childList: true});\n",
       "}}\n",
       "\n",
       "                        })\n",
       "                };\n",
       "                });\n",
       "            </script>\n",
       "        </div>"
      ]
     },
     "metadata": {},
     "output_type": "display_data"
    }
   ],
   "source": [
    "fig= plot_min_dist(rdf)\n",
    "filename = '23nt_min_dist_flank.png'\n",
    "plotly.offline.iplot(fig)"
   ]
  },
  {
   "cell_type": "code",
   "execution_count": 11,
   "metadata": {},
   "outputs": [],
   "source": [
    "pio.write_image(fig, '../result/23nt_min_dist_flank.svg')"
   ]
  },
  {
   "cell_type": "code",
   "execution_count": null,
   "metadata": {},
   "outputs": [],
   "source": []
  }
 ],
 "metadata": {
  "kernelspec": {
   "display_name": "Python 3",
   "language": "python",
   "name": "python3"
  },
  "language_info": {
   "codemirror_mode": {
    "name": "ipython",
    "version": 3
   },
   "file_extension": ".py",
   "mimetype": "text/x-python",
   "name": "python",
   "nbconvert_exporter": "python",
   "pygments_lexer": "ipython3",
   "version": "3.6.7"
  }
 },
 "nbformat": 4,
 "nbformat_minor": 2
}
